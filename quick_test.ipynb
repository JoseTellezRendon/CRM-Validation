{
 "cells": [
  {
   "cell_type": "code",
   "execution_count": 2,
   "outputs": [],
   "source": [
    "import pandas as pd"
   ],
   "metadata": {
    "collapsed": false
   }
  },
  {
   "cell_type": "code",
   "execution_count": 12,
   "outputs": [
    {
     "data": {
      "text/plain": "       PIDM_KEY         ID HOLD_TYPE                    HOLD_DESC   \n0      90093643   91323030        ZP  A&S Program Update Required  \\\n1      90106227   95342028        ZP  A&S Program Update Required   \n2      90141162  100019911        ZP  A&S Program Update Required   \n3      90146312  100025061        ZP  A&S Program Update Required   \n4      90176859  100055572        ZP  A&S Program Update Required   \n...         ...        ...       ...                          ...   \n33960  90582968  100408963        IE             International Ed   \n33961  90547266  100373791        IE             International Ed   \n33962  90570432  100396614        IE             International Ed   \n33963  90581092  100407144        LO             Registrar's Hold   \n33964  90575460  100401593        IE             International Ed   \n\n      HOLD_FROM_DATE HOLD_TO_DATE                   HOLD_REASON   HOLD_USER  \n0          15-JAN-14    21-DEC-99                           NaN         NaN  \n1          30-AUG-13    20-JUN-16                           NaN         NaN  \n2          20-APR-17    13-JUL-17                           NaN       LWONG  \n3          12-JUL-19    12-JUL-19                           NaN         NaN  \n4          11-AUG-14    11-AUG-14                           NaN         NaN  \n...              ...          ...                           ...         ...  \n33960      27-JAN-23    23-MAR-23      Approval Rec'd by Global      EIKARI  \n33961      01-APR-21    31-DEC-99  Submit Study Permit Approval  JSPISAYAGI  \n33962      12-JUN-22    31-DEC-99      No proof of Study Permit     TBROOKS  \n33963      04-APR-23    05-APR-23   Daily Regn Attempts Reached         NaN  \n33964      15-JUN-22    21-OCT-22      Approval Rec'd by Global      EIKARI  \n\n[33965 rows x 8 columns]",
      "text/html": "<div>\n<style scoped>\n    .dataframe tbody tr th:only-of-type {\n        vertical-align: middle;\n    }\n\n    .dataframe tbody tr th {\n        vertical-align: top;\n    }\n\n    .dataframe thead th {\n        text-align: right;\n    }\n</style>\n<table border=\"1\" class=\"dataframe\">\n  <thead>\n    <tr style=\"text-align: right;\">\n      <th></th>\n      <th>PIDM_KEY</th>\n      <th>ID</th>\n      <th>HOLD_TYPE</th>\n      <th>HOLD_DESC</th>\n      <th>HOLD_FROM_DATE</th>\n      <th>HOLD_TO_DATE</th>\n      <th>HOLD_REASON</th>\n      <th>HOLD_USER</th>\n    </tr>\n  </thead>\n  <tbody>\n    <tr>\n      <th>0</th>\n      <td>90093643</td>\n      <td>91323030</td>\n      <td>ZP</td>\n      <td>A&amp;S Program Update Required</td>\n      <td>15-JAN-14</td>\n      <td>21-DEC-99</td>\n      <td>NaN</td>\n      <td>NaN</td>\n    </tr>\n    <tr>\n      <th>1</th>\n      <td>90106227</td>\n      <td>95342028</td>\n      <td>ZP</td>\n      <td>A&amp;S Program Update Required</td>\n      <td>30-AUG-13</td>\n      <td>20-JUN-16</td>\n      <td>NaN</td>\n      <td>NaN</td>\n    </tr>\n    <tr>\n      <th>2</th>\n      <td>90141162</td>\n      <td>100019911</td>\n      <td>ZP</td>\n      <td>A&amp;S Program Update Required</td>\n      <td>20-APR-17</td>\n      <td>13-JUL-17</td>\n      <td>NaN</td>\n      <td>LWONG</td>\n    </tr>\n    <tr>\n      <th>3</th>\n      <td>90146312</td>\n      <td>100025061</td>\n      <td>ZP</td>\n      <td>A&amp;S Program Update Required</td>\n      <td>12-JUL-19</td>\n      <td>12-JUL-19</td>\n      <td>NaN</td>\n      <td>NaN</td>\n    </tr>\n    <tr>\n      <th>4</th>\n      <td>90176859</td>\n      <td>100055572</td>\n      <td>ZP</td>\n      <td>A&amp;S Program Update Required</td>\n      <td>11-AUG-14</td>\n      <td>11-AUG-14</td>\n      <td>NaN</td>\n      <td>NaN</td>\n    </tr>\n    <tr>\n      <th>...</th>\n      <td>...</td>\n      <td>...</td>\n      <td>...</td>\n      <td>...</td>\n      <td>...</td>\n      <td>...</td>\n      <td>...</td>\n      <td>...</td>\n    </tr>\n    <tr>\n      <th>33960</th>\n      <td>90582968</td>\n      <td>100408963</td>\n      <td>IE</td>\n      <td>International Ed</td>\n      <td>27-JAN-23</td>\n      <td>23-MAR-23</td>\n      <td>Approval Rec'd by Global</td>\n      <td>EIKARI</td>\n    </tr>\n    <tr>\n      <th>33961</th>\n      <td>90547266</td>\n      <td>100373791</td>\n      <td>IE</td>\n      <td>International Ed</td>\n      <td>01-APR-21</td>\n      <td>31-DEC-99</td>\n      <td>Submit Study Permit Approval</td>\n      <td>JSPISAYAGI</td>\n    </tr>\n    <tr>\n      <th>33962</th>\n      <td>90570432</td>\n      <td>100396614</td>\n      <td>IE</td>\n      <td>International Ed</td>\n      <td>12-JUN-22</td>\n      <td>31-DEC-99</td>\n      <td>No proof of Study Permit</td>\n      <td>TBROOKS</td>\n    </tr>\n    <tr>\n      <th>33963</th>\n      <td>90581092</td>\n      <td>100407144</td>\n      <td>LO</td>\n      <td>Registrar's Hold</td>\n      <td>04-APR-23</td>\n      <td>05-APR-23</td>\n      <td>Daily Regn Attempts Reached</td>\n      <td>NaN</td>\n    </tr>\n    <tr>\n      <th>33964</th>\n      <td>90575460</td>\n      <td>100401593</td>\n      <td>IE</td>\n      <td>International Ed</td>\n      <td>15-JUN-22</td>\n      <td>21-OCT-22</td>\n      <td>Approval Rec'd by Global</td>\n      <td>EIKARI</td>\n    </tr>\n  </tbody>\n</table>\n<p>33965 rows × 8 columns</p>\n</div>"
     },
     "execution_count": 12,
     "metadata": {},
     "output_type": "execute_result"
    }
   ],
   "source": [
    "df1 = pd.read_csv(\"data/Baseline/BT_HOLD_DATA.csv.\", encoding='latin')\n",
    "df1"
   ],
   "metadata": {
    "collapsed": false
   }
  },
  {
   "cell_type": "code",
   "execution_count": 13,
   "outputs": [
    {
     "data": {
      "text/plain": "       lang_pidmkey                          lang_student    lang_id   \n0          90584410  934CD26D-98D8-ED11-A7C5-000D3AE8685A  100410398  \\\n1          90584410  934CD26D-98D8-ED11-A7C5-000D3AE8685A  100410398   \n2          90584410  934CD26D-98D8-ED11-A7C5-000D3AE8685A  100410398   \n3          90582998  E8EE093F-98D8-ED11-A7C5-002248AF80A6  100408993   \n4          90584961  140C135B-98D8-ED11-A7C5-002248B1F6C0  100410943   \n...             ...                                   ...        ...   \n35030      90570727  CEC75BFA-95D8-ED11-A7C5-000D3AE866C8  100396907   \n35031      90570732  D3747224-90D8-ED11-A7C5-002248B1F6EE  100396912   \n35032      90572261  9B4020E7-9AD8-ED11-A7C5-002248AF8630  100398426   \n35033      90581944  5A4C0E6D-98D8-ED11-A7C5-002248AF80A6  100407963   \n35034      90576398  A8FBB88E-96D8-ED11-A7C5-000D3AE86452  100402527   \n\n      lang_holdtype lang_holddescriptionorig   \n0                IE         International Ed  \\\n1                LO         Registrar's Hold   \n2                LO         Registrar's Hold   \n3                IE         International Ed   \n4                LO         Registrar's Hold   \n...             ...                      ...   \n35030            IE         International Ed   \n35031            IE         International Ed   \n35032            IE         International Ed   \n35033            IE         International Ed   \n35034            IE         International Ed   \n\n                       lang_holddescription            lang_holdfromdate   \n0      C88E3682-61D9-ED11-A7C5-002248AF89AD  2023-01-31 00:00:00.0000000  \\\n1      CA8E3682-61D9-ED11-A7C5-002248AF89AD  2023-03-31 00:00:00.0000000   \n2      CA8E3682-61D9-ED11-A7C5-002248AF89AD  2023-04-02 00:00:00.0000000   \n3      C88E3682-61D9-ED11-A7C5-002248AF89AD  2023-01-26 00:00:00.0000000   \n4      CA8E3682-61D9-ED11-A7C5-002248AF89AD  2023-04-02 00:00:00.0000000   \n...                                     ...                          ...   \n35030  C88E3682-61D9-ED11-A7C5-002248AF89AD  2022-07-08 00:00:00.0000000   \n35031  C88E3682-61D9-ED11-A7C5-002248AF89AD  2022-06-14 00:00:00.0000000   \n35032  C88E3682-61D9-ED11-A7C5-002248AF89AD  2023-02-24 00:00:00.0000000   \n35033  C88E3682-61D9-ED11-A7C5-002248AF89AD  2022-10-03 00:00:00.0000000   \n35034  C88E3682-61D9-ED11-A7C5-002248AF89AD  2023-03-09 00:00:00.0000000   \n\n                   lang_holdtodate              lang_holdreason lang_holduser  \n0      2023-02-16 00:00:00.0000000     Approval Rec'd by Global        EIKARI  \n1      2023-04-01 00:00:00.0000000  Daily Regn Attempts Reached           NaN  \n2      2023-04-03 00:00:00.0000000  Daily Regn Attempts Reached           NaN  \n3      2023-02-16 00:00:00.0000000     Approval Rec'd by Global        EIKARI  \n4      2023-04-03 00:00:00.0000000  Daily Regn Attempts Reached           NaN  \n...                            ...                          ...           ...  \n35030  2022-07-08 00:00:00.0000000     Approval Rec'd by Global        EIKARI  \n35031  2022-08-07 00:00:00.0000000     Approval Rec'd by Global        EIKARI  \n35032  2023-03-03 00:00:00.0000000     Approval Rec'd by Global        EIKARI  \n35033  2023-02-17 00:00:00.0000000     Approval Rec'd by Global        EIKARI  \n35034  2023-03-13 00:00:00.0000000     Approval Rec'd by Global        EIKARI  \n\n[35035 rows x 10 columns]",
      "text/html": "<div>\n<style scoped>\n    .dataframe tbody tr th:only-of-type {\n        vertical-align: middle;\n    }\n\n    .dataframe tbody tr th {\n        vertical-align: top;\n    }\n\n    .dataframe thead th {\n        text-align: right;\n    }\n</style>\n<table border=\"1\" class=\"dataframe\">\n  <thead>\n    <tr style=\"text-align: right;\">\n      <th></th>\n      <th>lang_pidmkey</th>\n      <th>lang_student</th>\n      <th>lang_id</th>\n      <th>lang_holdtype</th>\n      <th>lang_holddescriptionorig</th>\n      <th>lang_holddescription</th>\n      <th>lang_holdfromdate</th>\n      <th>lang_holdtodate</th>\n      <th>lang_holdreason</th>\n      <th>lang_holduser</th>\n    </tr>\n  </thead>\n  <tbody>\n    <tr>\n      <th>0</th>\n      <td>90584410</td>\n      <td>934CD26D-98D8-ED11-A7C5-000D3AE8685A</td>\n      <td>100410398</td>\n      <td>IE</td>\n      <td>International Ed</td>\n      <td>C88E3682-61D9-ED11-A7C5-002248AF89AD</td>\n      <td>2023-01-31 00:00:00.0000000</td>\n      <td>2023-02-16 00:00:00.0000000</td>\n      <td>Approval Rec'd by Global</td>\n      <td>EIKARI</td>\n    </tr>\n    <tr>\n      <th>1</th>\n      <td>90584410</td>\n      <td>934CD26D-98D8-ED11-A7C5-000D3AE8685A</td>\n      <td>100410398</td>\n      <td>LO</td>\n      <td>Registrar's Hold</td>\n      <td>CA8E3682-61D9-ED11-A7C5-002248AF89AD</td>\n      <td>2023-03-31 00:00:00.0000000</td>\n      <td>2023-04-01 00:00:00.0000000</td>\n      <td>Daily Regn Attempts Reached</td>\n      <td>NaN</td>\n    </tr>\n    <tr>\n      <th>2</th>\n      <td>90584410</td>\n      <td>934CD26D-98D8-ED11-A7C5-000D3AE8685A</td>\n      <td>100410398</td>\n      <td>LO</td>\n      <td>Registrar's Hold</td>\n      <td>CA8E3682-61D9-ED11-A7C5-002248AF89AD</td>\n      <td>2023-04-02 00:00:00.0000000</td>\n      <td>2023-04-03 00:00:00.0000000</td>\n      <td>Daily Regn Attempts Reached</td>\n      <td>NaN</td>\n    </tr>\n    <tr>\n      <th>3</th>\n      <td>90582998</td>\n      <td>E8EE093F-98D8-ED11-A7C5-002248AF80A6</td>\n      <td>100408993</td>\n      <td>IE</td>\n      <td>International Ed</td>\n      <td>C88E3682-61D9-ED11-A7C5-002248AF89AD</td>\n      <td>2023-01-26 00:00:00.0000000</td>\n      <td>2023-02-16 00:00:00.0000000</td>\n      <td>Approval Rec'd by Global</td>\n      <td>EIKARI</td>\n    </tr>\n    <tr>\n      <th>4</th>\n      <td>90584961</td>\n      <td>140C135B-98D8-ED11-A7C5-002248B1F6C0</td>\n      <td>100410943</td>\n      <td>LO</td>\n      <td>Registrar's Hold</td>\n      <td>CA8E3682-61D9-ED11-A7C5-002248AF89AD</td>\n      <td>2023-04-02 00:00:00.0000000</td>\n      <td>2023-04-03 00:00:00.0000000</td>\n      <td>Daily Regn Attempts Reached</td>\n      <td>NaN</td>\n    </tr>\n    <tr>\n      <th>...</th>\n      <td>...</td>\n      <td>...</td>\n      <td>...</td>\n      <td>...</td>\n      <td>...</td>\n      <td>...</td>\n      <td>...</td>\n      <td>...</td>\n      <td>...</td>\n      <td>...</td>\n    </tr>\n    <tr>\n      <th>35030</th>\n      <td>90570727</td>\n      <td>CEC75BFA-95D8-ED11-A7C5-000D3AE866C8</td>\n      <td>100396907</td>\n      <td>IE</td>\n      <td>International Ed</td>\n      <td>C88E3682-61D9-ED11-A7C5-002248AF89AD</td>\n      <td>2022-07-08 00:00:00.0000000</td>\n      <td>2022-07-08 00:00:00.0000000</td>\n      <td>Approval Rec'd by Global</td>\n      <td>EIKARI</td>\n    </tr>\n    <tr>\n      <th>35031</th>\n      <td>90570732</td>\n      <td>D3747224-90D8-ED11-A7C5-002248B1F6EE</td>\n      <td>100396912</td>\n      <td>IE</td>\n      <td>International Ed</td>\n      <td>C88E3682-61D9-ED11-A7C5-002248AF89AD</td>\n      <td>2022-06-14 00:00:00.0000000</td>\n      <td>2022-08-07 00:00:00.0000000</td>\n      <td>Approval Rec'd by Global</td>\n      <td>EIKARI</td>\n    </tr>\n    <tr>\n      <th>35032</th>\n      <td>90572261</td>\n      <td>9B4020E7-9AD8-ED11-A7C5-002248AF8630</td>\n      <td>100398426</td>\n      <td>IE</td>\n      <td>International Ed</td>\n      <td>C88E3682-61D9-ED11-A7C5-002248AF89AD</td>\n      <td>2023-02-24 00:00:00.0000000</td>\n      <td>2023-03-03 00:00:00.0000000</td>\n      <td>Approval Rec'd by Global</td>\n      <td>EIKARI</td>\n    </tr>\n    <tr>\n      <th>35033</th>\n      <td>90581944</td>\n      <td>5A4C0E6D-98D8-ED11-A7C5-002248AF80A6</td>\n      <td>100407963</td>\n      <td>IE</td>\n      <td>International Ed</td>\n      <td>C88E3682-61D9-ED11-A7C5-002248AF89AD</td>\n      <td>2022-10-03 00:00:00.0000000</td>\n      <td>2023-02-17 00:00:00.0000000</td>\n      <td>Approval Rec'd by Global</td>\n      <td>EIKARI</td>\n    </tr>\n    <tr>\n      <th>35034</th>\n      <td>90576398</td>\n      <td>A8FBB88E-96D8-ED11-A7C5-000D3AE86452</td>\n      <td>100402527</td>\n      <td>IE</td>\n      <td>International Ed</td>\n      <td>C88E3682-61D9-ED11-A7C5-002248AF89AD</td>\n      <td>2023-03-09 00:00:00.0000000</td>\n      <td>2023-03-13 00:00:00.0000000</td>\n      <td>Approval Rec'd by Global</td>\n      <td>EIKARI</td>\n    </tr>\n  </tbody>\n</table>\n<p>35035 rows × 10 columns</p>\n</div>"
     },
     "execution_count": 13,
     "metadata": {},
     "output_type": "execute_result"
    }
   ],
   "source": [
    "df2 = pd.read_csv(\"data/Validate/Hold Data.csv\")\n",
    "df2"
   ],
   "metadata": {
    "collapsed": false
   }
  },
  {
   "cell_type": "code",
   "execution_count": 14,
   "outputs": [
    {
     "data": {
      "text/plain": "PIDM_KEY           int64\nID                 int64\nHOLD_TYPE         object\nHOLD_DESC         object\nHOLD_FROM_DATE    object\nHOLD_TO_DATE      object\nHOLD_REASON       object\nHOLD_USER         object\ndtype: object"
     },
     "execution_count": 14,
     "metadata": {},
     "output_type": "execute_result"
    }
   ],
   "source": [
    "df1.dtypes"
   ],
   "metadata": {
    "collapsed": false
   }
  },
  {
   "cell_type": "code",
   "execution_count": 16,
   "outputs": [
    {
     "data": {
      "text/plain": "0       1999-12-21\n1       2016-06-20\n2       2017-07-13\n3       2019-07-12\n4       2014-08-11\n           ...    \n33960   2023-03-23\n33961   1999-12-31\n33962   1999-12-31\n33963   2023-04-05\n33964   2022-10-21\nName: HOLD_TO_DATE, Length: 33965, dtype: datetime64[ns]"
     },
     "execution_count": 16,
     "metadata": {},
     "output_type": "execute_result"
    }
   ],
   "source": [
    "pd.to_datetime(df1.HOLD_TO_DATE, format=\"%d-%b-%y\")"
   ],
   "metadata": {
    "collapsed": false
   }
  },
  {
   "cell_type": "code",
   "execution_count": 25,
   "outputs": [
    {
     "data": {
      "text/plain": "0       2023-01-31\n1       2023-03-31\n2       2023-04-02\n3       2023-01-26\n4       2023-04-02\n           ...    \n35030   2022-07-08\n35031   2022-06-14\n35032   2023-02-24\n35033   2022-10-03\n35034   2023-03-09\nName: lang_holdfromdate, Length: 35035, dtype: datetime64[ns]"
     },
     "execution_count": 25,
     "metadata": {},
     "output_type": "execute_result"
    }
   ],
   "source": [
    "pd.to_datetime(df2.lang_holdfromdate)"
   ],
   "metadata": {
    "collapsed": false
   }
  },
  {
   "cell_type": "code",
   "execution_count": 20,
   "outputs": [
    {
     "data": {
      "text/plain": "       PIDM_KEY         ID HOLD_TYPE                    HOLD_DESC   \n503    90471850  100299584        LO             Registrar's Hold  \\\n1243   90501650  100328795        ZP  A&S Program Update Required   \n1334   90426660  100257973        LO             Registrar's Hold   \n4436   90260594  100126732        ZP  A&S Program Update Required   \n4616   90209433  100079990        ZP  A&S Program Update Required   \n5699   90267825  100133963        ZP  A&S Program Update Required   \n5942   90278857  100144961        ZP  A&S Program Update Required   \n6797   90255673  100121852        ZP  A&S Program Update Required   \n6879   90489100  100316232        LO             Registrar's Hold   \n10344  90539905  100366551        DC               CS-Dean's Hold   \n11426  90489706  100316840        ZP  A&S Program Update Required   \n11556  90216122  100084632        ZP  A&S Program Update Required   \n12909  90086180   94340213        ZP  A&S Program Update Required   \n12911  90210049  100080393        ZP  A&S Program Update Required   \n14805  90485160  100312292        ZP  A&S Program Update Required   \n15371  90218333  100086233        ZP  A&S Program Update Required   \n17106  90210049  100080393        ZP  A&S Program Update Required   \n18164  90501650  100328795        ZP  A&S Program Update Required   \n18422  90267825  100133963        ZP  A&S Program Update Required   \n19876  90489706  100316840        ZP  A&S Program Update Required   \n20037  90446959  100276534        ZP  A&S Program Update Required   \n20039  90446959  100276534        ZP  A&S Program Update Required   \n20227  90212572  100082699        ZP  A&S Program Update Required   \n21356  90260594  100126732        ZP  A&S Program Update Required   \n21600  90451711  100280657        ZP  A&S Program Update Required   \n23241  90485160  100312292        ZP  A&S Program Update Required   \n23829  90255673  100121852        ZP  A&S Program Update Required   \n23913  90489100  100316232        LO             Registrar's Hold   \n24288  90216122  100084632        ZP  A&S Program Update Required   \n24312  90441515  100271686        ZP  A&S Program Update Required   \n24502  90179482  100058195        ZP  A&S Program Update Required   \n25446  90340999  100188225        ZP  A&S Program Update Required   \n25447  90340999  100188225        ZP  A&S Program Update Required   \n25920  90209433  100079990        ZP  A&S Program Update Required   \n25946  90451711  100280657        ZP  A&S Program Update Required   \n26005  90471850  100299584        LO             Registrar's Hold   \n26768  90248213  100114492        ZP  A&S Program Update Required   \n26769  90248213  100114492        ZP  A&S Program Update Required   \n26799  90426660  100257973        LO             Registrar's Hold   \n28643  90441515  100271686        ZP  A&S Program Update Required   \n28834  90212572  100082699        ZP  A&S Program Update Required   \n29939  90086180   94340213        ZP  A&S Program Update Required   \n31526  90278857  100144961        ZP  A&S Program Update Required   \n31644  90539905  100366551        DC               CS-Dean's Hold   \n32402  90218333  100086233        ZP  A&S Program Update Required   \n33071  90179482  100058195        ZP  A&S Program Update Required   \n\n      HOLD_FROM_DATE HOLD_TO_DATE                  HOLD_REASON HOLD_USER  \n503        16-NOV-17    17-NOV-17  Daily Regn Attempts Reached       NaN  \n1243       11-DEC-20    14-DEC-20                          NaN       NaN  \n1334       28-DEC-15    29-DEC-15  Daily Regn Attempts Reached       NaN  \n4436       03-APR-13    03-APR-13                          NaN       NaN  \n4616       05-AUG-12    05-AUG-12                          NaN       NaN  \n5699       03-NOV-14    18-MAR-17                          NaN       NaN  \n5942       30-JUN-14    30-JUN-14                          NaN       NaN  \n6797       14-NOV-21    14-NOV-21                          NaN       NaN  \n6879       27-MAR-19    28-MAR-19  Daily Regn Attempts Reached       NaN  \n10344      05-OCT-21    18-JAN-22                         SCAI  JCHEDDIE  \n11426      08-JUN-22    15-MAR-23                          NaN   RCHEUNG  \n11556      15-MAR-21    15-MAR-21                          NaN       NaN  \n12909      20-JUN-16    14-NOV-17                          NaN       NaN  \n12911      13-JUL-12    13-JUL-12                          NaN       NaN  \n14805      25-NOV-21    25-NOV-21                          NaN       NaN  \n15371      23-NOV-17    23-NOV-17                          NaN       NaN  \n17106      13-JUL-12    13-JUL-12                          NaN       NaN  \n18164      11-DEC-20    14-DEC-20                          NaN       NaN  \n18422      03-NOV-14    18-MAR-17                          NaN       NaN  \n19876      08-JUN-22    15-MAR-23                          NaN   RCHEUNG  \n20037      12-APR-23    12-APR-23                          NaN       NaN  \n20039      12-APR-23    12-APR-23                          NaN       NaN  \n20227      11-JUN-12    11-JUN-12                          NaN       NaN  \n21356      03-APR-13    03-APR-13                          NaN       NaN  \n21600      08-JUN-18    14-APR-20                          NaN       NaN  \n23241      25-NOV-21    25-NOV-21                          NaN       NaN  \n23829      14-NOV-21    14-NOV-21                          NaN       NaN  \n23913      27-MAR-19    28-MAR-19  Daily Regn Attempts Reached       NaN  \n24288      15-MAR-21    15-MAR-21                          NaN       NaN  \n24312      16-JUL-19    21-DEC-99                          NaN       NaN  \n24502      04-APR-15    04-APR-15                          NaN       NaN  \n25446      08-APR-19    08-APR-19                          NaN       NaN  \n25447      08-APR-19    08-APR-19                          NaN       NaN  \n25920      05-AUG-12    05-AUG-12                          NaN       NaN  \n25946      08-JUN-18    14-APR-20                          NaN       NaN  \n26005      16-NOV-17    17-NOV-17  Daily Regn Attempts Reached       NaN  \n26768      12-DEC-13    12-DEC-13                          NaN       NaN  \n26769      12-DEC-13    12-DEC-13                          NaN       NaN  \n26799      28-DEC-15    29-DEC-15  Daily Regn Attempts Reached       NaN  \n28643      16-JUL-19    21-DEC-99                          NaN       NaN  \n28834      11-JUN-12    11-JUN-12                          NaN       NaN  \n29939      20-JUN-16    14-NOV-17                          NaN       NaN  \n31526      30-JUN-14    30-JUN-14                          NaN       NaN  \n31644      05-OCT-21    18-JAN-22                         SCAI  JCHEDDIE  \n32402      23-NOV-17    23-NOV-17                          NaN       NaN  \n33071      04-APR-15    04-APR-15                          NaN       NaN  ",
      "text/html": "<div>\n<style scoped>\n    .dataframe tbody tr th:only-of-type {\n        vertical-align: middle;\n    }\n\n    .dataframe tbody tr th {\n        vertical-align: top;\n    }\n\n    .dataframe thead th {\n        text-align: right;\n    }\n</style>\n<table border=\"1\" class=\"dataframe\">\n  <thead>\n    <tr style=\"text-align: right;\">\n      <th></th>\n      <th>PIDM_KEY</th>\n      <th>ID</th>\n      <th>HOLD_TYPE</th>\n      <th>HOLD_DESC</th>\n      <th>HOLD_FROM_DATE</th>\n      <th>HOLD_TO_DATE</th>\n      <th>HOLD_REASON</th>\n      <th>HOLD_USER</th>\n    </tr>\n  </thead>\n  <tbody>\n    <tr>\n      <th>503</th>\n      <td>90471850</td>\n      <td>100299584</td>\n      <td>LO</td>\n      <td>Registrar's Hold</td>\n      <td>16-NOV-17</td>\n      <td>17-NOV-17</td>\n      <td>Daily Regn Attempts Reached</td>\n      <td>NaN</td>\n    </tr>\n    <tr>\n      <th>1243</th>\n      <td>90501650</td>\n      <td>100328795</td>\n      <td>ZP</td>\n      <td>A&amp;S Program Update Required</td>\n      <td>11-DEC-20</td>\n      <td>14-DEC-20</td>\n      <td>NaN</td>\n      <td>NaN</td>\n    </tr>\n    <tr>\n      <th>1334</th>\n      <td>90426660</td>\n      <td>100257973</td>\n      <td>LO</td>\n      <td>Registrar's Hold</td>\n      <td>28-DEC-15</td>\n      <td>29-DEC-15</td>\n      <td>Daily Regn Attempts Reached</td>\n      <td>NaN</td>\n    </tr>\n    <tr>\n      <th>4436</th>\n      <td>90260594</td>\n      <td>100126732</td>\n      <td>ZP</td>\n      <td>A&amp;S Program Update Required</td>\n      <td>03-APR-13</td>\n      <td>03-APR-13</td>\n      <td>NaN</td>\n      <td>NaN</td>\n    </tr>\n    <tr>\n      <th>4616</th>\n      <td>90209433</td>\n      <td>100079990</td>\n      <td>ZP</td>\n      <td>A&amp;S Program Update Required</td>\n      <td>05-AUG-12</td>\n      <td>05-AUG-12</td>\n      <td>NaN</td>\n      <td>NaN</td>\n    </tr>\n    <tr>\n      <th>5699</th>\n      <td>90267825</td>\n      <td>100133963</td>\n      <td>ZP</td>\n      <td>A&amp;S Program Update Required</td>\n      <td>03-NOV-14</td>\n      <td>18-MAR-17</td>\n      <td>NaN</td>\n      <td>NaN</td>\n    </tr>\n    <tr>\n      <th>5942</th>\n      <td>90278857</td>\n      <td>100144961</td>\n      <td>ZP</td>\n      <td>A&amp;S Program Update Required</td>\n      <td>30-JUN-14</td>\n      <td>30-JUN-14</td>\n      <td>NaN</td>\n      <td>NaN</td>\n    </tr>\n    <tr>\n      <th>6797</th>\n      <td>90255673</td>\n      <td>100121852</td>\n      <td>ZP</td>\n      <td>A&amp;S Program Update Required</td>\n      <td>14-NOV-21</td>\n      <td>14-NOV-21</td>\n      <td>NaN</td>\n      <td>NaN</td>\n    </tr>\n    <tr>\n      <th>6879</th>\n      <td>90489100</td>\n      <td>100316232</td>\n      <td>LO</td>\n      <td>Registrar's Hold</td>\n      <td>27-MAR-19</td>\n      <td>28-MAR-19</td>\n      <td>Daily Regn Attempts Reached</td>\n      <td>NaN</td>\n    </tr>\n    <tr>\n      <th>10344</th>\n      <td>90539905</td>\n      <td>100366551</td>\n      <td>DC</td>\n      <td>CS-Dean's Hold</td>\n      <td>05-OCT-21</td>\n      <td>18-JAN-22</td>\n      <td>SCAI</td>\n      <td>JCHEDDIE</td>\n    </tr>\n    <tr>\n      <th>11426</th>\n      <td>90489706</td>\n      <td>100316840</td>\n      <td>ZP</td>\n      <td>A&amp;S Program Update Required</td>\n      <td>08-JUN-22</td>\n      <td>15-MAR-23</td>\n      <td>NaN</td>\n      <td>RCHEUNG</td>\n    </tr>\n    <tr>\n      <th>11556</th>\n      <td>90216122</td>\n      <td>100084632</td>\n      <td>ZP</td>\n      <td>A&amp;S Program Update Required</td>\n      <td>15-MAR-21</td>\n      <td>15-MAR-21</td>\n      <td>NaN</td>\n      <td>NaN</td>\n    </tr>\n    <tr>\n      <th>12909</th>\n      <td>90086180</td>\n      <td>94340213</td>\n      <td>ZP</td>\n      <td>A&amp;S Program Update Required</td>\n      <td>20-JUN-16</td>\n      <td>14-NOV-17</td>\n      <td>NaN</td>\n      <td>NaN</td>\n    </tr>\n    <tr>\n      <th>12911</th>\n      <td>90210049</td>\n      <td>100080393</td>\n      <td>ZP</td>\n      <td>A&amp;S Program Update Required</td>\n      <td>13-JUL-12</td>\n      <td>13-JUL-12</td>\n      <td>NaN</td>\n      <td>NaN</td>\n    </tr>\n    <tr>\n      <th>14805</th>\n      <td>90485160</td>\n      <td>100312292</td>\n      <td>ZP</td>\n      <td>A&amp;S Program Update Required</td>\n      <td>25-NOV-21</td>\n      <td>25-NOV-21</td>\n      <td>NaN</td>\n      <td>NaN</td>\n    </tr>\n    <tr>\n      <th>15371</th>\n      <td>90218333</td>\n      <td>100086233</td>\n      <td>ZP</td>\n      <td>A&amp;S Program Update Required</td>\n      <td>23-NOV-17</td>\n      <td>23-NOV-17</td>\n      <td>NaN</td>\n      <td>NaN</td>\n    </tr>\n    <tr>\n      <th>17106</th>\n      <td>90210049</td>\n      <td>100080393</td>\n      <td>ZP</td>\n      <td>A&amp;S Program Update Required</td>\n      <td>13-JUL-12</td>\n      <td>13-JUL-12</td>\n      <td>NaN</td>\n      <td>NaN</td>\n    </tr>\n    <tr>\n      <th>18164</th>\n      <td>90501650</td>\n      <td>100328795</td>\n      <td>ZP</td>\n      <td>A&amp;S Program Update Required</td>\n      <td>11-DEC-20</td>\n      <td>14-DEC-20</td>\n      <td>NaN</td>\n      <td>NaN</td>\n    </tr>\n    <tr>\n      <th>18422</th>\n      <td>90267825</td>\n      <td>100133963</td>\n      <td>ZP</td>\n      <td>A&amp;S Program Update Required</td>\n      <td>03-NOV-14</td>\n      <td>18-MAR-17</td>\n      <td>NaN</td>\n      <td>NaN</td>\n    </tr>\n    <tr>\n      <th>19876</th>\n      <td>90489706</td>\n      <td>100316840</td>\n      <td>ZP</td>\n      <td>A&amp;S Program Update Required</td>\n      <td>08-JUN-22</td>\n      <td>15-MAR-23</td>\n      <td>NaN</td>\n      <td>RCHEUNG</td>\n    </tr>\n    <tr>\n      <th>20037</th>\n      <td>90446959</td>\n      <td>100276534</td>\n      <td>ZP</td>\n      <td>A&amp;S Program Update Required</td>\n      <td>12-APR-23</td>\n      <td>12-APR-23</td>\n      <td>NaN</td>\n      <td>NaN</td>\n    </tr>\n    <tr>\n      <th>20039</th>\n      <td>90446959</td>\n      <td>100276534</td>\n      <td>ZP</td>\n      <td>A&amp;S Program Update Required</td>\n      <td>12-APR-23</td>\n      <td>12-APR-23</td>\n      <td>NaN</td>\n      <td>NaN</td>\n    </tr>\n    <tr>\n      <th>20227</th>\n      <td>90212572</td>\n      <td>100082699</td>\n      <td>ZP</td>\n      <td>A&amp;S Program Update Required</td>\n      <td>11-JUN-12</td>\n      <td>11-JUN-12</td>\n      <td>NaN</td>\n      <td>NaN</td>\n    </tr>\n    <tr>\n      <th>21356</th>\n      <td>90260594</td>\n      <td>100126732</td>\n      <td>ZP</td>\n      <td>A&amp;S Program Update Required</td>\n      <td>03-APR-13</td>\n      <td>03-APR-13</td>\n      <td>NaN</td>\n      <td>NaN</td>\n    </tr>\n    <tr>\n      <th>21600</th>\n      <td>90451711</td>\n      <td>100280657</td>\n      <td>ZP</td>\n      <td>A&amp;S Program Update Required</td>\n      <td>08-JUN-18</td>\n      <td>14-APR-20</td>\n      <td>NaN</td>\n      <td>NaN</td>\n    </tr>\n    <tr>\n      <th>23241</th>\n      <td>90485160</td>\n      <td>100312292</td>\n      <td>ZP</td>\n      <td>A&amp;S Program Update Required</td>\n      <td>25-NOV-21</td>\n      <td>25-NOV-21</td>\n      <td>NaN</td>\n      <td>NaN</td>\n    </tr>\n    <tr>\n      <th>23829</th>\n      <td>90255673</td>\n      <td>100121852</td>\n      <td>ZP</td>\n      <td>A&amp;S Program Update Required</td>\n      <td>14-NOV-21</td>\n      <td>14-NOV-21</td>\n      <td>NaN</td>\n      <td>NaN</td>\n    </tr>\n    <tr>\n      <th>23913</th>\n      <td>90489100</td>\n      <td>100316232</td>\n      <td>LO</td>\n      <td>Registrar's Hold</td>\n      <td>27-MAR-19</td>\n      <td>28-MAR-19</td>\n      <td>Daily Regn Attempts Reached</td>\n      <td>NaN</td>\n    </tr>\n    <tr>\n      <th>24288</th>\n      <td>90216122</td>\n      <td>100084632</td>\n      <td>ZP</td>\n      <td>A&amp;S Program Update Required</td>\n      <td>15-MAR-21</td>\n      <td>15-MAR-21</td>\n      <td>NaN</td>\n      <td>NaN</td>\n    </tr>\n    <tr>\n      <th>24312</th>\n      <td>90441515</td>\n      <td>100271686</td>\n      <td>ZP</td>\n      <td>A&amp;S Program Update Required</td>\n      <td>16-JUL-19</td>\n      <td>21-DEC-99</td>\n      <td>NaN</td>\n      <td>NaN</td>\n    </tr>\n    <tr>\n      <th>24502</th>\n      <td>90179482</td>\n      <td>100058195</td>\n      <td>ZP</td>\n      <td>A&amp;S Program Update Required</td>\n      <td>04-APR-15</td>\n      <td>04-APR-15</td>\n      <td>NaN</td>\n      <td>NaN</td>\n    </tr>\n    <tr>\n      <th>25446</th>\n      <td>90340999</td>\n      <td>100188225</td>\n      <td>ZP</td>\n      <td>A&amp;S Program Update Required</td>\n      <td>08-APR-19</td>\n      <td>08-APR-19</td>\n      <td>NaN</td>\n      <td>NaN</td>\n    </tr>\n    <tr>\n      <th>25447</th>\n      <td>90340999</td>\n      <td>100188225</td>\n      <td>ZP</td>\n      <td>A&amp;S Program Update Required</td>\n      <td>08-APR-19</td>\n      <td>08-APR-19</td>\n      <td>NaN</td>\n      <td>NaN</td>\n    </tr>\n    <tr>\n      <th>25920</th>\n      <td>90209433</td>\n      <td>100079990</td>\n      <td>ZP</td>\n      <td>A&amp;S Program Update Required</td>\n      <td>05-AUG-12</td>\n      <td>05-AUG-12</td>\n      <td>NaN</td>\n      <td>NaN</td>\n    </tr>\n    <tr>\n      <th>25946</th>\n      <td>90451711</td>\n      <td>100280657</td>\n      <td>ZP</td>\n      <td>A&amp;S Program Update Required</td>\n      <td>08-JUN-18</td>\n      <td>14-APR-20</td>\n      <td>NaN</td>\n      <td>NaN</td>\n    </tr>\n    <tr>\n      <th>26005</th>\n      <td>90471850</td>\n      <td>100299584</td>\n      <td>LO</td>\n      <td>Registrar's Hold</td>\n      <td>16-NOV-17</td>\n      <td>17-NOV-17</td>\n      <td>Daily Regn Attempts Reached</td>\n      <td>NaN</td>\n    </tr>\n    <tr>\n      <th>26768</th>\n      <td>90248213</td>\n      <td>100114492</td>\n      <td>ZP</td>\n      <td>A&amp;S Program Update Required</td>\n      <td>12-DEC-13</td>\n      <td>12-DEC-13</td>\n      <td>NaN</td>\n      <td>NaN</td>\n    </tr>\n    <tr>\n      <th>26769</th>\n      <td>90248213</td>\n      <td>100114492</td>\n      <td>ZP</td>\n      <td>A&amp;S Program Update Required</td>\n      <td>12-DEC-13</td>\n      <td>12-DEC-13</td>\n      <td>NaN</td>\n      <td>NaN</td>\n    </tr>\n    <tr>\n      <th>26799</th>\n      <td>90426660</td>\n      <td>100257973</td>\n      <td>LO</td>\n      <td>Registrar's Hold</td>\n      <td>28-DEC-15</td>\n      <td>29-DEC-15</td>\n      <td>Daily Regn Attempts Reached</td>\n      <td>NaN</td>\n    </tr>\n    <tr>\n      <th>28643</th>\n      <td>90441515</td>\n      <td>100271686</td>\n      <td>ZP</td>\n      <td>A&amp;S Program Update Required</td>\n      <td>16-JUL-19</td>\n      <td>21-DEC-99</td>\n      <td>NaN</td>\n      <td>NaN</td>\n    </tr>\n    <tr>\n      <th>28834</th>\n      <td>90212572</td>\n      <td>100082699</td>\n      <td>ZP</td>\n      <td>A&amp;S Program Update Required</td>\n      <td>11-JUN-12</td>\n      <td>11-JUN-12</td>\n      <td>NaN</td>\n      <td>NaN</td>\n    </tr>\n    <tr>\n      <th>29939</th>\n      <td>90086180</td>\n      <td>94340213</td>\n      <td>ZP</td>\n      <td>A&amp;S Program Update Required</td>\n      <td>20-JUN-16</td>\n      <td>14-NOV-17</td>\n      <td>NaN</td>\n      <td>NaN</td>\n    </tr>\n    <tr>\n      <th>31526</th>\n      <td>90278857</td>\n      <td>100144961</td>\n      <td>ZP</td>\n      <td>A&amp;S Program Update Required</td>\n      <td>30-JUN-14</td>\n      <td>30-JUN-14</td>\n      <td>NaN</td>\n      <td>NaN</td>\n    </tr>\n    <tr>\n      <th>31644</th>\n      <td>90539905</td>\n      <td>100366551</td>\n      <td>DC</td>\n      <td>CS-Dean's Hold</td>\n      <td>05-OCT-21</td>\n      <td>18-JAN-22</td>\n      <td>SCAI</td>\n      <td>JCHEDDIE</td>\n    </tr>\n    <tr>\n      <th>32402</th>\n      <td>90218333</td>\n      <td>100086233</td>\n      <td>ZP</td>\n      <td>A&amp;S Program Update Required</td>\n      <td>23-NOV-17</td>\n      <td>23-NOV-17</td>\n      <td>NaN</td>\n      <td>NaN</td>\n    </tr>\n    <tr>\n      <th>33071</th>\n      <td>90179482</td>\n      <td>100058195</td>\n      <td>ZP</td>\n      <td>A&amp;S Program Update Required</td>\n      <td>04-APR-15</td>\n      <td>04-APR-15</td>\n      <td>NaN</td>\n      <td>NaN</td>\n    </tr>\n  </tbody>\n</table>\n</div>"
     },
     "execution_count": 20,
     "metadata": {},
     "output_type": "execute_result"
    }
   ],
   "source": [
    "df1[df1.duplicated(subset=['PIDM_KEY', 'HOLD_TYPE', 'HOLD_FROM_DATE', 'HOLD_TO_DATE', 'HOLD_REASON', 'HOLD_USER'], keep=False)]"
   ],
   "metadata": {
    "collapsed": false
   }
  },
  {
   "cell_type": "code",
   "execution_count": 17,
   "outputs": [
    {
     "data": {
      "text/plain": "       PIDM_KEY         ID HOLD_TYPE                    HOLD_DESC   \n28145  90001327  100001308        ZP  A&S Program Update Required  \\\n32398  90001327  100001308        ZP  A&S Program Update Required   \n23825  90001327  100001308        ZP  A&S Program Update Required   \n8869   90002371  100002349        ZP  A&S Program Update Required   \n17535  90002844   84360361        ZP  A&S Program Update Required   \n...         ...        ...       ...                          ...   \n7662   90592643  100418532        RE            Registration Hold   \n3465   90592663  100418552        RE            Registration Hold   \n29061  90592729  100418618        RE            Registration Hold   \n12254  90592794  100418683        IE             International Ed   \n16549  90593800  100419670        RO             Registrar's Hold   \n\n      HOLD_FROM_DATE HOLD_TO_DATE                    HOLD_REASON HOLD_USER  \n28145      17-JUN-20    17-JUN-20                            NaN       NaN  \n32398      08-JUN-19    17-JUN-20                            NaN       NaN  \n23825      01-FEB-20    17-JUN-20                            NaN       NaN  \n8869       11-FEB-20    21-DEC-99                            NaN       NaN  \n17535      04-JUL-16    21-DEC-99                            NaN       NaN  \n...              ...          ...                            ...       ...  \n7662       31-JUL-23    31-DEC-99  Final IB Diploma + Transcript       ALY  \n3465       31-JUL-23    31-DEC-99          Final SMA Certificate       ALY  \n29061      31-JUL-23    31-DEC-99    Final HS Graduation Diploma       ALY  \n12254      09-MAR-23    10-MAR-23       Approval Rec'd by Global    EIKARI  \n16549      15-SEP-23    05-FEB-25  Concurrent Appeal 202330 ONLY  EVULCANO  \n\n[33965 rows x 8 columns]",
      "text/html": "<div>\n<style scoped>\n    .dataframe tbody tr th:only-of-type {\n        vertical-align: middle;\n    }\n\n    .dataframe tbody tr th {\n        vertical-align: top;\n    }\n\n    .dataframe thead th {\n        text-align: right;\n    }\n</style>\n<table border=\"1\" class=\"dataframe\">\n  <thead>\n    <tr style=\"text-align: right;\">\n      <th></th>\n      <th>PIDM_KEY</th>\n      <th>ID</th>\n      <th>HOLD_TYPE</th>\n      <th>HOLD_DESC</th>\n      <th>HOLD_FROM_DATE</th>\n      <th>HOLD_TO_DATE</th>\n      <th>HOLD_REASON</th>\n      <th>HOLD_USER</th>\n    </tr>\n  </thead>\n  <tbody>\n    <tr>\n      <th>28145</th>\n      <td>90001327</td>\n      <td>100001308</td>\n      <td>ZP</td>\n      <td>A&amp;S Program Update Required</td>\n      <td>17-JUN-20</td>\n      <td>17-JUN-20</td>\n      <td>NaN</td>\n      <td>NaN</td>\n    </tr>\n    <tr>\n      <th>32398</th>\n      <td>90001327</td>\n      <td>100001308</td>\n      <td>ZP</td>\n      <td>A&amp;S Program Update Required</td>\n      <td>08-JUN-19</td>\n      <td>17-JUN-20</td>\n      <td>NaN</td>\n      <td>NaN</td>\n    </tr>\n    <tr>\n      <th>23825</th>\n      <td>90001327</td>\n      <td>100001308</td>\n      <td>ZP</td>\n      <td>A&amp;S Program Update Required</td>\n      <td>01-FEB-20</td>\n      <td>17-JUN-20</td>\n      <td>NaN</td>\n      <td>NaN</td>\n    </tr>\n    <tr>\n      <th>8869</th>\n      <td>90002371</td>\n      <td>100002349</td>\n      <td>ZP</td>\n      <td>A&amp;S Program Update Required</td>\n      <td>11-FEB-20</td>\n      <td>21-DEC-99</td>\n      <td>NaN</td>\n      <td>NaN</td>\n    </tr>\n    <tr>\n      <th>17535</th>\n      <td>90002844</td>\n      <td>84360361</td>\n      <td>ZP</td>\n      <td>A&amp;S Program Update Required</td>\n      <td>04-JUL-16</td>\n      <td>21-DEC-99</td>\n      <td>NaN</td>\n      <td>NaN</td>\n    </tr>\n    <tr>\n      <th>...</th>\n      <td>...</td>\n      <td>...</td>\n      <td>...</td>\n      <td>...</td>\n      <td>...</td>\n      <td>...</td>\n      <td>...</td>\n      <td>...</td>\n    </tr>\n    <tr>\n      <th>7662</th>\n      <td>90592643</td>\n      <td>100418532</td>\n      <td>RE</td>\n      <td>Registration Hold</td>\n      <td>31-JUL-23</td>\n      <td>31-DEC-99</td>\n      <td>Final IB Diploma + Transcript</td>\n      <td>ALY</td>\n    </tr>\n    <tr>\n      <th>3465</th>\n      <td>90592663</td>\n      <td>100418552</td>\n      <td>RE</td>\n      <td>Registration Hold</td>\n      <td>31-JUL-23</td>\n      <td>31-DEC-99</td>\n      <td>Final SMA Certificate</td>\n      <td>ALY</td>\n    </tr>\n    <tr>\n      <th>29061</th>\n      <td>90592729</td>\n      <td>100418618</td>\n      <td>RE</td>\n      <td>Registration Hold</td>\n      <td>31-JUL-23</td>\n      <td>31-DEC-99</td>\n      <td>Final HS Graduation Diploma</td>\n      <td>ALY</td>\n    </tr>\n    <tr>\n      <th>12254</th>\n      <td>90592794</td>\n      <td>100418683</td>\n      <td>IE</td>\n      <td>International Ed</td>\n      <td>09-MAR-23</td>\n      <td>10-MAR-23</td>\n      <td>Approval Rec'd by Global</td>\n      <td>EIKARI</td>\n    </tr>\n    <tr>\n      <th>16549</th>\n      <td>90593800</td>\n      <td>100419670</td>\n      <td>RO</td>\n      <td>Registrar's Hold</td>\n      <td>15-SEP-23</td>\n      <td>05-FEB-25</td>\n      <td>Concurrent Appeal 202330 ONLY</td>\n      <td>EVULCANO</td>\n    </tr>\n  </tbody>\n</table>\n<p>33965 rows × 8 columns</p>\n</div>"
     },
     "execution_count": 17,
     "metadata": {},
     "output_type": "execute_result"
    }
   ],
   "source": [
    "df1.sort_values(by=['PIDM_KEY'])"
   ],
   "metadata": {
    "collapsed": false
   }
  },
  {
   "cell_type": "code",
   "execution_count": 18,
   "outputs": [
    {
     "ename": "AttributeError",
     "evalue": "'DataFrame' object has no attribute 'TERM_CODE_KEY'",
     "output_type": "error",
     "traceback": [
      "\u001B[1;31m---------------------------------------------------------------------------\u001B[0m",
      "\u001B[1;31mAttributeError\u001B[0m                            Traceback (most recent call last)",
      "\u001B[1;32m~\\AppData\\Local\\Temp\\ipykernel_8316\\2074598641.py\u001B[0m in \u001B[0;36m?\u001B[1;34m()\u001B[0m\n\u001B[1;32m----> 1\u001B[1;33m \u001B[0mdf1\u001B[0m\u001B[1;33m.\u001B[0m\u001B[0mTERM_CODE_KEY\u001B[0m\u001B[1;33m.\u001B[0m\u001B[0munique\u001B[0m\u001B[1;33m(\u001B[0m\u001B[1;33m)\u001B[0m\u001B[1;33m\u001B[0m\u001B[1;33m\u001B[0m\u001B[0m\n\u001B[0m",
      "\u001B[1;32m~\\anaconda3\\envs\\crm_validation\\Lib\\site-packages\\pandas\\core\\generic.py\u001B[0m in \u001B[0;36m?\u001B[1;34m(self, name)\u001B[0m\n\u001B[0;32m   5985\u001B[0m             \u001B[1;32mand\u001B[0m \u001B[0mname\u001B[0m \u001B[1;32mnot\u001B[0m \u001B[1;32min\u001B[0m \u001B[0mself\u001B[0m\u001B[1;33m.\u001B[0m\u001B[0m_accessors\u001B[0m\u001B[1;33m\u001B[0m\u001B[1;33m\u001B[0m\u001B[0m\n\u001B[0;32m   5986\u001B[0m             \u001B[1;32mand\u001B[0m \u001B[0mself\u001B[0m\u001B[1;33m.\u001B[0m\u001B[0m_info_axis\u001B[0m\u001B[1;33m.\u001B[0m\u001B[0m_can_hold_identifiers_and_holds_name\u001B[0m\u001B[1;33m(\u001B[0m\u001B[0mname\u001B[0m\u001B[1;33m)\u001B[0m\u001B[1;33m\u001B[0m\u001B[1;33m\u001B[0m\u001B[0m\n\u001B[0;32m   5987\u001B[0m         ):\n\u001B[0;32m   5988\u001B[0m             \u001B[1;32mreturn\u001B[0m \u001B[0mself\u001B[0m\u001B[1;33m[\u001B[0m\u001B[0mname\u001B[0m\u001B[1;33m]\u001B[0m\u001B[1;33m\u001B[0m\u001B[1;33m\u001B[0m\u001B[0m\n\u001B[1;32m-> 5989\u001B[1;33m         \u001B[1;32mreturn\u001B[0m \u001B[0mobject\u001B[0m\u001B[1;33m.\u001B[0m\u001B[0m__getattribute__\u001B[0m\u001B[1;33m(\u001B[0m\u001B[0mself\u001B[0m\u001B[1;33m,\u001B[0m \u001B[0mname\u001B[0m\u001B[1;33m)\u001B[0m\u001B[1;33m\u001B[0m\u001B[1;33m\u001B[0m\u001B[0m\n\u001B[0m",
      "\u001B[1;31mAttributeError\u001B[0m: 'DataFrame' object has no attribute 'TERM_CODE_KEY'"
     ]
    }
   ],
   "source": [
    "df1.TERM_CODE_KEY.unique()"
   ],
   "metadata": {
    "collapsed": false,
    "ExecuteTime": {
     "end_time": "2023-05-12T23:26:17.920686400Z",
     "start_time": "2023-05-12T23:26:17.903027400Z"
    }
   }
  },
  {
   "cell_type": "markdown",
   "source": [
    "## Testing"
   ],
   "metadata": {
    "collapsed": false
   }
  },
  {
   "cell_type": "markdown",
   "source": [
    "BT_HOLD_DATA -> None\n",
    "BT_TEST_SCORE -> ['PIDM_KEY', 'TEST_SCORE_CODE', 'TEST_SCORE_DATE']\n",
    "GM_ACADEMIC_HISTORY_DETAIL -> ['PIDM_KEY', 'TERM_CODE_KEY', 'CRN_KEY']\n",
    "xGM_ADMISSIONS_APPLICANT -> ['EXTERNAL_ID'] | ['PIDM_KEY', 'TERM_CODE_KEY', 'APPL_NO_KEY']\n",
    "GM_APPLICATION_CHECKLIST -> ['EXTERNAL_ID', 'ADMR_CODE_KEY']\n",
    "GM_FINANCIAL_HISTORY -> ['PIDM_KEY', 'TRANSACTION_ID']\n",
    "GM_PROGRAM_HISTORY_DETAIL -> ['PIDM_KEY', 'TERM_CODE_KEY']\n",
    "GM_STUDENT_DATA -> ['PIDM_KEY']\n",
    "GM_STUDENT_REGISTRATION_DETAIL -> ['PIDM_KEY', 'TERM_CODE_KEY', 'CRN_KEY'] *Only data for next year (20232, 202320, 20233, 20241)\n"
   ],
   "metadata": {
    "collapsed": false
   }
  },
  {
   "cell_type": "code",
   "execution_count": 1,
   "outputs": [],
   "source": [
    "import pandas as pd\n",
    "from utils import Validator"
   ],
   "metadata": {
    "collapsed": false,
    "ExecuteTime": {
     "end_time": "2023-05-15T19:54:40.920235100Z",
     "start_time": "2023-05-15T19:54:40.445675100Z"
    }
   }
  },
  {
   "cell_type": "code",
   "execution_count": 2,
   "outputs": [
    {
     "data": {
      "text/plain": "       PIDM_KEY         ID HOLD_TYPE                    HOLD_DESC   \n0      90093643   91323030        ZP  A&S Program Update Required  \\\n1      90106227   95342028        ZP  A&S Program Update Required   \n2      90141162  100019911        ZP  A&S Program Update Required   \n3      90146312  100025061        ZP  A&S Program Update Required   \n4      90176859  100055572        ZP  A&S Program Update Required   \n...         ...        ...       ...                          ...   \n33960  90582968  100408963        IE             International Ed   \n33961  90547266  100373791        IE             International Ed   \n33962  90570432  100396614        IE             International Ed   \n33963  90581092  100407144        LO             Registrar's Hold   \n33964  90575460  100401593        IE             International Ed   \n\n      HOLD_FROM_DATE HOLD_TO_DATE                   HOLD_REASON   HOLD_USER  \n0          15-JAN-14    21-DEC-99                           NaN         NaN  \n1          30-AUG-13    20-JUN-16                           NaN         NaN  \n2          20-APR-17    13-JUL-17                           NaN       LWONG  \n3          12-JUL-19    12-JUL-19                           NaN         NaN  \n4          11-AUG-14    11-AUG-14                           NaN         NaN  \n...              ...          ...                           ...         ...  \n33960      27-JAN-23    23-MAR-23      Approval Rec'd by Global      EIKARI  \n33961      01-APR-21    31-DEC-99  Submit Study Permit Approval  JSPISAYAGI  \n33962      12-JUN-22    31-DEC-99      No proof of Study Permit     TBROOKS  \n33963      04-APR-23    05-APR-23   Daily Regn Attempts Reached         NaN  \n33964      15-JUN-22    21-OCT-22      Approval Rec'd by Global      EIKARI  \n\n[33965 rows x 8 columns]",
      "text/html": "<div>\n<style scoped>\n    .dataframe tbody tr th:only-of-type {\n        vertical-align: middle;\n    }\n\n    .dataframe tbody tr th {\n        vertical-align: top;\n    }\n\n    .dataframe thead th {\n        text-align: right;\n    }\n</style>\n<table border=\"1\" class=\"dataframe\">\n  <thead>\n    <tr style=\"text-align: right;\">\n      <th></th>\n      <th>PIDM_KEY</th>\n      <th>ID</th>\n      <th>HOLD_TYPE</th>\n      <th>HOLD_DESC</th>\n      <th>HOLD_FROM_DATE</th>\n      <th>HOLD_TO_DATE</th>\n      <th>HOLD_REASON</th>\n      <th>HOLD_USER</th>\n    </tr>\n  </thead>\n  <tbody>\n    <tr>\n      <th>0</th>\n      <td>90093643</td>\n      <td>91323030</td>\n      <td>ZP</td>\n      <td>A&amp;S Program Update Required</td>\n      <td>15-JAN-14</td>\n      <td>21-DEC-99</td>\n      <td>NaN</td>\n      <td>NaN</td>\n    </tr>\n    <tr>\n      <th>1</th>\n      <td>90106227</td>\n      <td>95342028</td>\n      <td>ZP</td>\n      <td>A&amp;S Program Update Required</td>\n      <td>30-AUG-13</td>\n      <td>20-JUN-16</td>\n      <td>NaN</td>\n      <td>NaN</td>\n    </tr>\n    <tr>\n      <th>2</th>\n      <td>90141162</td>\n      <td>100019911</td>\n      <td>ZP</td>\n      <td>A&amp;S Program Update Required</td>\n      <td>20-APR-17</td>\n      <td>13-JUL-17</td>\n      <td>NaN</td>\n      <td>LWONG</td>\n    </tr>\n    <tr>\n      <th>3</th>\n      <td>90146312</td>\n      <td>100025061</td>\n      <td>ZP</td>\n      <td>A&amp;S Program Update Required</td>\n      <td>12-JUL-19</td>\n      <td>12-JUL-19</td>\n      <td>NaN</td>\n      <td>NaN</td>\n    </tr>\n    <tr>\n      <th>4</th>\n      <td>90176859</td>\n      <td>100055572</td>\n      <td>ZP</td>\n      <td>A&amp;S Program Update Required</td>\n      <td>11-AUG-14</td>\n      <td>11-AUG-14</td>\n      <td>NaN</td>\n      <td>NaN</td>\n    </tr>\n    <tr>\n      <th>...</th>\n      <td>...</td>\n      <td>...</td>\n      <td>...</td>\n      <td>...</td>\n      <td>...</td>\n      <td>...</td>\n      <td>...</td>\n      <td>...</td>\n    </tr>\n    <tr>\n      <th>33960</th>\n      <td>90582968</td>\n      <td>100408963</td>\n      <td>IE</td>\n      <td>International Ed</td>\n      <td>27-JAN-23</td>\n      <td>23-MAR-23</td>\n      <td>Approval Rec'd by Global</td>\n      <td>EIKARI</td>\n    </tr>\n    <tr>\n      <th>33961</th>\n      <td>90547266</td>\n      <td>100373791</td>\n      <td>IE</td>\n      <td>International Ed</td>\n      <td>01-APR-21</td>\n      <td>31-DEC-99</td>\n      <td>Submit Study Permit Approval</td>\n      <td>JSPISAYAGI</td>\n    </tr>\n    <tr>\n      <th>33962</th>\n      <td>90570432</td>\n      <td>100396614</td>\n      <td>IE</td>\n      <td>International Ed</td>\n      <td>12-JUN-22</td>\n      <td>31-DEC-99</td>\n      <td>No proof of Study Permit</td>\n      <td>TBROOKS</td>\n    </tr>\n    <tr>\n      <th>33963</th>\n      <td>90581092</td>\n      <td>100407144</td>\n      <td>LO</td>\n      <td>Registrar's Hold</td>\n      <td>04-APR-23</td>\n      <td>05-APR-23</td>\n      <td>Daily Regn Attempts Reached</td>\n      <td>NaN</td>\n    </tr>\n    <tr>\n      <th>33964</th>\n      <td>90575460</td>\n      <td>100401593</td>\n      <td>IE</td>\n      <td>International Ed</td>\n      <td>15-JUN-22</td>\n      <td>21-OCT-22</td>\n      <td>Approval Rec'd by Global</td>\n      <td>EIKARI</td>\n    </tr>\n  </tbody>\n</table>\n<p>33965 rows × 8 columns</p>\n</div>"
     },
     "execution_count": 2,
     "metadata": {},
     "output_type": "execute_result"
    }
   ],
   "source": [
    "df1 = pd.read_csv(\"data/Baseline/BT_HOLD_DATA.csv.\", encoding='latin')\n",
    "df1"
   ],
   "metadata": {
    "collapsed": false,
    "ExecuteTime": {
     "end_time": "2023-05-15T19:54:40.997386400Z",
     "start_time": "2023-05-15T19:54:40.921238900Z"
    }
   }
  },
  {
   "cell_type": "code",
   "execution_count": 3,
   "outputs": [
    {
     "data": {
      "text/plain": "       lang_pidmkey                          lang_student    lang_id   \n0          90584410  934CD26D-98D8-ED11-A7C5-000D3AE8685A  100410398  \\\n1          90584410  934CD26D-98D8-ED11-A7C5-000D3AE8685A  100410398   \n2          90584410  934CD26D-98D8-ED11-A7C5-000D3AE8685A  100410398   \n3          90582998  E8EE093F-98D8-ED11-A7C5-002248AF80A6  100408993   \n4          90584961  140C135B-98D8-ED11-A7C5-002248B1F6C0  100410943   \n...             ...                                   ...        ...   \n35030      90570727  CEC75BFA-95D8-ED11-A7C5-000D3AE866C8  100396907   \n35031      90570732  D3747224-90D8-ED11-A7C5-002248B1F6EE  100396912   \n35032      90572261  9B4020E7-9AD8-ED11-A7C5-002248AF8630  100398426   \n35033      90581944  5A4C0E6D-98D8-ED11-A7C5-002248AF80A6  100407963   \n35034      90576398  A8FBB88E-96D8-ED11-A7C5-000D3AE86452  100402527   \n\n      lang_holdtype lang_holddescriptionorig   \n0                IE         International Ed  \\\n1                LO         Registrar's Hold   \n2                LO         Registrar's Hold   \n3                IE         International Ed   \n4                LO         Registrar's Hold   \n...             ...                      ...   \n35030            IE         International Ed   \n35031            IE         International Ed   \n35032            IE         International Ed   \n35033            IE         International Ed   \n35034            IE         International Ed   \n\n                       lang_holddescription            lang_holdfromdate   \n0      C88E3682-61D9-ED11-A7C5-002248AF89AD  2023-01-31 00:00:00.0000000  \\\n1      CA8E3682-61D9-ED11-A7C5-002248AF89AD  2023-03-31 00:00:00.0000000   \n2      CA8E3682-61D9-ED11-A7C5-002248AF89AD  2023-04-02 00:00:00.0000000   \n3      C88E3682-61D9-ED11-A7C5-002248AF89AD  2023-01-26 00:00:00.0000000   \n4      CA8E3682-61D9-ED11-A7C5-002248AF89AD  2023-04-02 00:00:00.0000000   \n...                                     ...                          ...   \n35030  C88E3682-61D9-ED11-A7C5-002248AF89AD  2022-07-08 00:00:00.0000000   \n35031  C88E3682-61D9-ED11-A7C5-002248AF89AD  2022-06-14 00:00:00.0000000   \n35032  C88E3682-61D9-ED11-A7C5-002248AF89AD  2023-02-24 00:00:00.0000000   \n35033  C88E3682-61D9-ED11-A7C5-002248AF89AD  2022-10-03 00:00:00.0000000   \n35034  C88E3682-61D9-ED11-A7C5-002248AF89AD  2023-03-09 00:00:00.0000000   \n\n                   lang_holdtodate              lang_holdreason lang_holduser  \n0      2023-02-16 00:00:00.0000000     Approval Rec'd by Global        EIKARI  \n1      2023-04-01 00:00:00.0000000  Daily Regn Attempts Reached           NaN  \n2      2023-04-03 00:00:00.0000000  Daily Regn Attempts Reached           NaN  \n3      2023-02-16 00:00:00.0000000     Approval Rec'd by Global        EIKARI  \n4      2023-04-03 00:00:00.0000000  Daily Regn Attempts Reached           NaN  \n...                            ...                          ...           ...  \n35030  2022-07-08 00:00:00.0000000     Approval Rec'd by Global        EIKARI  \n35031  2022-08-07 00:00:00.0000000     Approval Rec'd by Global        EIKARI  \n35032  2023-03-03 00:00:00.0000000     Approval Rec'd by Global        EIKARI  \n35033  2023-02-17 00:00:00.0000000     Approval Rec'd by Global        EIKARI  \n35034  2023-03-13 00:00:00.0000000     Approval Rec'd by Global        EIKARI  \n\n[35035 rows x 10 columns]",
      "text/html": "<div>\n<style scoped>\n    .dataframe tbody tr th:only-of-type {\n        vertical-align: middle;\n    }\n\n    .dataframe tbody tr th {\n        vertical-align: top;\n    }\n\n    .dataframe thead th {\n        text-align: right;\n    }\n</style>\n<table border=\"1\" class=\"dataframe\">\n  <thead>\n    <tr style=\"text-align: right;\">\n      <th></th>\n      <th>lang_pidmkey</th>\n      <th>lang_student</th>\n      <th>lang_id</th>\n      <th>lang_holdtype</th>\n      <th>lang_holddescriptionorig</th>\n      <th>lang_holddescription</th>\n      <th>lang_holdfromdate</th>\n      <th>lang_holdtodate</th>\n      <th>lang_holdreason</th>\n      <th>lang_holduser</th>\n    </tr>\n  </thead>\n  <tbody>\n    <tr>\n      <th>0</th>\n      <td>90584410</td>\n      <td>934CD26D-98D8-ED11-A7C5-000D3AE8685A</td>\n      <td>100410398</td>\n      <td>IE</td>\n      <td>International Ed</td>\n      <td>C88E3682-61D9-ED11-A7C5-002248AF89AD</td>\n      <td>2023-01-31 00:00:00.0000000</td>\n      <td>2023-02-16 00:00:00.0000000</td>\n      <td>Approval Rec'd by Global</td>\n      <td>EIKARI</td>\n    </tr>\n    <tr>\n      <th>1</th>\n      <td>90584410</td>\n      <td>934CD26D-98D8-ED11-A7C5-000D3AE8685A</td>\n      <td>100410398</td>\n      <td>LO</td>\n      <td>Registrar's Hold</td>\n      <td>CA8E3682-61D9-ED11-A7C5-002248AF89AD</td>\n      <td>2023-03-31 00:00:00.0000000</td>\n      <td>2023-04-01 00:00:00.0000000</td>\n      <td>Daily Regn Attempts Reached</td>\n      <td>NaN</td>\n    </tr>\n    <tr>\n      <th>2</th>\n      <td>90584410</td>\n      <td>934CD26D-98D8-ED11-A7C5-000D3AE8685A</td>\n      <td>100410398</td>\n      <td>LO</td>\n      <td>Registrar's Hold</td>\n      <td>CA8E3682-61D9-ED11-A7C5-002248AF89AD</td>\n      <td>2023-04-02 00:00:00.0000000</td>\n      <td>2023-04-03 00:00:00.0000000</td>\n      <td>Daily Regn Attempts Reached</td>\n      <td>NaN</td>\n    </tr>\n    <tr>\n      <th>3</th>\n      <td>90582998</td>\n      <td>E8EE093F-98D8-ED11-A7C5-002248AF80A6</td>\n      <td>100408993</td>\n      <td>IE</td>\n      <td>International Ed</td>\n      <td>C88E3682-61D9-ED11-A7C5-002248AF89AD</td>\n      <td>2023-01-26 00:00:00.0000000</td>\n      <td>2023-02-16 00:00:00.0000000</td>\n      <td>Approval Rec'd by Global</td>\n      <td>EIKARI</td>\n    </tr>\n    <tr>\n      <th>4</th>\n      <td>90584961</td>\n      <td>140C135B-98D8-ED11-A7C5-002248B1F6C0</td>\n      <td>100410943</td>\n      <td>LO</td>\n      <td>Registrar's Hold</td>\n      <td>CA8E3682-61D9-ED11-A7C5-002248AF89AD</td>\n      <td>2023-04-02 00:00:00.0000000</td>\n      <td>2023-04-03 00:00:00.0000000</td>\n      <td>Daily Regn Attempts Reached</td>\n      <td>NaN</td>\n    </tr>\n    <tr>\n      <th>...</th>\n      <td>...</td>\n      <td>...</td>\n      <td>...</td>\n      <td>...</td>\n      <td>...</td>\n      <td>...</td>\n      <td>...</td>\n      <td>...</td>\n      <td>...</td>\n      <td>...</td>\n    </tr>\n    <tr>\n      <th>35030</th>\n      <td>90570727</td>\n      <td>CEC75BFA-95D8-ED11-A7C5-000D3AE866C8</td>\n      <td>100396907</td>\n      <td>IE</td>\n      <td>International Ed</td>\n      <td>C88E3682-61D9-ED11-A7C5-002248AF89AD</td>\n      <td>2022-07-08 00:00:00.0000000</td>\n      <td>2022-07-08 00:00:00.0000000</td>\n      <td>Approval Rec'd by Global</td>\n      <td>EIKARI</td>\n    </tr>\n    <tr>\n      <th>35031</th>\n      <td>90570732</td>\n      <td>D3747224-90D8-ED11-A7C5-002248B1F6EE</td>\n      <td>100396912</td>\n      <td>IE</td>\n      <td>International Ed</td>\n      <td>C88E3682-61D9-ED11-A7C5-002248AF89AD</td>\n      <td>2022-06-14 00:00:00.0000000</td>\n      <td>2022-08-07 00:00:00.0000000</td>\n      <td>Approval Rec'd by Global</td>\n      <td>EIKARI</td>\n    </tr>\n    <tr>\n      <th>35032</th>\n      <td>90572261</td>\n      <td>9B4020E7-9AD8-ED11-A7C5-002248AF8630</td>\n      <td>100398426</td>\n      <td>IE</td>\n      <td>International Ed</td>\n      <td>C88E3682-61D9-ED11-A7C5-002248AF89AD</td>\n      <td>2023-02-24 00:00:00.0000000</td>\n      <td>2023-03-03 00:00:00.0000000</td>\n      <td>Approval Rec'd by Global</td>\n      <td>EIKARI</td>\n    </tr>\n    <tr>\n      <th>35033</th>\n      <td>90581944</td>\n      <td>5A4C0E6D-98D8-ED11-A7C5-002248AF80A6</td>\n      <td>100407963</td>\n      <td>IE</td>\n      <td>International Ed</td>\n      <td>C88E3682-61D9-ED11-A7C5-002248AF89AD</td>\n      <td>2022-10-03 00:00:00.0000000</td>\n      <td>2023-02-17 00:00:00.0000000</td>\n      <td>Approval Rec'd by Global</td>\n      <td>EIKARI</td>\n    </tr>\n    <tr>\n      <th>35034</th>\n      <td>90576398</td>\n      <td>A8FBB88E-96D8-ED11-A7C5-000D3AE86452</td>\n      <td>100402527</td>\n      <td>IE</td>\n      <td>International Ed</td>\n      <td>C88E3682-61D9-ED11-A7C5-002248AF89AD</td>\n      <td>2023-03-09 00:00:00.0000000</td>\n      <td>2023-03-13 00:00:00.0000000</td>\n      <td>Approval Rec'd by Global</td>\n      <td>EIKARI</td>\n    </tr>\n  </tbody>\n</table>\n<p>35035 rows × 10 columns</p>\n</div>"
     },
     "execution_count": 3,
     "metadata": {},
     "output_type": "execute_result"
    }
   ],
   "source": [
    "df2 = pd.read_csv(\"data/Validate/Hold Data.csv\")\n",
    "df2"
   ],
   "metadata": {
    "collapsed": false,
    "ExecuteTime": {
     "end_time": "2023-05-15T19:54:41.142853900Z",
     "start_time": "2023-05-15T19:54:40.992387600Z"
    }
   }
  },
  {
   "cell_type": "code",
   "execution_count": 21,
   "outputs": [],
   "source": [
    "baseline_filepath = \"data/Baseline/BT_HOLD_DATA.csv\"\n",
    "validate_filepath = \"data/Validate/Hold Data.csv\"\n",
    "column_mapping = [\n",
    "    {\"baseline_col_name\": \"PIDM_KEY\",\n",
    "     \"baseline_col_type\": \"\",\n",
    "     \"validate_col_name\": \"lang_pidmkey\",\n",
    "     \"validate_col_type\": \"\",\n",
    "     \"common_col_type\": \"\",\n",
    "     },\n",
    "    {\"baseline_col_name\": \"ID\",\n",
    "     \"baseline_col_type\": \"\",\n",
    "     \"validate_col_name\": \"lang_id\",\n",
    "     \"validate_col_type\": \"\",\n",
    "     \"common_col_type\": \"\",\n",
    "     },\n",
    "    {\"baseline_col_name\": \"HOLD_TYPE\",\n",
    "     \"baseline_col_type\": \"\",\n",
    "     \"validate_col_name\": \"lang_holdtype\",\n",
    "     \"validate_col_type\": \"\",\n",
    "     \"common_col_type\": \"\",\n",
    "     },\n",
    "    {\"baseline_col_name\": \"HOLD_DESC\",\n",
    "     \"baseline_col_type\": \"\",\n",
    "     \"validate_col_name\": \"lang_holddescriptionorig\",\n",
    "     \"validate_col_type\": \"\",\n",
    "     \"common_col_type\": \"\",\n",
    "     },\n",
    "    {\"baseline_col_name\": \"HOLD_FROM_DATE\",\n",
    "     \"baseline_col_type\": \"\",\n",
    "     \"validate_col_name\": \"lang_holdfromdate\",\n",
    "     \"validate_col_type\": \"\",\n",
    "     \"common_col_type\": \"\",\n",
    "     },\n",
    "    {\"baseline_col_name\": \"HOLD_TO_DATE\",\n",
    "     \"baseline_col_type\": \"\",\n",
    "     \"validate_col_name\": \"lang_holdtodate\",\n",
    "     \"validate_col_type\": \"\",\n",
    "     \"common_col_type\": \"\",\n",
    "     },\n",
    "    {\"baseline_col_name\": \"HOLD_REASON\",\n",
    "     \"baseline_col_type\": \"\",\n",
    "     \"validate_col_name\": \"lang_holdreason\",\n",
    "     \"validate_col_type\": \"\",\n",
    "     \"common_col_type\": \"\",\n",
    "     },\n",
    "    {\"baseline_col_name\": \"HOLD_USER\",\n",
    "     \"baseline_col_type\": \"\",\n",
    "     \"validate_col_name\": \"lang_holduser\",\n",
    "     \"validate_col_type\": \"\",\n",
    "     \"common_col_type\": \"\",\n",
    "     },\n",
    "]\n",
    "baseline_date_cols = {\"HOLD_FROM_DATE\": \"%d-%b-%y\",\n",
    "                      \"HOLD_TO_DATE\": \"%d-%b-%y\",}\n",
    "validate_date_cols = {\"lang_holdfromdate\": None,\n",
    "                      \"lang_holdtodate\": None}\n",
    "col_id = None\n",
    "baseline_encoding = \"latin\"\n",
    "validate_encoding = \"utf-8\"\n",
    "# unify_text = False\n",
    "# text_cols = None\n",
    "unify_text = True\n",
    "text_cols = ['HOLD_REASON']"
   ],
   "metadata": {
    "collapsed": false,
    "ExecuteTime": {
     "end_time": "2023-05-15T19:57:36.131932400Z",
     "start_time": "2023-05-15T19:57:36.123031100Z"
    }
   }
  },
  {
   "cell_type": "code",
   "execution_count": 22,
   "outputs": [
    {
     "name": "stderr",
     "output_type": "stream",
     "text": [
      "C:\\Users\\dewit\\OneDrive - Langara College\\Work\\Langara-Business_Data_Analyst\\Work\\CRM\\Data_Validation\\utils.py:307: UserWarning:     Expected data type does not match origin data type. Validation    will force expected type if present, otherwise, real type.\n",
      "  warnings.warn(\"    Expected data type does not match origin data type. Validation\"\n",
      "C:\\Users\\dewit\\OneDrive - Langara College\\Work\\Langara-Business_Data_Analyst\\Work\\CRM\\Data_Validation\\utils.py:314: UserWarning: Warning:\n",
      "        Dataset Baseline\n",
      "        \n",
      "                Column: PIDM_KEY\n",
      "                    Real Type: int64\n",
      "                    Expected Type: NA\n",
      "                Column: ID\n",
      "                    Real Type: int64\n",
      "                    Expected Type: NA\n",
      "                Column: HOLD_TYPE\n",
      "                    Real Type: object\n",
      "                    Expected Type: NA\n",
      "                Column: HOLD_DESC\n",
      "                    Real Type: object\n",
      "                    Expected Type: NA\n",
      "                Column: HOLD_FROM_DATE\n",
      "                    Real Type: datetime64[ns]\n",
      "                    Expected Type: NA\n",
      "                Column: HOLD_TO_DATE\n",
      "                    Real Type: datetime64[ns]\n",
      "                    Expected Type: NA\n",
      "                Column: HOLD_REASON\n",
      "                    Real Type: object\n",
      "                    Expected Type: NA\n",
      "                Column: HOLD_USER\n",
      "                    Real Type: object\n",
      "                    Expected Type: NA\n",
      "  warnings.warn(generate_warn_message(origin_cols_mistype, warn_type='type', dataset_name='baseline'))\n",
      "C:\\Users\\dewit\\OneDrive - Langara College\\Work\\Langara-Business_Data_Analyst\\Work\\CRM\\Data_Validation\\utils.py:316: UserWarning: Warning:\n",
      "        Dataset Validate\n",
      "        \n",
      "                Column: lang_pidmkey\n",
      "                    Real Type: int64\n",
      "                    Expected Type: NA\n",
      "                Column: lang_id\n",
      "                    Real Type: int64\n",
      "                    Expected Type: NA\n",
      "                Column: lang_holdtype\n",
      "                    Real Type: object\n",
      "                    Expected Type: NA\n",
      "                Column: lang_holddescriptionorig\n",
      "                    Real Type: object\n",
      "                    Expected Type: NA\n",
      "                Column: lang_holdfromdate\n",
      "                    Real Type: datetime64[ns]\n",
      "                    Expected Type: NA\n",
      "                Column: lang_holdtodate\n",
      "                    Real Type: datetime64[ns]\n",
      "                    Expected Type: NA\n",
      "                Column: lang_holdreason\n",
      "                    Real Type: object\n",
      "                    Expected Type: NA\n",
      "                Column: lang_holduser\n",
      "                    Real Type: object\n",
      "                    Expected Type: NA\n",
      "  warnings.warn(generate_warn_message(target_cols_mistype, warn_type='type', dataset_name='validate'))\n"
     ]
    },
    {
     "data": {
      "text/plain": "<utils.Validator at 0x2368f061e50>"
     },
     "execution_count": 22,
     "metadata": {},
     "output_type": "execute_result"
    }
   ],
   "source": [
    "a = Validator(baseline_filepath=baseline_filepath,\n",
    "              validate_filepath=validate_filepath,\n",
    "              column_mapping=column_mapping,\n",
    "              baseline_date_cols=baseline_date_cols,\n",
    "              validate_date_cols=validate_date_cols,\n",
    "              col_id=col_id,\n",
    "              baseline_encoding=baseline_encoding,\n",
    "              validate_encoding=validate_encoding,\n",
    "              unify_text=unify_text,\n",
    "              text_cols=text_cols,\n",
    "              )\n",
    "a"
   ],
   "metadata": {
    "collapsed": false,
    "ExecuteTime": {
     "end_time": "2023-05-15T19:57:36.704762Z",
     "start_time": "2023-05-15T19:57:36.544501800Z"
    }
   }
  },
  {
   "cell_type": "code",
   "execution_count": 23,
   "outputs": [
    {
     "data": {
      "text/plain": "{'lang_pidmkey': 'PIDM_KEY',\n 'lang_id': 'ID',\n 'lang_holdtype': 'HOLD_TYPE',\n 'lang_holddescriptionorig': 'HOLD_DESC',\n 'lang_holdfromdate': 'HOLD_FROM_DATE',\n 'lang_holdtodate': 'HOLD_TO_DATE',\n 'lang_holdreason': 'HOLD_REASON',\n 'lang_holduser': 'HOLD_USER'}"
     },
     "execution_count": 23,
     "metadata": {},
     "output_type": "execute_result"
    }
   ],
   "source": [
    "a.name_mapping"
   ],
   "metadata": {
    "collapsed": false,
    "ExecuteTime": {
     "end_time": "2023-05-15T19:57:37.965960200Z",
     "start_time": "2023-05-15T19:57:37.944370Z"
    }
   }
  },
  {
   "cell_type": "code",
   "execution_count": 24,
   "outputs": [
    {
     "name": "stderr",
     "output_type": "stream",
     "text": [
      "C:\\Users\\dewit\\OneDrive - Langara College\\Work\\Langara-Business_Data_Analyst\\Work\\CRM\\Data_Validation\\utils.py:445: SettingWithCopyWarning: \n",
      "A value is trying to be set on a copy of a slice from a DataFrame.\n",
      "Try using .loc[row_indexer,col_indexer] = value instead\n",
      "\n",
      "See the caveats in the documentation: https://pandas.pydata.org/pandas-docs/stable/user_guide/indexing.html#returning-a-view-versus-a-copy\n",
      "  self.__origin_data_for_validation[text_col] = \\\n",
      "C:\\Users\\dewit\\OneDrive - Langara College\\Work\\Langara-Business_Data_Analyst\\Work\\CRM\\Data_Validation\\utils.py:447: SettingWithCopyWarning: \n",
      "A value is trying to be set on a copy of a slice from a DataFrame.\n",
      "Try using .loc[row_indexer,col_indexer] = value instead\n",
      "\n",
      "See the caveats in the documentation: https://pandas.pydata.org/pandas-docs/stable/user_guide/indexing.html#returning-a-view-versus-a-copy\n",
      "  self.__origin_data_for_validation[text_col] = \\\n"
     ]
    }
   ],
   "source": [
    "a.check_existence()"
   ],
   "metadata": {
    "collapsed": false,
    "ExecuteTime": {
     "end_time": "2023-05-15T19:57:39.030977400Z",
     "start_time": "2023-05-15T19:57:38.647218800Z"
    }
   }
  },
  {
   "cell_type": "code",
   "execution_count": 25,
   "outputs": [
    {
     "data": {
      "text/plain": "       PIDM_KEY     ID  HOLD_TYPE  HOLD_DESC  HOLD_FROM_DATE  HOLD_TO_DATE   \n0         False  False      False      False           False         False  \\\n1         False  False      False      False           False         False   \n2         False  False      False      False           False         False   \n3         False  False      False      False           False         False   \n4         False  False      False      False           False         False   \n...         ...    ...        ...        ...             ...           ...   \n33937     False  False      False      False           False         False   \n33938     False  False      False      False           False         False   \n33939     False  False      False      False           False         False   \n33940     False  False      False      False           False         False   \n33941     False  False      False      False           False         False   \n\n       HOLD_REASON  HOLD_USER  \n0            False      False  \n1            False      False  \n2            False      False  \n3            False      False  \n4            False      False  \n...            ...        ...  \n33937        False      False  \n33938        False      False  \n33939        False      False  \n33940        False      False  \n33941        False      False  \n\n[33942 rows x 8 columns]",
      "text/html": "<div>\n<style scoped>\n    .dataframe tbody tr th:only-of-type {\n        vertical-align: middle;\n    }\n\n    .dataframe tbody tr th {\n        vertical-align: top;\n    }\n\n    .dataframe thead th {\n        text-align: right;\n    }\n</style>\n<table border=\"1\" class=\"dataframe\">\n  <thead>\n    <tr style=\"text-align: right;\">\n      <th></th>\n      <th>PIDM_KEY</th>\n      <th>ID</th>\n      <th>HOLD_TYPE</th>\n      <th>HOLD_DESC</th>\n      <th>HOLD_FROM_DATE</th>\n      <th>HOLD_TO_DATE</th>\n      <th>HOLD_REASON</th>\n      <th>HOLD_USER</th>\n    </tr>\n  </thead>\n  <tbody>\n    <tr>\n      <th>0</th>\n      <td>False</td>\n      <td>False</td>\n      <td>False</td>\n      <td>False</td>\n      <td>False</td>\n      <td>False</td>\n      <td>False</td>\n      <td>False</td>\n    </tr>\n    <tr>\n      <th>1</th>\n      <td>False</td>\n      <td>False</td>\n      <td>False</td>\n      <td>False</td>\n      <td>False</td>\n      <td>False</td>\n      <td>False</td>\n      <td>False</td>\n    </tr>\n    <tr>\n      <th>2</th>\n      <td>False</td>\n      <td>False</td>\n      <td>False</td>\n      <td>False</td>\n      <td>False</td>\n      <td>False</td>\n      <td>False</td>\n      <td>False</td>\n    </tr>\n    <tr>\n      <th>3</th>\n      <td>False</td>\n      <td>False</td>\n      <td>False</td>\n      <td>False</td>\n      <td>False</td>\n      <td>False</td>\n      <td>False</td>\n      <td>False</td>\n    </tr>\n    <tr>\n      <th>4</th>\n      <td>False</td>\n      <td>False</td>\n      <td>False</td>\n      <td>False</td>\n      <td>False</td>\n      <td>False</td>\n      <td>False</td>\n      <td>False</td>\n    </tr>\n    <tr>\n      <th>...</th>\n      <td>...</td>\n      <td>...</td>\n      <td>...</td>\n      <td>...</td>\n      <td>...</td>\n      <td>...</td>\n      <td>...</td>\n      <td>...</td>\n    </tr>\n    <tr>\n      <th>33937</th>\n      <td>False</td>\n      <td>False</td>\n      <td>False</td>\n      <td>False</td>\n      <td>False</td>\n      <td>False</td>\n      <td>False</td>\n      <td>False</td>\n    </tr>\n    <tr>\n      <th>33938</th>\n      <td>False</td>\n      <td>False</td>\n      <td>False</td>\n      <td>False</td>\n      <td>False</td>\n      <td>False</td>\n      <td>False</td>\n      <td>False</td>\n    </tr>\n    <tr>\n      <th>33939</th>\n      <td>False</td>\n      <td>False</td>\n      <td>False</td>\n      <td>False</td>\n      <td>False</td>\n      <td>False</td>\n      <td>False</td>\n      <td>False</td>\n    </tr>\n    <tr>\n      <th>33940</th>\n      <td>False</td>\n      <td>False</td>\n      <td>False</td>\n      <td>False</td>\n      <td>False</td>\n      <td>False</td>\n      <td>False</td>\n      <td>False</td>\n    </tr>\n    <tr>\n      <th>33941</th>\n      <td>False</td>\n      <td>False</td>\n      <td>False</td>\n      <td>False</td>\n      <td>False</td>\n      <td>False</td>\n      <td>False</td>\n      <td>False</td>\n    </tr>\n  </tbody>\n</table>\n<p>33942 rows × 8 columns</p>\n</div>"
     },
     "execution_count": 25,
     "metadata": {},
     "output_type": "execute_result"
    }
   ],
   "source": [
    "a.existence_result"
   ],
   "metadata": {
    "collapsed": false,
    "ExecuteTime": {
     "end_time": "2023-05-15T19:57:39.121001Z",
     "start_time": "2023-05-15T19:57:39.109335100Z"
    }
   }
  },
  {
   "cell_type": "code",
   "execution_count": 26,
   "outputs": [
    {
     "data": {
      "text/plain": "PIDM_KEY          0\nID                0\nHOLD_TYPE         0\nHOLD_DESC         0\nHOLD_FROM_DATE    0\nHOLD_TO_DATE      0\nHOLD_REASON       0\nHOLD_USER         0\ndtype: int64"
     },
     "execution_count": 26,
     "metadata": {},
     "output_type": "execute_result"
    }
   ],
   "source": [
    "a.existence_result.sum()"
   ],
   "metadata": {
    "collapsed": false,
    "ExecuteTime": {
     "end_time": "2023-05-15T20:01:20.296821100Z",
     "start_time": "2023-05-15T20:01:20.275819200Z"
    }
   }
  },
  {
   "cell_type": "code",
   "execution_count": 27,
   "outputs": [
    {
     "data": {
      "text/plain": "       PIDM_KEY         ID HOLD_TYPE                    HOLD_DESC   \n0      90093643   91323030        ZP  A&S Program Update Required  \\\n1      90106227   95342028        ZP  A&S Program Update Required   \n2      90141162  100019911        ZP  A&S Program Update Required   \n3      90146312  100025061        ZP  A&S Program Update Required   \n4      90176859  100055572        ZP  A&S Program Update Required   \n...         ...        ...       ...                          ...   \n33960  90582968  100408963        IE             International Ed   \n33961  90547266  100373791        IE             International Ed   \n33962  90570432  100396614        IE             International Ed   \n33963  90581092  100407144        LO             Registrar's Hold   \n33964  90575460  100401593        IE             International Ed   \n\n      HOLD_FROM_DATE HOLD_TO_DATE                   HOLD_REASON   HOLD_USER  \n0         2014-01-15   1999-12-21                           NaN         NaN  \n1         2013-08-30   2016-06-20                           NaN         NaN  \n2         2017-04-20   2017-07-13                           NaN       LWONG  \n3         2019-07-12   2019-07-12                           NaN         NaN  \n4         2014-08-11   2014-08-11                           NaN         NaN  \n...              ...          ...                           ...         ...  \n33960     2023-01-27   2023-03-23      Approval Rec'd by Global      EIKARI  \n33961     2021-04-01   1999-12-31  Submit Study Permit Approval  JSPISAYAGI  \n33962     2022-06-12   1999-12-31      No proof of Study Permit     TBROOKS  \n33963     2023-04-04   2023-04-05   Daily Regn Attempts Reached         NaN  \n33964     2022-06-15   2022-10-21      Approval Rec'd by Global      EIKARI  \n\n[33965 rows x 8 columns]",
      "text/html": "<div>\n<style scoped>\n    .dataframe tbody tr th:only-of-type {\n        vertical-align: middle;\n    }\n\n    .dataframe tbody tr th {\n        vertical-align: top;\n    }\n\n    .dataframe thead th {\n        text-align: right;\n    }\n</style>\n<table border=\"1\" class=\"dataframe\">\n  <thead>\n    <tr style=\"text-align: right;\">\n      <th></th>\n      <th>PIDM_KEY</th>\n      <th>ID</th>\n      <th>HOLD_TYPE</th>\n      <th>HOLD_DESC</th>\n      <th>HOLD_FROM_DATE</th>\n      <th>HOLD_TO_DATE</th>\n      <th>HOLD_REASON</th>\n      <th>HOLD_USER</th>\n    </tr>\n  </thead>\n  <tbody>\n    <tr>\n      <th>0</th>\n      <td>90093643</td>\n      <td>91323030</td>\n      <td>ZP</td>\n      <td>A&amp;S Program Update Required</td>\n      <td>2014-01-15</td>\n      <td>1999-12-21</td>\n      <td>NaN</td>\n      <td>NaN</td>\n    </tr>\n    <tr>\n      <th>1</th>\n      <td>90106227</td>\n      <td>95342028</td>\n      <td>ZP</td>\n      <td>A&amp;S Program Update Required</td>\n      <td>2013-08-30</td>\n      <td>2016-06-20</td>\n      <td>NaN</td>\n      <td>NaN</td>\n    </tr>\n    <tr>\n      <th>2</th>\n      <td>90141162</td>\n      <td>100019911</td>\n      <td>ZP</td>\n      <td>A&amp;S Program Update Required</td>\n      <td>2017-04-20</td>\n      <td>2017-07-13</td>\n      <td>NaN</td>\n      <td>LWONG</td>\n    </tr>\n    <tr>\n      <th>3</th>\n      <td>90146312</td>\n      <td>100025061</td>\n      <td>ZP</td>\n      <td>A&amp;S Program Update Required</td>\n      <td>2019-07-12</td>\n      <td>2019-07-12</td>\n      <td>NaN</td>\n      <td>NaN</td>\n    </tr>\n    <tr>\n      <th>4</th>\n      <td>90176859</td>\n      <td>100055572</td>\n      <td>ZP</td>\n      <td>A&amp;S Program Update Required</td>\n      <td>2014-08-11</td>\n      <td>2014-08-11</td>\n      <td>NaN</td>\n      <td>NaN</td>\n    </tr>\n    <tr>\n      <th>...</th>\n      <td>...</td>\n      <td>...</td>\n      <td>...</td>\n      <td>...</td>\n      <td>...</td>\n      <td>...</td>\n      <td>...</td>\n      <td>...</td>\n    </tr>\n    <tr>\n      <th>33960</th>\n      <td>90582968</td>\n      <td>100408963</td>\n      <td>IE</td>\n      <td>International Ed</td>\n      <td>2023-01-27</td>\n      <td>2023-03-23</td>\n      <td>Approval Rec'd by Global</td>\n      <td>EIKARI</td>\n    </tr>\n    <tr>\n      <th>33961</th>\n      <td>90547266</td>\n      <td>100373791</td>\n      <td>IE</td>\n      <td>International Ed</td>\n      <td>2021-04-01</td>\n      <td>1999-12-31</td>\n      <td>Submit Study Permit Approval</td>\n      <td>JSPISAYAGI</td>\n    </tr>\n    <tr>\n      <th>33962</th>\n      <td>90570432</td>\n      <td>100396614</td>\n      <td>IE</td>\n      <td>International Ed</td>\n      <td>2022-06-12</td>\n      <td>1999-12-31</td>\n      <td>No proof of Study Permit</td>\n      <td>TBROOKS</td>\n    </tr>\n    <tr>\n      <th>33963</th>\n      <td>90581092</td>\n      <td>100407144</td>\n      <td>LO</td>\n      <td>Registrar's Hold</td>\n      <td>2023-04-04</td>\n      <td>2023-04-05</td>\n      <td>Daily Regn Attempts Reached</td>\n      <td>NaN</td>\n    </tr>\n    <tr>\n      <th>33964</th>\n      <td>90575460</td>\n      <td>100401593</td>\n      <td>IE</td>\n      <td>International Ed</td>\n      <td>2022-06-15</td>\n      <td>2022-10-21</td>\n      <td>Approval Rec'd by Global</td>\n      <td>EIKARI</td>\n    </tr>\n  </tbody>\n</table>\n<p>33965 rows × 8 columns</p>\n</div>"
     },
     "execution_count": 27,
     "metadata": {},
     "output_type": "execute_result"
    }
   ],
   "source": [
    "a.origin_data"
   ],
   "metadata": {
    "collapsed": false,
    "ExecuteTime": {
     "end_time": "2023-05-15T20:01:26.984519700Z",
     "start_time": "2023-05-15T20:01:26.967963100Z"
    }
   }
  },
  {
   "cell_type": "code",
   "execution_count": 39,
   "outputs": [
    {
     "data": {
      "text/plain": "(33965, 8)"
     },
     "execution_count": 39,
     "metadata": {},
     "output_type": "execute_result"
    }
   ],
   "source": [
    "a.origin_data.shape"
   ],
   "metadata": {
    "collapsed": false,
    "ExecuteTime": {
     "end_time": "2023-05-15T20:08:58.914145Z",
     "start_time": "2023-05-15T20:08:58.896090Z"
    }
   }
  },
  {
   "cell_type": "code",
   "execution_count": 38,
   "outputs": [
    {
     "data": {
      "text/plain": "{'origin': 23, 'target': 22}"
     },
     "execution_count": 38,
     "metadata": {},
     "output_type": "execute_result"
    }
   ],
   "source": [
    "a._Validator__duplicated_rows"
   ],
   "metadata": {
    "collapsed": false,
    "ExecuteTime": {
     "end_time": "2023-05-15T20:03:19.318716300Z",
     "start_time": "2023-05-15T20:03:19.288435200Z"
    }
   }
  },
  {
   "cell_type": "code",
   "execution_count": 29,
   "outputs": [
    {
     "data": {
      "text/plain": "       lang_pidmkey                          lang_student    lang_id   \n0          90584410  934CD26D-98D8-ED11-A7C5-000D3AE8685A  100410398  \\\n1          90584410  934CD26D-98D8-ED11-A7C5-000D3AE8685A  100410398   \n2          90584410  934CD26D-98D8-ED11-A7C5-000D3AE8685A  100410398   \n3          90582998  E8EE093F-98D8-ED11-A7C5-002248AF80A6  100408993   \n4          90584961  140C135B-98D8-ED11-A7C5-002248B1F6C0  100410943   \n...             ...                                   ...        ...   \n35030      90570727  CEC75BFA-95D8-ED11-A7C5-000D3AE866C8  100396907   \n35031      90570732  D3747224-90D8-ED11-A7C5-002248B1F6EE  100396912   \n35032      90572261  9B4020E7-9AD8-ED11-A7C5-002248AF8630  100398426   \n35033      90581944  5A4C0E6D-98D8-ED11-A7C5-002248AF80A6  100407963   \n35034      90576398  A8FBB88E-96D8-ED11-A7C5-000D3AE86452  100402527   \n\n      lang_holdtype lang_holddescriptionorig   \n0                IE         International Ed  \\\n1                LO         Registrar's Hold   \n2                LO         Registrar's Hold   \n3                IE         International Ed   \n4                LO         Registrar's Hold   \n...             ...                      ...   \n35030            IE         International Ed   \n35031            IE         International Ed   \n35032            IE         International Ed   \n35033            IE         International Ed   \n35034            IE         International Ed   \n\n                       lang_holddescription lang_holdfromdate lang_holdtodate   \n0      C88E3682-61D9-ED11-A7C5-002248AF89AD        2023-01-31      2023-02-16  \\\n1      CA8E3682-61D9-ED11-A7C5-002248AF89AD        2023-03-31      2023-04-01   \n2      CA8E3682-61D9-ED11-A7C5-002248AF89AD        2023-04-02      2023-04-03   \n3      C88E3682-61D9-ED11-A7C5-002248AF89AD        2023-01-26      2023-02-16   \n4      CA8E3682-61D9-ED11-A7C5-002248AF89AD        2023-04-02      2023-04-03   \n...                                     ...               ...             ...   \n35030  C88E3682-61D9-ED11-A7C5-002248AF89AD        2022-07-08      2022-07-08   \n35031  C88E3682-61D9-ED11-A7C5-002248AF89AD        2022-06-14      2022-08-07   \n35032  C88E3682-61D9-ED11-A7C5-002248AF89AD        2023-02-24      2023-03-03   \n35033  C88E3682-61D9-ED11-A7C5-002248AF89AD        2022-10-03      2023-02-17   \n35034  C88E3682-61D9-ED11-A7C5-002248AF89AD        2023-03-09      2023-03-13   \n\n                   lang_holdreason lang_holduser  \n0         Approval Rec'd by Global        EIKARI  \n1      Daily Regn Attempts Reached           NaN  \n2      Daily Regn Attempts Reached           NaN  \n3         Approval Rec'd by Global        EIKARI  \n4      Daily Regn Attempts Reached           NaN  \n...                            ...           ...  \n35030     Approval Rec'd by Global        EIKARI  \n35031     Approval Rec'd by Global        EIKARI  \n35032     Approval Rec'd by Global        EIKARI  \n35033     Approval Rec'd by Global        EIKARI  \n35034     Approval Rec'd by Global        EIKARI  \n\n[35035 rows x 10 columns]",
      "text/html": "<div>\n<style scoped>\n    .dataframe tbody tr th:only-of-type {\n        vertical-align: middle;\n    }\n\n    .dataframe tbody tr th {\n        vertical-align: top;\n    }\n\n    .dataframe thead th {\n        text-align: right;\n    }\n</style>\n<table border=\"1\" class=\"dataframe\">\n  <thead>\n    <tr style=\"text-align: right;\">\n      <th></th>\n      <th>lang_pidmkey</th>\n      <th>lang_student</th>\n      <th>lang_id</th>\n      <th>lang_holdtype</th>\n      <th>lang_holddescriptionorig</th>\n      <th>lang_holddescription</th>\n      <th>lang_holdfromdate</th>\n      <th>lang_holdtodate</th>\n      <th>lang_holdreason</th>\n      <th>lang_holduser</th>\n    </tr>\n  </thead>\n  <tbody>\n    <tr>\n      <th>0</th>\n      <td>90584410</td>\n      <td>934CD26D-98D8-ED11-A7C5-000D3AE8685A</td>\n      <td>100410398</td>\n      <td>IE</td>\n      <td>International Ed</td>\n      <td>C88E3682-61D9-ED11-A7C5-002248AF89AD</td>\n      <td>2023-01-31</td>\n      <td>2023-02-16</td>\n      <td>Approval Rec'd by Global</td>\n      <td>EIKARI</td>\n    </tr>\n    <tr>\n      <th>1</th>\n      <td>90584410</td>\n      <td>934CD26D-98D8-ED11-A7C5-000D3AE8685A</td>\n      <td>100410398</td>\n      <td>LO</td>\n      <td>Registrar's Hold</td>\n      <td>CA8E3682-61D9-ED11-A7C5-002248AF89AD</td>\n      <td>2023-03-31</td>\n      <td>2023-04-01</td>\n      <td>Daily Regn Attempts Reached</td>\n      <td>NaN</td>\n    </tr>\n    <tr>\n      <th>2</th>\n      <td>90584410</td>\n      <td>934CD26D-98D8-ED11-A7C5-000D3AE8685A</td>\n      <td>100410398</td>\n      <td>LO</td>\n      <td>Registrar's Hold</td>\n      <td>CA8E3682-61D9-ED11-A7C5-002248AF89AD</td>\n      <td>2023-04-02</td>\n      <td>2023-04-03</td>\n      <td>Daily Regn Attempts Reached</td>\n      <td>NaN</td>\n    </tr>\n    <tr>\n      <th>3</th>\n      <td>90582998</td>\n      <td>E8EE093F-98D8-ED11-A7C5-002248AF80A6</td>\n      <td>100408993</td>\n      <td>IE</td>\n      <td>International Ed</td>\n      <td>C88E3682-61D9-ED11-A7C5-002248AF89AD</td>\n      <td>2023-01-26</td>\n      <td>2023-02-16</td>\n      <td>Approval Rec'd by Global</td>\n      <td>EIKARI</td>\n    </tr>\n    <tr>\n      <th>4</th>\n      <td>90584961</td>\n      <td>140C135B-98D8-ED11-A7C5-002248B1F6C0</td>\n      <td>100410943</td>\n      <td>LO</td>\n      <td>Registrar's Hold</td>\n      <td>CA8E3682-61D9-ED11-A7C5-002248AF89AD</td>\n      <td>2023-04-02</td>\n      <td>2023-04-03</td>\n      <td>Daily Regn Attempts Reached</td>\n      <td>NaN</td>\n    </tr>\n    <tr>\n      <th>...</th>\n      <td>...</td>\n      <td>...</td>\n      <td>...</td>\n      <td>...</td>\n      <td>...</td>\n      <td>...</td>\n      <td>...</td>\n      <td>...</td>\n      <td>...</td>\n      <td>...</td>\n    </tr>\n    <tr>\n      <th>35030</th>\n      <td>90570727</td>\n      <td>CEC75BFA-95D8-ED11-A7C5-000D3AE866C8</td>\n      <td>100396907</td>\n      <td>IE</td>\n      <td>International Ed</td>\n      <td>C88E3682-61D9-ED11-A7C5-002248AF89AD</td>\n      <td>2022-07-08</td>\n      <td>2022-07-08</td>\n      <td>Approval Rec'd by Global</td>\n      <td>EIKARI</td>\n    </tr>\n    <tr>\n      <th>35031</th>\n      <td>90570732</td>\n      <td>D3747224-90D8-ED11-A7C5-002248B1F6EE</td>\n      <td>100396912</td>\n      <td>IE</td>\n      <td>International Ed</td>\n      <td>C88E3682-61D9-ED11-A7C5-002248AF89AD</td>\n      <td>2022-06-14</td>\n      <td>2022-08-07</td>\n      <td>Approval Rec'd by Global</td>\n      <td>EIKARI</td>\n    </tr>\n    <tr>\n      <th>35032</th>\n      <td>90572261</td>\n      <td>9B4020E7-9AD8-ED11-A7C5-002248AF8630</td>\n      <td>100398426</td>\n      <td>IE</td>\n      <td>International Ed</td>\n      <td>C88E3682-61D9-ED11-A7C5-002248AF89AD</td>\n      <td>2023-02-24</td>\n      <td>2023-03-03</td>\n      <td>Approval Rec'd by Global</td>\n      <td>EIKARI</td>\n    </tr>\n    <tr>\n      <th>35033</th>\n      <td>90581944</td>\n      <td>5A4C0E6D-98D8-ED11-A7C5-002248AF80A6</td>\n      <td>100407963</td>\n      <td>IE</td>\n      <td>International Ed</td>\n      <td>C88E3682-61D9-ED11-A7C5-002248AF89AD</td>\n      <td>2022-10-03</td>\n      <td>2023-02-17</td>\n      <td>Approval Rec'd by Global</td>\n      <td>EIKARI</td>\n    </tr>\n    <tr>\n      <th>35034</th>\n      <td>90576398</td>\n      <td>A8FBB88E-96D8-ED11-A7C5-000D3AE86452</td>\n      <td>100402527</td>\n      <td>IE</td>\n      <td>International Ed</td>\n      <td>C88E3682-61D9-ED11-A7C5-002248AF89AD</td>\n      <td>2023-03-09</td>\n      <td>2023-03-13</td>\n      <td>Approval Rec'd by Global</td>\n      <td>EIKARI</td>\n    </tr>\n  </tbody>\n</table>\n<p>35035 rows × 10 columns</p>\n</div>"
     },
     "execution_count": 29,
     "metadata": {},
     "output_type": "execute_result"
    }
   ],
   "source": [
    "a.target_data"
   ],
   "metadata": {
    "collapsed": false,
    "ExecuteTime": {
     "end_time": "2023-05-15T20:01:28.347436600Z",
     "start_time": "2023-05-15T20:01:28.319994300Z"
    }
   }
  },
  {
   "cell_type": "code",
   "execution_count": 30,
   "outputs": [
    {
     "data": {
      "text/plain": "(35035, 10)"
     },
     "execution_count": 30,
     "metadata": {},
     "output_type": "execute_result"
    }
   ],
   "source": [
    "a.target_data.shape"
   ],
   "metadata": {
    "collapsed": false,
    "ExecuteTime": {
     "end_time": "2023-05-15T20:01:29.701143600Z",
     "start_time": "2023-05-15T20:01:29.677046800Z"
    }
   }
  },
  {
   "cell_type": "code",
   "execution_count": 31,
   "outputs": [
    {
     "data": {
      "text/plain": "       PIDM_KEY         ID HOLD_TYPE         HOLD_DESC HOLD_FROM_DATE   \n135    90537386  100364539        IE  International Ed     2020-06-16  \\\n150    90536161  100363317        IE  International Ed     2020-06-16   \n151    90542793  100369386        IE  International Ed     2020-11-13   \n153    90538951  100365625        IE  International Ed     2020-11-05   \n154    90526215  100353368        IE  International Ed     2020-11-01   \n...         ...        ...       ...               ...            ...   \n33741  90532662  100359815        IE  International Ed     2020-11-05   \n33779  90539376  100366037        IE  International Ed     2020-11-13   \n33849  90537023  100364178        IE  International Ed     2020-06-16   \n33897  90539003  100365676        IE  International Ed     2020-11-13   \n33907  90550037  100376537        IE  International Ed     2021-02-01   \n\n      HOLD_TO_DATE                   HOLD_REASON HOLD_USER  \n135     2020-11-16         Approval Rec'd by ISC    JPAIGE  \n150     2020-11-22          Approval Rec'd by IE    JPAIGE  \n151     2020-11-30            Waiver Recd by IE    JPAIGE  \n153     2020-11-05         Approval Recd by ISC    JPAIGE  \n154     2020-11-02  Submit study permit approval    JPAIGE  \n...            ...                           ...       ...  \n33741   2020-11-05         Approval Recd by ISC    JPAIGE  \n33779   2020-11-18           Waiver Recd by ISC    JPAIGE  \n33849   2020-12-07            Waiver Recd by IE    JPAIGE  \n33897   2020-11-19            Waiver Rec'd by IE    JPAIGE  \n33907   2021-03-15            Waiver Recd by IE    JPAIGE  \n\n[1346 rows x 8 columns]",
      "text/html": "<div>\n<style scoped>\n    .dataframe tbody tr th:only-of-type {\n        vertical-align: middle;\n    }\n\n    .dataframe tbody tr th {\n        vertical-align: top;\n    }\n\n    .dataframe thead th {\n        text-align: right;\n    }\n</style>\n<table border=\"1\" class=\"dataframe\">\n  <thead>\n    <tr style=\"text-align: right;\">\n      <th></th>\n      <th>PIDM_KEY</th>\n      <th>ID</th>\n      <th>HOLD_TYPE</th>\n      <th>HOLD_DESC</th>\n      <th>HOLD_FROM_DATE</th>\n      <th>HOLD_TO_DATE</th>\n      <th>HOLD_REASON</th>\n      <th>HOLD_USER</th>\n    </tr>\n  </thead>\n  <tbody>\n    <tr>\n      <th>135</th>\n      <td>90537386</td>\n      <td>100364539</td>\n      <td>IE</td>\n      <td>International Ed</td>\n      <td>2020-06-16</td>\n      <td>2020-11-16</td>\n      <td>Approval Rec'd by ISC</td>\n      <td>JPAIGE</td>\n    </tr>\n    <tr>\n      <th>150</th>\n      <td>90536161</td>\n      <td>100363317</td>\n      <td>IE</td>\n      <td>International Ed</td>\n      <td>2020-06-16</td>\n      <td>2020-11-22</td>\n      <td>Approval Rec'd by IE</td>\n      <td>JPAIGE</td>\n    </tr>\n    <tr>\n      <th>151</th>\n      <td>90542793</td>\n      <td>100369386</td>\n      <td>IE</td>\n      <td>International Ed</td>\n      <td>2020-11-13</td>\n      <td>2020-11-30</td>\n      <td>Waiver Recd by IE</td>\n      <td>JPAIGE</td>\n    </tr>\n    <tr>\n      <th>153</th>\n      <td>90538951</td>\n      <td>100365625</td>\n      <td>IE</td>\n      <td>International Ed</td>\n      <td>2020-11-05</td>\n      <td>2020-11-05</td>\n      <td>Approval Recd by ISC</td>\n      <td>JPAIGE</td>\n    </tr>\n    <tr>\n      <th>154</th>\n      <td>90526215</td>\n      <td>100353368</td>\n      <td>IE</td>\n      <td>International Ed</td>\n      <td>2020-11-01</td>\n      <td>2020-11-02</td>\n      <td>Submit study permit approval</td>\n      <td>JPAIGE</td>\n    </tr>\n    <tr>\n      <th>...</th>\n      <td>...</td>\n      <td>...</td>\n      <td>...</td>\n      <td>...</td>\n      <td>...</td>\n      <td>...</td>\n      <td>...</td>\n      <td>...</td>\n    </tr>\n    <tr>\n      <th>33741</th>\n      <td>90532662</td>\n      <td>100359815</td>\n      <td>IE</td>\n      <td>International Ed</td>\n      <td>2020-11-05</td>\n      <td>2020-11-05</td>\n      <td>Approval Recd by ISC</td>\n      <td>JPAIGE</td>\n    </tr>\n    <tr>\n      <th>33779</th>\n      <td>90539376</td>\n      <td>100366037</td>\n      <td>IE</td>\n      <td>International Ed</td>\n      <td>2020-11-13</td>\n      <td>2020-11-18</td>\n      <td>Waiver Recd by ISC</td>\n      <td>JPAIGE</td>\n    </tr>\n    <tr>\n      <th>33849</th>\n      <td>90537023</td>\n      <td>100364178</td>\n      <td>IE</td>\n      <td>International Ed</td>\n      <td>2020-06-16</td>\n      <td>2020-12-07</td>\n      <td>Waiver Recd by IE</td>\n      <td>JPAIGE</td>\n    </tr>\n    <tr>\n      <th>33897</th>\n      <td>90539003</td>\n      <td>100365676</td>\n      <td>IE</td>\n      <td>International Ed</td>\n      <td>2020-11-13</td>\n      <td>2020-11-19</td>\n      <td>Waiver Rec'd by IE</td>\n      <td>JPAIGE</td>\n    </tr>\n    <tr>\n      <th>33907</th>\n      <td>90550037</td>\n      <td>100376537</td>\n      <td>IE</td>\n      <td>International Ed</td>\n      <td>2021-02-01</td>\n      <td>2021-03-15</td>\n      <td>Waiver Recd by IE</td>\n      <td>JPAIGE</td>\n    </tr>\n  </tbody>\n</table>\n<p>1346 rows × 8 columns</p>\n</div>"
     },
     "execution_count": 31,
     "metadata": {},
     "output_type": "execute_result"
    }
   ],
   "source": [
    "a.origin_data[a.origin_data['HOLD_USER'] == 'JPAIGE']"
   ],
   "metadata": {
    "collapsed": false,
    "ExecuteTime": {
     "end_time": "2023-05-15T20:01:30.263878600Z",
     "start_time": "2023-05-15T20:01:30.223935500Z"
    }
   }
  },
  {
   "cell_type": "code",
   "execution_count": 32,
   "outputs": [
    {
     "data": {
      "text/plain": "       PIDM_KEY         ID HOLD_TYPE         HOLD_DESC HOLD_FROM_DATE   \n3861   90404599  100238702        IE  International Ed     2020-11-01  \\\n4156   90411875  100244850        IE  International Ed     2020-07-20   \n6799   90454170  100282826        IE  International Ed     2020-11-17   \n7707   90461696  100290055        IE  International Ed     2020-11-01   \n7764   90461998  100290352        IE  International Ed     2020-11-01   \n...         ...        ...       ...               ...            ...   \n27920  90554886  100381312        IE  International Ed     2021-03-17   \n27963  90555068  100381490        IE  International Ed     2021-03-05   \n28054  90555301  100381722        IE  International Ed     2021-03-10   \n28056  90555306  100381727        IE  International Ed     2021-03-12   \n28057  90555307  100381728        IE  International Ed     2021-02-01   \n\n      HOLD_TO_DATE                   HOLD_REASON HOLD_USER  \n3861    2020-11-02         Approval Rec'd by ISC    JPAIGE  \n4156    2020-11-02               SP Rec'd by ISC    JPAIGE  \n6799    2020-12-07          Approval Rec'd by IE    JPAIGE  \n7707    2020-11-02               SP Rec'd by ISC    JPAIGE  \n7764    2020-11-02  Submit Study Permit Approval    JPAIGE  \n...            ...                           ...       ...  \n27920   2021-03-22          Approval Rec'd by IE    JPAIGE  \n27963   2021-03-22          Approval Rec'd by IE    JPAIGE  \n28054   2021-03-22          Approval Rec'd by IE    JPAIGE  \n28056   2021-04-02          Approval Rec'd by IE    JPAIGE  \n28057   2021-03-25          Approval Rec'd by IE    JPAIGE  \n\n[1346 rows x 8 columns]",
      "text/html": "<div>\n<style scoped>\n    .dataframe tbody tr th:only-of-type {\n        vertical-align: middle;\n    }\n\n    .dataframe tbody tr th {\n        vertical-align: top;\n    }\n\n    .dataframe thead th {\n        text-align: right;\n    }\n</style>\n<table border=\"1\" class=\"dataframe\">\n  <thead>\n    <tr style=\"text-align: right;\">\n      <th></th>\n      <th>PIDM_KEY</th>\n      <th>ID</th>\n      <th>HOLD_TYPE</th>\n      <th>HOLD_DESC</th>\n      <th>HOLD_FROM_DATE</th>\n      <th>HOLD_TO_DATE</th>\n      <th>HOLD_REASON</th>\n      <th>HOLD_USER</th>\n    </tr>\n  </thead>\n  <tbody>\n    <tr>\n      <th>3861</th>\n      <td>90404599</td>\n      <td>100238702</td>\n      <td>IE</td>\n      <td>International Ed</td>\n      <td>2020-11-01</td>\n      <td>2020-11-02</td>\n      <td>Approval Rec'd by ISC</td>\n      <td>JPAIGE</td>\n    </tr>\n    <tr>\n      <th>4156</th>\n      <td>90411875</td>\n      <td>100244850</td>\n      <td>IE</td>\n      <td>International Ed</td>\n      <td>2020-07-20</td>\n      <td>2020-11-02</td>\n      <td>SP Rec'd by ISC</td>\n      <td>JPAIGE</td>\n    </tr>\n    <tr>\n      <th>6799</th>\n      <td>90454170</td>\n      <td>100282826</td>\n      <td>IE</td>\n      <td>International Ed</td>\n      <td>2020-11-17</td>\n      <td>2020-12-07</td>\n      <td>Approval Rec'd by IE</td>\n      <td>JPAIGE</td>\n    </tr>\n    <tr>\n      <th>7707</th>\n      <td>90461696</td>\n      <td>100290055</td>\n      <td>IE</td>\n      <td>International Ed</td>\n      <td>2020-11-01</td>\n      <td>2020-11-02</td>\n      <td>SP Rec'd by ISC</td>\n      <td>JPAIGE</td>\n    </tr>\n    <tr>\n      <th>7764</th>\n      <td>90461998</td>\n      <td>100290352</td>\n      <td>IE</td>\n      <td>International Ed</td>\n      <td>2020-11-01</td>\n      <td>2020-11-02</td>\n      <td>Submit Study Permit Approval</td>\n      <td>JPAIGE</td>\n    </tr>\n    <tr>\n      <th>...</th>\n      <td>...</td>\n      <td>...</td>\n      <td>...</td>\n      <td>...</td>\n      <td>...</td>\n      <td>...</td>\n      <td>...</td>\n      <td>...</td>\n    </tr>\n    <tr>\n      <th>27920</th>\n      <td>90554886</td>\n      <td>100381312</td>\n      <td>IE</td>\n      <td>International Ed</td>\n      <td>2021-03-17</td>\n      <td>2021-03-22</td>\n      <td>Approval Rec'd by IE</td>\n      <td>JPAIGE</td>\n    </tr>\n    <tr>\n      <th>27963</th>\n      <td>90555068</td>\n      <td>100381490</td>\n      <td>IE</td>\n      <td>International Ed</td>\n      <td>2021-03-05</td>\n      <td>2021-03-22</td>\n      <td>Approval Rec'd by IE</td>\n      <td>JPAIGE</td>\n    </tr>\n    <tr>\n      <th>28054</th>\n      <td>90555301</td>\n      <td>100381722</td>\n      <td>IE</td>\n      <td>International Ed</td>\n      <td>2021-03-10</td>\n      <td>2021-03-22</td>\n      <td>Approval Rec'd by IE</td>\n      <td>JPAIGE</td>\n    </tr>\n    <tr>\n      <th>28056</th>\n      <td>90555306</td>\n      <td>100381727</td>\n      <td>IE</td>\n      <td>International Ed</td>\n      <td>2021-03-12</td>\n      <td>2021-04-02</td>\n      <td>Approval Rec'd by IE</td>\n      <td>JPAIGE</td>\n    </tr>\n    <tr>\n      <th>28057</th>\n      <td>90555307</td>\n      <td>100381728</td>\n      <td>IE</td>\n      <td>International Ed</td>\n      <td>2021-02-01</td>\n      <td>2021-03-25</td>\n      <td>Approval Rec'd by IE</td>\n      <td>JPAIGE</td>\n    </tr>\n  </tbody>\n</table>\n<p>1346 rows × 8 columns</p>\n</div>"
     },
     "execution_count": 32,
     "metadata": {},
     "output_type": "execute_result"
    }
   ],
   "source": [
    "a.origin_data_for_validation[a.origin_data_for_validation['HOLD_USER'] == 'JPAIGE']"
   ],
   "metadata": {
    "collapsed": false,
    "ExecuteTime": {
     "end_time": "2023-05-15T20:01:33.060208600Z",
     "start_time": "2023-05-15T20:01:33.038341500Z"
    }
   }
  },
  {
   "cell_type": "code",
   "execution_count": 33,
   "outputs": [
    {
     "data": {
      "text/plain": "      PIDM_KEY         ID HOLD_TYPE                    HOLD_DESC   \n0     90024491   81119059        ZP  A&S Program Update Required  \\\n1     90024491   81119059        ZP  A&S Program Update Required   \n2     90084059   91107250        ZP  A&S Program Update Required   \n3     90122813   98353311        TU        Student Balance Owing   \n4     90142332  100021081        TU        Student Balance Owing   \n...        ...        ...       ...                          ...   \n1068  90583287  100409278        IE             International Ed   \n1069  90583349  100409340        IE             International Ed   \n1070  90583428  100409419        IE             International Ed   \n1071  90584571  100410557        RO             Registrar's Hold   \n1072  90585868  100411846        IE             International Ed   \n\n     HOLD_FROM_DATE HOLD_TO_DATE                    HOLD_REASON HOLD_USER  \n0        2012-03-08   2022-06-21                            NaN       NaN  \n1        2022-06-21   2022-06-21                            NaN       NaN  \n2        2022-08-09   2022-08-09                            NaN       NaN  \n3        2023-01-07   1999-12-31  Balance Owing prior to 202310       NaN  \n4        2023-01-07   1999-12-31  Balance Owing prior to 202310       NaN  \n...             ...          ...                            ...       ...  \n1068     2022-10-07   1999-12-31       No proof of study permit    EIKARI  \n1069     2022-10-19   1999-12-31       No proof of study permit    EIKARI  \n1070     2022-11-07   1999-12-31       No proof of study permit    EIKARI  \n1071     2023-01-18   2024-11-23  Concurrent Appeal 202310 ONLY  EVULCANO  \n1072     2022-11-09   1999-12-31       No proof of study permit    EIKARI  \n\n[1073 rows x 8 columns]",
      "text/html": "<div>\n<style scoped>\n    .dataframe tbody tr th:only-of-type {\n        vertical-align: middle;\n    }\n\n    .dataframe tbody tr th {\n        vertical-align: top;\n    }\n\n    .dataframe thead th {\n        text-align: right;\n    }\n</style>\n<table border=\"1\" class=\"dataframe\">\n  <thead>\n    <tr style=\"text-align: right;\">\n      <th></th>\n      <th>PIDM_KEY</th>\n      <th>ID</th>\n      <th>HOLD_TYPE</th>\n      <th>HOLD_DESC</th>\n      <th>HOLD_FROM_DATE</th>\n      <th>HOLD_TO_DATE</th>\n      <th>HOLD_REASON</th>\n      <th>HOLD_USER</th>\n    </tr>\n  </thead>\n  <tbody>\n    <tr>\n      <th>0</th>\n      <td>90024491</td>\n      <td>81119059</td>\n      <td>ZP</td>\n      <td>A&amp;S Program Update Required</td>\n      <td>2012-03-08</td>\n      <td>2022-06-21</td>\n      <td>NaN</td>\n      <td>NaN</td>\n    </tr>\n    <tr>\n      <th>1</th>\n      <td>90024491</td>\n      <td>81119059</td>\n      <td>ZP</td>\n      <td>A&amp;S Program Update Required</td>\n      <td>2022-06-21</td>\n      <td>2022-06-21</td>\n      <td>NaN</td>\n      <td>NaN</td>\n    </tr>\n    <tr>\n      <th>2</th>\n      <td>90084059</td>\n      <td>91107250</td>\n      <td>ZP</td>\n      <td>A&amp;S Program Update Required</td>\n      <td>2022-08-09</td>\n      <td>2022-08-09</td>\n      <td>NaN</td>\n      <td>NaN</td>\n    </tr>\n    <tr>\n      <th>3</th>\n      <td>90122813</td>\n      <td>98353311</td>\n      <td>TU</td>\n      <td>Student Balance Owing</td>\n      <td>2023-01-07</td>\n      <td>1999-12-31</td>\n      <td>Balance Owing prior to 202310</td>\n      <td>NaN</td>\n    </tr>\n    <tr>\n      <th>4</th>\n      <td>90142332</td>\n      <td>100021081</td>\n      <td>TU</td>\n      <td>Student Balance Owing</td>\n      <td>2023-01-07</td>\n      <td>1999-12-31</td>\n      <td>Balance Owing prior to 202310</td>\n      <td>NaN</td>\n    </tr>\n    <tr>\n      <th>...</th>\n      <td>...</td>\n      <td>...</td>\n      <td>...</td>\n      <td>...</td>\n      <td>...</td>\n      <td>...</td>\n      <td>...</td>\n      <td>...</td>\n    </tr>\n    <tr>\n      <th>1068</th>\n      <td>90583287</td>\n      <td>100409278</td>\n      <td>IE</td>\n      <td>International Ed</td>\n      <td>2022-10-07</td>\n      <td>1999-12-31</td>\n      <td>No proof of study permit</td>\n      <td>EIKARI</td>\n    </tr>\n    <tr>\n      <th>1069</th>\n      <td>90583349</td>\n      <td>100409340</td>\n      <td>IE</td>\n      <td>International Ed</td>\n      <td>2022-10-19</td>\n      <td>1999-12-31</td>\n      <td>No proof of study permit</td>\n      <td>EIKARI</td>\n    </tr>\n    <tr>\n      <th>1070</th>\n      <td>90583428</td>\n      <td>100409419</td>\n      <td>IE</td>\n      <td>International Ed</td>\n      <td>2022-11-07</td>\n      <td>1999-12-31</td>\n      <td>No proof of study permit</td>\n      <td>EIKARI</td>\n    </tr>\n    <tr>\n      <th>1071</th>\n      <td>90584571</td>\n      <td>100410557</td>\n      <td>RO</td>\n      <td>Registrar's Hold</td>\n      <td>2023-01-18</td>\n      <td>2024-11-23</td>\n      <td>Concurrent Appeal 202310 ONLY</td>\n      <td>EVULCANO</td>\n    </tr>\n    <tr>\n      <th>1072</th>\n      <td>90585868</td>\n      <td>100411846</td>\n      <td>IE</td>\n      <td>International Ed</td>\n      <td>2022-11-09</td>\n      <td>1999-12-31</td>\n      <td>No proof of study permit</td>\n      <td>EIKARI</td>\n    </tr>\n  </tbody>\n</table>\n<p>1073 rows × 8 columns</p>\n</div>"
     },
     "execution_count": 33,
     "metadata": {},
     "output_type": "execute_result"
    }
   ],
   "source": [
    "a.target_rows_not_in_origin"
   ],
   "metadata": {
    "collapsed": false,
    "ExecuteTime": {
     "end_time": "2023-05-15T20:01:34.998653100Z",
     "start_time": "2023-05-15T20:01:34.975570900Z"
    }
   }
  },
  {
   "cell_type": "code",
   "execution_count": 34,
   "outputs": [
    {
     "data": {
      "text/plain": "   PIDM_KEY         ID HOLD_TYPE          HOLD_DESC HOLD_FROM_DATE   \n0  90567670  100393891        DC     CS-Dean's Hold     2023-03-20  \\\n1  90567670  100393891        RE  Registration Hold     2023-03-20   \n\n  HOLD_TO_DATE HOLD_REASON  HOLD_USER  \n0   2023-03-26        SCAI  DBUSAYONG  \n1   2023-03-26        SCAI  DBUSAYONG  ",
      "text/html": "<div>\n<style scoped>\n    .dataframe tbody tr th:only-of-type {\n        vertical-align: middle;\n    }\n\n    .dataframe tbody tr th {\n        vertical-align: top;\n    }\n\n    .dataframe thead th {\n        text-align: right;\n    }\n</style>\n<table border=\"1\" class=\"dataframe\">\n  <thead>\n    <tr style=\"text-align: right;\">\n      <th></th>\n      <th>PIDM_KEY</th>\n      <th>ID</th>\n      <th>HOLD_TYPE</th>\n      <th>HOLD_DESC</th>\n      <th>HOLD_FROM_DATE</th>\n      <th>HOLD_TO_DATE</th>\n      <th>HOLD_REASON</th>\n      <th>HOLD_USER</th>\n    </tr>\n  </thead>\n  <tbody>\n    <tr>\n      <th>0</th>\n      <td>90567670</td>\n      <td>100393891</td>\n      <td>DC</td>\n      <td>CS-Dean's Hold</td>\n      <td>2023-03-20</td>\n      <td>2023-03-26</td>\n      <td>SCAI</td>\n      <td>DBUSAYONG</td>\n    </tr>\n    <tr>\n      <th>1</th>\n      <td>90567670</td>\n      <td>100393891</td>\n      <td>RE</td>\n      <td>Registration Hold</td>\n      <td>2023-03-20</td>\n      <td>2023-03-26</td>\n      <td>SCAI</td>\n      <td>DBUSAYONG</td>\n    </tr>\n  </tbody>\n</table>\n</div>"
     },
     "execution_count": 34,
     "metadata": {},
     "output_type": "execute_result"
    }
   ],
   "source": [
    "a.origin_rows_not_in_target"
   ],
   "metadata": {
    "collapsed": false,
    "ExecuteTime": {
     "end_time": "2023-05-15T20:01:36.608619100Z",
     "start_time": "2023-05-15T20:01:36.588017400Z"
    }
   }
  },
  {
   "cell_type": "code",
   "execution_count": 35,
   "outputs": [],
   "source": [
    "a.check_equality()"
   ],
   "metadata": {
    "collapsed": false,
    "ExecuteTime": {
     "end_time": "2023-05-15T20:01:45.470622500Z",
     "start_time": "2023-05-15T20:01:45.428511400Z"
    }
   }
  },
  {
   "cell_type": "code",
   "execution_count": 36,
   "outputs": [
    {
     "data": {
      "text/plain": "Empty DataFrame\nColumns: []\nIndex: []",
      "text/html": "<div>\n<style scoped>\n    .dataframe tbody tr th:only-of-type {\n        vertical-align: middle;\n    }\n\n    .dataframe tbody tr th {\n        vertical-align: top;\n    }\n\n    .dataframe thead tr th {\n        text-align: left;\n    }\n</style>\n<table border=\"1\" class=\"dataframe\">\n  <thead>\n  </thead>\n  <tbody>\n  </tbody>\n</table>\n</div>"
     },
     "execution_count": 36,
     "metadata": {},
     "output_type": "execute_result"
    }
   ],
   "source": [
    "a.equality_result"
   ],
   "metadata": {
    "collapsed": false,
    "ExecuteTime": {
     "end_time": "2023-05-15T20:01:46.067825400Z",
     "start_time": "2023-05-15T20:01:46.036231500Z"
    }
   }
  },
  {
   "cell_type": "code",
   "execution_count": 37,
   "outputs": [
    {
     "ename": "AttributeError",
     "evalue": "property 'existence_result' of 'Validator' object has no setter",
     "output_type": "error",
     "traceback": [
      "\u001B[1;31m---------------------------------------------------------------------------\u001B[0m",
      "\u001B[1;31mAttributeError\u001B[0m                            Traceback (most recent call last)",
      "Cell \u001B[1;32mIn[37], line 1\u001B[0m\n\u001B[1;32m----> 1\u001B[0m \u001B[43ma\u001B[49m\u001B[38;5;241;43m.\u001B[39;49m\u001B[43mexistence_result\u001B[49m \u001B[38;5;241m=\u001B[39m \u001B[38;5;241m1\u001B[39m\n",
      "\u001B[1;31mAttributeError\u001B[0m: property 'existence_result' of 'Validator' object has no setter"
     ]
    }
   ],
   "source": [
    "a.existence_result = 1"
   ],
   "metadata": {
    "collapsed": false,
    "ExecuteTime": {
     "end_time": "2023-05-15T20:01:47.712914500Z",
     "start_time": "2023-05-15T20:01:47.690816700Z"
    }
   }
  },
  {
   "cell_type": "code",
   "execution_count": null,
   "outputs": [],
   "source": [],
   "metadata": {
    "collapsed": false
   }
  }
 ],
 "metadata": {
  "kernelspec": {
   "display_name": "Python 3",
   "language": "python",
   "name": "python3"
  },
  "language_info": {
   "codemirror_mode": {
    "name": "ipython",
    "version": 2
   },
   "file_extension": ".py",
   "mimetype": "text/x-python",
   "name": "python",
   "nbconvert_exporter": "python",
   "pygments_lexer": "ipython2",
   "version": "2.7.6"
  }
 },
 "nbformat": 4,
 "nbformat_minor": 0
}
