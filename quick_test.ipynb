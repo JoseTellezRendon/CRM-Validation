{
 "cells": [
  {
   "cell_type": "code",
   "execution_count": 2,
   "outputs": [],
   "source": [
    "import pandas as pd"
   ],
   "metadata": {
    "collapsed": false
   }
  },
  {
   "cell_type": "code",
   "execution_count": 12,
   "outputs": [
    {
     "data": {
      "text/plain": "       PIDM_KEY         ID HOLD_TYPE                    HOLD_DESC   \n0      90093643   91323030        ZP  A&S Program Update Required  \\\n1      90106227   95342028        ZP  A&S Program Update Required   \n2      90141162  100019911        ZP  A&S Program Update Required   \n3      90146312  100025061        ZP  A&S Program Update Required   \n4      90176859  100055572        ZP  A&S Program Update Required   \n...         ...        ...       ...                          ...   \n33960  90582968  100408963        IE             International Ed   \n33961  90547266  100373791        IE             International Ed   \n33962  90570432  100396614        IE             International Ed   \n33963  90581092  100407144        LO             Registrar's Hold   \n33964  90575460  100401593        IE             International Ed   \n\n      HOLD_FROM_DATE HOLD_TO_DATE                   HOLD_REASON   HOLD_USER  \n0          15-JAN-14    21-DEC-99                           NaN         NaN  \n1          30-AUG-13    20-JUN-16                           NaN         NaN  \n2          20-APR-17    13-JUL-17                           NaN       LWONG  \n3          12-JUL-19    12-JUL-19                           NaN         NaN  \n4          11-AUG-14    11-AUG-14                           NaN         NaN  \n...              ...          ...                           ...         ...  \n33960      27-JAN-23    23-MAR-23      Approval Rec'd by Global      EIKARI  \n33961      01-APR-21    31-DEC-99  Submit Study Permit Approval  JSPISAYAGI  \n33962      12-JUN-22    31-DEC-99      No proof of Study Permit     TBROOKS  \n33963      04-APR-23    05-APR-23   Daily Regn Attempts Reached         NaN  \n33964      15-JUN-22    21-OCT-22      Approval Rec'd by Global      EIKARI  \n\n[33965 rows x 8 columns]",
      "text/html": "<div>\n<style scoped>\n    .dataframe tbody tr th:only-of-type {\n        vertical-align: middle;\n    }\n\n    .dataframe tbody tr th {\n        vertical-align: top;\n    }\n\n    .dataframe thead th {\n        text-align: right;\n    }\n</style>\n<table border=\"1\" class=\"dataframe\">\n  <thead>\n    <tr style=\"text-align: right;\">\n      <th></th>\n      <th>PIDM_KEY</th>\n      <th>ID</th>\n      <th>HOLD_TYPE</th>\n      <th>HOLD_DESC</th>\n      <th>HOLD_FROM_DATE</th>\n      <th>HOLD_TO_DATE</th>\n      <th>HOLD_REASON</th>\n      <th>HOLD_USER</th>\n    </tr>\n  </thead>\n  <tbody>\n    <tr>\n      <th>0</th>\n      <td>90093643</td>\n      <td>91323030</td>\n      <td>ZP</td>\n      <td>A&amp;S Program Update Required</td>\n      <td>15-JAN-14</td>\n      <td>21-DEC-99</td>\n      <td>NaN</td>\n      <td>NaN</td>\n    </tr>\n    <tr>\n      <th>1</th>\n      <td>90106227</td>\n      <td>95342028</td>\n      <td>ZP</td>\n      <td>A&amp;S Program Update Required</td>\n      <td>30-AUG-13</td>\n      <td>20-JUN-16</td>\n      <td>NaN</td>\n      <td>NaN</td>\n    </tr>\n    <tr>\n      <th>2</th>\n      <td>90141162</td>\n      <td>100019911</td>\n      <td>ZP</td>\n      <td>A&amp;S Program Update Required</td>\n      <td>20-APR-17</td>\n      <td>13-JUL-17</td>\n      <td>NaN</td>\n      <td>LWONG</td>\n    </tr>\n    <tr>\n      <th>3</th>\n      <td>90146312</td>\n      <td>100025061</td>\n      <td>ZP</td>\n      <td>A&amp;S Program Update Required</td>\n      <td>12-JUL-19</td>\n      <td>12-JUL-19</td>\n      <td>NaN</td>\n      <td>NaN</td>\n    </tr>\n    <tr>\n      <th>4</th>\n      <td>90176859</td>\n      <td>100055572</td>\n      <td>ZP</td>\n      <td>A&amp;S Program Update Required</td>\n      <td>11-AUG-14</td>\n      <td>11-AUG-14</td>\n      <td>NaN</td>\n      <td>NaN</td>\n    </tr>\n    <tr>\n      <th>...</th>\n      <td>...</td>\n      <td>...</td>\n      <td>...</td>\n      <td>...</td>\n      <td>...</td>\n      <td>...</td>\n      <td>...</td>\n      <td>...</td>\n    </tr>\n    <tr>\n      <th>33960</th>\n      <td>90582968</td>\n      <td>100408963</td>\n      <td>IE</td>\n      <td>International Ed</td>\n      <td>27-JAN-23</td>\n      <td>23-MAR-23</td>\n      <td>Approval Rec'd by Global</td>\n      <td>EIKARI</td>\n    </tr>\n    <tr>\n      <th>33961</th>\n      <td>90547266</td>\n      <td>100373791</td>\n      <td>IE</td>\n      <td>International Ed</td>\n      <td>01-APR-21</td>\n      <td>31-DEC-99</td>\n      <td>Submit Study Permit Approval</td>\n      <td>JSPISAYAGI</td>\n    </tr>\n    <tr>\n      <th>33962</th>\n      <td>90570432</td>\n      <td>100396614</td>\n      <td>IE</td>\n      <td>International Ed</td>\n      <td>12-JUN-22</td>\n      <td>31-DEC-99</td>\n      <td>No proof of Study Permit</td>\n      <td>TBROOKS</td>\n    </tr>\n    <tr>\n      <th>33963</th>\n      <td>90581092</td>\n      <td>100407144</td>\n      <td>LO</td>\n      <td>Registrar's Hold</td>\n      <td>04-APR-23</td>\n      <td>05-APR-23</td>\n      <td>Daily Regn Attempts Reached</td>\n      <td>NaN</td>\n    </tr>\n    <tr>\n      <th>33964</th>\n      <td>90575460</td>\n      <td>100401593</td>\n      <td>IE</td>\n      <td>International Ed</td>\n      <td>15-JUN-22</td>\n      <td>21-OCT-22</td>\n      <td>Approval Rec'd by Global</td>\n      <td>EIKARI</td>\n    </tr>\n  </tbody>\n</table>\n<p>33965 rows × 8 columns</p>\n</div>"
     },
     "execution_count": 12,
     "metadata": {},
     "output_type": "execute_result"
    }
   ],
   "source": [
    "df1 = pd.read_csv(\"data/Baseline/BT_HOLD_DATA.csv.\", encoding='latin')\n",
    "df1"
   ],
   "metadata": {
    "collapsed": false
   }
  },
  {
   "cell_type": "code",
   "execution_count": 13,
   "outputs": [
    {
     "data": {
      "text/plain": "       lang_pidmkey                          lang_student    lang_id   \n0          90584410  934CD26D-98D8-ED11-A7C5-000D3AE8685A  100410398  \\\n1          90584410  934CD26D-98D8-ED11-A7C5-000D3AE8685A  100410398   \n2          90584410  934CD26D-98D8-ED11-A7C5-000D3AE8685A  100410398   \n3          90582998  E8EE093F-98D8-ED11-A7C5-002248AF80A6  100408993   \n4          90584961  140C135B-98D8-ED11-A7C5-002248B1F6C0  100410943   \n...             ...                                   ...        ...   \n35030      90570727  CEC75BFA-95D8-ED11-A7C5-000D3AE866C8  100396907   \n35031      90570732  D3747224-90D8-ED11-A7C5-002248B1F6EE  100396912   \n35032      90572261  9B4020E7-9AD8-ED11-A7C5-002248AF8630  100398426   \n35033      90581944  5A4C0E6D-98D8-ED11-A7C5-002248AF80A6  100407963   \n35034      90576398  A8FBB88E-96D8-ED11-A7C5-000D3AE86452  100402527   \n\n      lang_holdtype lang_holddescriptionorig   \n0                IE         International Ed  \\\n1                LO         Registrar's Hold   \n2                LO         Registrar's Hold   \n3                IE         International Ed   \n4                LO         Registrar's Hold   \n...             ...                      ...   \n35030            IE         International Ed   \n35031            IE         International Ed   \n35032            IE         International Ed   \n35033            IE         International Ed   \n35034            IE         International Ed   \n\n                       lang_holddescription            lang_holdfromdate   \n0      C88E3682-61D9-ED11-A7C5-002248AF89AD  2023-01-31 00:00:00.0000000  \\\n1      CA8E3682-61D9-ED11-A7C5-002248AF89AD  2023-03-31 00:00:00.0000000   \n2      CA8E3682-61D9-ED11-A7C5-002248AF89AD  2023-04-02 00:00:00.0000000   \n3      C88E3682-61D9-ED11-A7C5-002248AF89AD  2023-01-26 00:00:00.0000000   \n4      CA8E3682-61D9-ED11-A7C5-002248AF89AD  2023-04-02 00:00:00.0000000   \n...                                     ...                          ...   \n35030  C88E3682-61D9-ED11-A7C5-002248AF89AD  2022-07-08 00:00:00.0000000   \n35031  C88E3682-61D9-ED11-A7C5-002248AF89AD  2022-06-14 00:00:00.0000000   \n35032  C88E3682-61D9-ED11-A7C5-002248AF89AD  2023-02-24 00:00:00.0000000   \n35033  C88E3682-61D9-ED11-A7C5-002248AF89AD  2022-10-03 00:00:00.0000000   \n35034  C88E3682-61D9-ED11-A7C5-002248AF89AD  2023-03-09 00:00:00.0000000   \n\n                   lang_holdtodate              lang_holdreason lang_holduser  \n0      2023-02-16 00:00:00.0000000     Approval Rec'd by Global        EIKARI  \n1      2023-04-01 00:00:00.0000000  Daily Regn Attempts Reached           NaN  \n2      2023-04-03 00:00:00.0000000  Daily Regn Attempts Reached           NaN  \n3      2023-02-16 00:00:00.0000000     Approval Rec'd by Global        EIKARI  \n4      2023-04-03 00:00:00.0000000  Daily Regn Attempts Reached           NaN  \n...                            ...                          ...           ...  \n35030  2022-07-08 00:00:00.0000000     Approval Rec'd by Global        EIKARI  \n35031  2022-08-07 00:00:00.0000000     Approval Rec'd by Global        EIKARI  \n35032  2023-03-03 00:00:00.0000000     Approval Rec'd by Global        EIKARI  \n35033  2023-02-17 00:00:00.0000000     Approval Rec'd by Global        EIKARI  \n35034  2023-03-13 00:00:00.0000000     Approval Rec'd by Global        EIKARI  \n\n[35035 rows x 10 columns]",
      "text/html": "<div>\n<style scoped>\n    .dataframe tbody tr th:only-of-type {\n        vertical-align: middle;\n    }\n\n    .dataframe tbody tr th {\n        vertical-align: top;\n    }\n\n    .dataframe thead th {\n        text-align: right;\n    }\n</style>\n<table border=\"1\" class=\"dataframe\">\n  <thead>\n    <tr style=\"text-align: right;\">\n      <th></th>\n      <th>lang_pidmkey</th>\n      <th>lang_student</th>\n      <th>lang_id</th>\n      <th>lang_holdtype</th>\n      <th>lang_holddescriptionorig</th>\n      <th>lang_holddescription</th>\n      <th>lang_holdfromdate</th>\n      <th>lang_holdtodate</th>\n      <th>lang_holdreason</th>\n      <th>lang_holduser</th>\n    </tr>\n  </thead>\n  <tbody>\n    <tr>\n      <th>0</th>\n      <td>90584410</td>\n      <td>934CD26D-98D8-ED11-A7C5-000D3AE8685A</td>\n      <td>100410398</td>\n      <td>IE</td>\n      <td>International Ed</td>\n      <td>C88E3682-61D9-ED11-A7C5-002248AF89AD</td>\n      <td>2023-01-31 00:00:00.0000000</td>\n      <td>2023-02-16 00:00:00.0000000</td>\n      <td>Approval Rec'd by Global</td>\n      <td>EIKARI</td>\n    </tr>\n    <tr>\n      <th>1</th>\n      <td>90584410</td>\n      <td>934CD26D-98D8-ED11-A7C5-000D3AE8685A</td>\n      <td>100410398</td>\n      <td>LO</td>\n      <td>Registrar's Hold</td>\n      <td>CA8E3682-61D9-ED11-A7C5-002248AF89AD</td>\n      <td>2023-03-31 00:00:00.0000000</td>\n      <td>2023-04-01 00:00:00.0000000</td>\n      <td>Daily Regn Attempts Reached</td>\n      <td>NaN</td>\n    </tr>\n    <tr>\n      <th>2</th>\n      <td>90584410</td>\n      <td>934CD26D-98D8-ED11-A7C5-000D3AE8685A</td>\n      <td>100410398</td>\n      <td>LO</td>\n      <td>Registrar's Hold</td>\n      <td>CA8E3682-61D9-ED11-A7C5-002248AF89AD</td>\n      <td>2023-04-02 00:00:00.0000000</td>\n      <td>2023-04-03 00:00:00.0000000</td>\n      <td>Daily Regn Attempts Reached</td>\n      <td>NaN</td>\n    </tr>\n    <tr>\n      <th>3</th>\n      <td>90582998</td>\n      <td>E8EE093F-98D8-ED11-A7C5-002248AF80A6</td>\n      <td>100408993</td>\n      <td>IE</td>\n      <td>International Ed</td>\n      <td>C88E3682-61D9-ED11-A7C5-002248AF89AD</td>\n      <td>2023-01-26 00:00:00.0000000</td>\n      <td>2023-02-16 00:00:00.0000000</td>\n      <td>Approval Rec'd by Global</td>\n      <td>EIKARI</td>\n    </tr>\n    <tr>\n      <th>4</th>\n      <td>90584961</td>\n      <td>140C135B-98D8-ED11-A7C5-002248B1F6C0</td>\n      <td>100410943</td>\n      <td>LO</td>\n      <td>Registrar's Hold</td>\n      <td>CA8E3682-61D9-ED11-A7C5-002248AF89AD</td>\n      <td>2023-04-02 00:00:00.0000000</td>\n      <td>2023-04-03 00:00:00.0000000</td>\n      <td>Daily Regn Attempts Reached</td>\n      <td>NaN</td>\n    </tr>\n    <tr>\n      <th>...</th>\n      <td>...</td>\n      <td>...</td>\n      <td>...</td>\n      <td>...</td>\n      <td>...</td>\n      <td>...</td>\n      <td>...</td>\n      <td>...</td>\n      <td>...</td>\n      <td>...</td>\n    </tr>\n    <tr>\n      <th>35030</th>\n      <td>90570727</td>\n      <td>CEC75BFA-95D8-ED11-A7C5-000D3AE866C8</td>\n      <td>100396907</td>\n      <td>IE</td>\n      <td>International Ed</td>\n      <td>C88E3682-61D9-ED11-A7C5-002248AF89AD</td>\n      <td>2022-07-08 00:00:00.0000000</td>\n      <td>2022-07-08 00:00:00.0000000</td>\n      <td>Approval Rec'd by Global</td>\n      <td>EIKARI</td>\n    </tr>\n    <tr>\n      <th>35031</th>\n      <td>90570732</td>\n      <td>D3747224-90D8-ED11-A7C5-002248B1F6EE</td>\n      <td>100396912</td>\n      <td>IE</td>\n      <td>International Ed</td>\n      <td>C88E3682-61D9-ED11-A7C5-002248AF89AD</td>\n      <td>2022-06-14 00:00:00.0000000</td>\n      <td>2022-08-07 00:00:00.0000000</td>\n      <td>Approval Rec'd by Global</td>\n      <td>EIKARI</td>\n    </tr>\n    <tr>\n      <th>35032</th>\n      <td>90572261</td>\n      <td>9B4020E7-9AD8-ED11-A7C5-002248AF8630</td>\n      <td>100398426</td>\n      <td>IE</td>\n      <td>International Ed</td>\n      <td>C88E3682-61D9-ED11-A7C5-002248AF89AD</td>\n      <td>2023-02-24 00:00:00.0000000</td>\n      <td>2023-03-03 00:00:00.0000000</td>\n      <td>Approval Rec'd by Global</td>\n      <td>EIKARI</td>\n    </tr>\n    <tr>\n      <th>35033</th>\n      <td>90581944</td>\n      <td>5A4C0E6D-98D8-ED11-A7C5-002248AF80A6</td>\n      <td>100407963</td>\n      <td>IE</td>\n      <td>International Ed</td>\n      <td>C88E3682-61D9-ED11-A7C5-002248AF89AD</td>\n      <td>2022-10-03 00:00:00.0000000</td>\n      <td>2023-02-17 00:00:00.0000000</td>\n      <td>Approval Rec'd by Global</td>\n      <td>EIKARI</td>\n    </tr>\n    <tr>\n      <th>35034</th>\n      <td>90576398</td>\n      <td>A8FBB88E-96D8-ED11-A7C5-000D3AE86452</td>\n      <td>100402527</td>\n      <td>IE</td>\n      <td>International Ed</td>\n      <td>C88E3682-61D9-ED11-A7C5-002248AF89AD</td>\n      <td>2023-03-09 00:00:00.0000000</td>\n      <td>2023-03-13 00:00:00.0000000</td>\n      <td>Approval Rec'd by Global</td>\n      <td>EIKARI</td>\n    </tr>\n  </tbody>\n</table>\n<p>35035 rows × 10 columns</p>\n</div>"
     },
     "execution_count": 13,
     "metadata": {},
     "output_type": "execute_result"
    }
   ],
   "source": [
    "df2 = pd.read_csv(\"data/Validate/Hold Data.csv\")\n",
    "df2"
   ],
   "metadata": {
    "collapsed": false
   }
  },
  {
   "cell_type": "code",
   "execution_count": 14,
   "outputs": [
    {
     "data": {
      "text/plain": "PIDM_KEY           int64\nID                 int64\nHOLD_TYPE         object\nHOLD_DESC         object\nHOLD_FROM_DATE    object\nHOLD_TO_DATE      object\nHOLD_REASON       object\nHOLD_USER         object\ndtype: object"
     },
     "execution_count": 14,
     "metadata": {},
     "output_type": "execute_result"
    }
   ],
   "source": [
    "df1.dtypes"
   ],
   "metadata": {
    "collapsed": false
   }
  },
  {
   "cell_type": "code",
   "execution_count": 16,
   "outputs": [
    {
     "data": {
      "text/plain": "0       1999-12-21\n1       2016-06-20\n2       2017-07-13\n3       2019-07-12\n4       2014-08-11\n           ...    \n33960   2023-03-23\n33961   1999-12-31\n33962   1999-12-31\n33963   2023-04-05\n33964   2022-10-21\nName: HOLD_TO_DATE, Length: 33965, dtype: datetime64[ns]"
     },
     "execution_count": 16,
     "metadata": {},
     "output_type": "execute_result"
    }
   ],
   "source": [
    "pd.to_datetime(df1.HOLD_TO_DATE, format=\"%d-%b-%y\")"
   ],
   "metadata": {
    "collapsed": false
   }
  },
  {
   "cell_type": "code",
   "execution_count": 25,
   "outputs": [
    {
     "data": {
      "text/plain": "0       2023-01-31\n1       2023-03-31\n2       2023-04-02\n3       2023-01-26\n4       2023-04-02\n           ...    \n35030   2022-07-08\n35031   2022-06-14\n35032   2023-02-24\n35033   2022-10-03\n35034   2023-03-09\nName: lang_holdfromdate, Length: 35035, dtype: datetime64[ns]"
     },
     "execution_count": 25,
     "metadata": {},
     "output_type": "execute_result"
    }
   ],
   "source": [
    "pd.to_datetime(df2.lang_holdfromdate)"
   ],
   "metadata": {
    "collapsed": false
   }
  },
  {
   "cell_type": "code",
   "execution_count": 20,
   "outputs": [
    {
     "data": {
      "text/plain": "       PIDM_KEY         ID HOLD_TYPE                    HOLD_DESC   \n503    90471850  100299584        LO             Registrar's Hold  \\\n1243   90501650  100328795        ZP  A&S Program Update Required   \n1334   90426660  100257973        LO             Registrar's Hold   \n4436   90260594  100126732        ZP  A&S Program Update Required   \n4616   90209433  100079990        ZP  A&S Program Update Required   \n5699   90267825  100133963        ZP  A&S Program Update Required   \n5942   90278857  100144961        ZP  A&S Program Update Required   \n6797   90255673  100121852        ZP  A&S Program Update Required   \n6879   90489100  100316232        LO             Registrar's Hold   \n10344  90539905  100366551        DC               CS-Dean's Hold   \n11426  90489706  100316840        ZP  A&S Program Update Required   \n11556  90216122  100084632        ZP  A&S Program Update Required   \n12909  90086180   94340213        ZP  A&S Program Update Required   \n12911  90210049  100080393        ZP  A&S Program Update Required   \n14805  90485160  100312292        ZP  A&S Program Update Required   \n15371  90218333  100086233        ZP  A&S Program Update Required   \n17106  90210049  100080393        ZP  A&S Program Update Required   \n18164  90501650  100328795        ZP  A&S Program Update Required   \n18422  90267825  100133963        ZP  A&S Program Update Required   \n19876  90489706  100316840        ZP  A&S Program Update Required   \n20037  90446959  100276534        ZP  A&S Program Update Required   \n20039  90446959  100276534        ZP  A&S Program Update Required   \n20227  90212572  100082699        ZP  A&S Program Update Required   \n21356  90260594  100126732        ZP  A&S Program Update Required   \n21600  90451711  100280657        ZP  A&S Program Update Required   \n23241  90485160  100312292        ZP  A&S Program Update Required   \n23829  90255673  100121852        ZP  A&S Program Update Required   \n23913  90489100  100316232        LO             Registrar's Hold   \n24288  90216122  100084632        ZP  A&S Program Update Required   \n24312  90441515  100271686        ZP  A&S Program Update Required   \n24502  90179482  100058195        ZP  A&S Program Update Required   \n25446  90340999  100188225        ZP  A&S Program Update Required   \n25447  90340999  100188225        ZP  A&S Program Update Required   \n25920  90209433  100079990        ZP  A&S Program Update Required   \n25946  90451711  100280657        ZP  A&S Program Update Required   \n26005  90471850  100299584        LO             Registrar's Hold   \n26768  90248213  100114492        ZP  A&S Program Update Required   \n26769  90248213  100114492        ZP  A&S Program Update Required   \n26799  90426660  100257973        LO             Registrar's Hold   \n28643  90441515  100271686        ZP  A&S Program Update Required   \n28834  90212572  100082699        ZP  A&S Program Update Required   \n29939  90086180   94340213        ZP  A&S Program Update Required   \n31526  90278857  100144961        ZP  A&S Program Update Required   \n31644  90539905  100366551        DC               CS-Dean's Hold   \n32402  90218333  100086233        ZP  A&S Program Update Required   \n33071  90179482  100058195        ZP  A&S Program Update Required   \n\n      HOLD_FROM_DATE HOLD_TO_DATE                  HOLD_REASON HOLD_USER  \n503        16-NOV-17    17-NOV-17  Daily Regn Attempts Reached       NaN  \n1243       11-DEC-20    14-DEC-20                          NaN       NaN  \n1334       28-DEC-15    29-DEC-15  Daily Regn Attempts Reached       NaN  \n4436       03-APR-13    03-APR-13                          NaN       NaN  \n4616       05-AUG-12    05-AUG-12                          NaN       NaN  \n5699       03-NOV-14    18-MAR-17                          NaN       NaN  \n5942       30-JUN-14    30-JUN-14                          NaN       NaN  \n6797       14-NOV-21    14-NOV-21                          NaN       NaN  \n6879       27-MAR-19    28-MAR-19  Daily Regn Attempts Reached       NaN  \n10344      05-OCT-21    18-JAN-22                         SCAI  JCHEDDIE  \n11426      08-JUN-22    15-MAR-23                          NaN   RCHEUNG  \n11556      15-MAR-21    15-MAR-21                          NaN       NaN  \n12909      20-JUN-16    14-NOV-17                          NaN       NaN  \n12911      13-JUL-12    13-JUL-12                          NaN       NaN  \n14805      25-NOV-21    25-NOV-21                          NaN       NaN  \n15371      23-NOV-17    23-NOV-17                          NaN       NaN  \n17106      13-JUL-12    13-JUL-12                          NaN       NaN  \n18164      11-DEC-20    14-DEC-20                          NaN       NaN  \n18422      03-NOV-14    18-MAR-17                          NaN       NaN  \n19876      08-JUN-22    15-MAR-23                          NaN   RCHEUNG  \n20037      12-APR-23    12-APR-23                          NaN       NaN  \n20039      12-APR-23    12-APR-23                          NaN       NaN  \n20227      11-JUN-12    11-JUN-12                          NaN       NaN  \n21356      03-APR-13    03-APR-13                          NaN       NaN  \n21600      08-JUN-18    14-APR-20                          NaN       NaN  \n23241      25-NOV-21    25-NOV-21                          NaN       NaN  \n23829      14-NOV-21    14-NOV-21                          NaN       NaN  \n23913      27-MAR-19    28-MAR-19  Daily Regn Attempts Reached       NaN  \n24288      15-MAR-21    15-MAR-21                          NaN       NaN  \n24312      16-JUL-19    21-DEC-99                          NaN       NaN  \n24502      04-APR-15    04-APR-15                          NaN       NaN  \n25446      08-APR-19    08-APR-19                          NaN       NaN  \n25447      08-APR-19    08-APR-19                          NaN       NaN  \n25920      05-AUG-12    05-AUG-12                          NaN       NaN  \n25946      08-JUN-18    14-APR-20                          NaN       NaN  \n26005      16-NOV-17    17-NOV-17  Daily Regn Attempts Reached       NaN  \n26768      12-DEC-13    12-DEC-13                          NaN       NaN  \n26769      12-DEC-13    12-DEC-13                          NaN       NaN  \n26799      28-DEC-15    29-DEC-15  Daily Regn Attempts Reached       NaN  \n28643      16-JUL-19    21-DEC-99                          NaN       NaN  \n28834      11-JUN-12    11-JUN-12                          NaN       NaN  \n29939      20-JUN-16    14-NOV-17                          NaN       NaN  \n31526      30-JUN-14    30-JUN-14                          NaN       NaN  \n31644      05-OCT-21    18-JAN-22                         SCAI  JCHEDDIE  \n32402      23-NOV-17    23-NOV-17                          NaN       NaN  \n33071      04-APR-15    04-APR-15                          NaN       NaN  ",
      "text/html": "<div>\n<style scoped>\n    .dataframe tbody tr th:only-of-type {\n        vertical-align: middle;\n    }\n\n    .dataframe tbody tr th {\n        vertical-align: top;\n    }\n\n    .dataframe thead th {\n        text-align: right;\n    }\n</style>\n<table border=\"1\" class=\"dataframe\">\n  <thead>\n    <tr style=\"text-align: right;\">\n      <th></th>\n      <th>PIDM_KEY</th>\n      <th>ID</th>\n      <th>HOLD_TYPE</th>\n      <th>HOLD_DESC</th>\n      <th>HOLD_FROM_DATE</th>\n      <th>HOLD_TO_DATE</th>\n      <th>HOLD_REASON</th>\n      <th>HOLD_USER</th>\n    </tr>\n  </thead>\n  <tbody>\n    <tr>\n      <th>503</th>\n      <td>90471850</td>\n      <td>100299584</td>\n      <td>LO</td>\n      <td>Registrar's Hold</td>\n      <td>16-NOV-17</td>\n      <td>17-NOV-17</td>\n      <td>Daily Regn Attempts Reached</td>\n      <td>NaN</td>\n    </tr>\n    <tr>\n      <th>1243</th>\n      <td>90501650</td>\n      <td>100328795</td>\n      <td>ZP</td>\n      <td>A&amp;S Program Update Required</td>\n      <td>11-DEC-20</td>\n      <td>14-DEC-20</td>\n      <td>NaN</td>\n      <td>NaN</td>\n    </tr>\n    <tr>\n      <th>1334</th>\n      <td>90426660</td>\n      <td>100257973</td>\n      <td>LO</td>\n      <td>Registrar's Hold</td>\n      <td>28-DEC-15</td>\n      <td>29-DEC-15</td>\n      <td>Daily Regn Attempts Reached</td>\n      <td>NaN</td>\n    </tr>\n    <tr>\n      <th>4436</th>\n      <td>90260594</td>\n      <td>100126732</td>\n      <td>ZP</td>\n      <td>A&amp;S Program Update Required</td>\n      <td>03-APR-13</td>\n      <td>03-APR-13</td>\n      <td>NaN</td>\n      <td>NaN</td>\n    </tr>\n    <tr>\n      <th>4616</th>\n      <td>90209433</td>\n      <td>100079990</td>\n      <td>ZP</td>\n      <td>A&amp;S Program Update Required</td>\n      <td>05-AUG-12</td>\n      <td>05-AUG-12</td>\n      <td>NaN</td>\n      <td>NaN</td>\n    </tr>\n    <tr>\n      <th>5699</th>\n      <td>90267825</td>\n      <td>100133963</td>\n      <td>ZP</td>\n      <td>A&amp;S Program Update Required</td>\n      <td>03-NOV-14</td>\n      <td>18-MAR-17</td>\n      <td>NaN</td>\n      <td>NaN</td>\n    </tr>\n    <tr>\n      <th>5942</th>\n      <td>90278857</td>\n      <td>100144961</td>\n      <td>ZP</td>\n      <td>A&amp;S Program Update Required</td>\n      <td>30-JUN-14</td>\n      <td>30-JUN-14</td>\n      <td>NaN</td>\n      <td>NaN</td>\n    </tr>\n    <tr>\n      <th>6797</th>\n      <td>90255673</td>\n      <td>100121852</td>\n      <td>ZP</td>\n      <td>A&amp;S Program Update Required</td>\n      <td>14-NOV-21</td>\n      <td>14-NOV-21</td>\n      <td>NaN</td>\n      <td>NaN</td>\n    </tr>\n    <tr>\n      <th>6879</th>\n      <td>90489100</td>\n      <td>100316232</td>\n      <td>LO</td>\n      <td>Registrar's Hold</td>\n      <td>27-MAR-19</td>\n      <td>28-MAR-19</td>\n      <td>Daily Regn Attempts Reached</td>\n      <td>NaN</td>\n    </tr>\n    <tr>\n      <th>10344</th>\n      <td>90539905</td>\n      <td>100366551</td>\n      <td>DC</td>\n      <td>CS-Dean's Hold</td>\n      <td>05-OCT-21</td>\n      <td>18-JAN-22</td>\n      <td>SCAI</td>\n      <td>JCHEDDIE</td>\n    </tr>\n    <tr>\n      <th>11426</th>\n      <td>90489706</td>\n      <td>100316840</td>\n      <td>ZP</td>\n      <td>A&amp;S Program Update Required</td>\n      <td>08-JUN-22</td>\n      <td>15-MAR-23</td>\n      <td>NaN</td>\n      <td>RCHEUNG</td>\n    </tr>\n    <tr>\n      <th>11556</th>\n      <td>90216122</td>\n      <td>100084632</td>\n      <td>ZP</td>\n      <td>A&amp;S Program Update Required</td>\n      <td>15-MAR-21</td>\n      <td>15-MAR-21</td>\n      <td>NaN</td>\n      <td>NaN</td>\n    </tr>\n    <tr>\n      <th>12909</th>\n      <td>90086180</td>\n      <td>94340213</td>\n      <td>ZP</td>\n      <td>A&amp;S Program Update Required</td>\n      <td>20-JUN-16</td>\n      <td>14-NOV-17</td>\n      <td>NaN</td>\n      <td>NaN</td>\n    </tr>\n    <tr>\n      <th>12911</th>\n      <td>90210049</td>\n      <td>100080393</td>\n      <td>ZP</td>\n      <td>A&amp;S Program Update Required</td>\n      <td>13-JUL-12</td>\n      <td>13-JUL-12</td>\n      <td>NaN</td>\n      <td>NaN</td>\n    </tr>\n    <tr>\n      <th>14805</th>\n      <td>90485160</td>\n      <td>100312292</td>\n      <td>ZP</td>\n      <td>A&amp;S Program Update Required</td>\n      <td>25-NOV-21</td>\n      <td>25-NOV-21</td>\n      <td>NaN</td>\n      <td>NaN</td>\n    </tr>\n    <tr>\n      <th>15371</th>\n      <td>90218333</td>\n      <td>100086233</td>\n      <td>ZP</td>\n      <td>A&amp;S Program Update Required</td>\n      <td>23-NOV-17</td>\n      <td>23-NOV-17</td>\n      <td>NaN</td>\n      <td>NaN</td>\n    </tr>\n    <tr>\n      <th>17106</th>\n      <td>90210049</td>\n      <td>100080393</td>\n      <td>ZP</td>\n      <td>A&amp;S Program Update Required</td>\n      <td>13-JUL-12</td>\n      <td>13-JUL-12</td>\n      <td>NaN</td>\n      <td>NaN</td>\n    </tr>\n    <tr>\n      <th>18164</th>\n      <td>90501650</td>\n      <td>100328795</td>\n      <td>ZP</td>\n      <td>A&amp;S Program Update Required</td>\n      <td>11-DEC-20</td>\n      <td>14-DEC-20</td>\n      <td>NaN</td>\n      <td>NaN</td>\n    </tr>\n    <tr>\n      <th>18422</th>\n      <td>90267825</td>\n      <td>100133963</td>\n      <td>ZP</td>\n      <td>A&amp;S Program Update Required</td>\n      <td>03-NOV-14</td>\n      <td>18-MAR-17</td>\n      <td>NaN</td>\n      <td>NaN</td>\n    </tr>\n    <tr>\n      <th>19876</th>\n      <td>90489706</td>\n      <td>100316840</td>\n      <td>ZP</td>\n      <td>A&amp;S Program Update Required</td>\n      <td>08-JUN-22</td>\n      <td>15-MAR-23</td>\n      <td>NaN</td>\n      <td>RCHEUNG</td>\n    </tr>\n    <tr>\n      <th>20037</th>\n      <td>90446959</td>\n      <td>100276534</td>\n      <td>ZP</td>\n      <td>A&amp;S Program Update Required</td>\n      <td>12-APR-23</td>\n      <td>12-APR-23</td>\n      <td>NaN</td>\n      <td>NaN</td>\n    </tr>\n    <tr>\n      <th>20039</th>\n      <td>90446959</td>\n      <td>100276534</td>\n      <td>ZP</td>\n      <td>A&amp;S Program Update Required</td>\n      <td>12-APR-23</td>\n      <td>12-APR-23</td>\n      <td>NaN</td>\n      <td>NaN</td>\n    </tr>\n    <tr>\n      <th>20227</th>\n      <td>90212572</td>\n      <td>100082699</td>\n      <td>ZP</td>\n      <td>A&amp;S Program Update Required</td>\n      <td>11-JUN-12</td>\n      <td>11-JUN-12</td>\n      <td>NaN</td>\n      <td>NaN</td>\n    </tr>\n    <tr>\n      <th>21356</th>\n      <td>90260594</td>\n      <td>100126732</td>\n      <td>ZP</td>\n      <td>A&amp;S Program Update Required</td>\n      <td>03-APR-13</td>\n      <td>03-APR-13</td>\n      <td>NaN</td>\n      <td>NaN</td>\n    </tr>\n    <tr>\n      <th>21600</th>\n      <td>90451711</td>\n      <td>100280657</td>\n      <td>ZP</td>\n      <td>A&amp;S Program Update Required</td>\n      <td>08-JUN-18</td>\n      <td>14-APR-20</td>\n      <td>NaN</td>\n      <td>NaN</td>\n    </tr>\n    <tr>\n      <th>23241</th>\n      <td>90485160</td>\n      <td>100312292</td>\n      <td>ZP</td>\n      <td>A&amp;S Program Update Required</td>\n      <td>25-NOV-21</td>\n      <td>25-NOV-21</td>\n      <td>NaN</td>\n      <td>NaN</td>\n    </tr>\n    <tr>\n      <th>23829</th>\n      <td>90255673</td>\n      <td>100121852</td>\n      <td>ZP</td>\n      <td>A&amp;S Program Update Required</td>\n      <td>14-NOV-21</td>\n      <td>14-NOV-21</td>\n      <td>NaN</td>\n      <td>NaN</td>\n    </tr>\n    <tr>\n      <th>23913</th>\n      <td>90489100</td>\n      <td>100316232</td>\n      <td>LO</td>\n      <td>Registrar's Hold</td>\n      <td>27-MAR-19</td>\n      <td>28-MAR-19</td>\n      <td>Daily Regn Attempts Reached</td>\n      <td>NaN</td>\n    </tr>\n    <tr>\n      <th>24288</th>\n      <td>90216122</td>\n      <td>100084632</td>\n      <td>ZP</td>\n      <td>A&amp;S Program Update Required</td>\n      <td>15-MAR-21</td>\n      <td>15-MAR-21</td>\n      <td>NaN</td>\n      <td>NaN</td>\n    </tr>\n    <tr>\n      <th>24312</th>\n      <td>90441515</td>\n      <td>100271686</td>\n      <td>ZP</td>\n      <td>A&amp;S Program Update Required</td>\n      <td>16-JUL-19</td>\n      <td>21-DEC-99</td>\n      <td>NaN</td>\n      <td>NaN</td>\n    </tr>\n    <tr>\n      <th>24502</th>\n      <td>90179482</td>\n      <td>100058195</td>\n      <td>ZP</td>\n      <td>A&amp;S Program Update Required</td>\n      <td>04-APR-15</td>\n      <td>04-APR-15</td>\n      <td>NaN</td>\n      <td>NaN</td>\n    </tr>\n    <tr>\n      <th>25446</th>\n      <td>90340999</td>\n      <td>100188225</td>\n      <td>ZP</td>\n      <td>A&amp;S Program Update Required</td>\n      <td>08-APR-19</td>\n      <td>08-APR-19</td>\n      <td>NaN</td>\n      <td>NaN</td>\n    </tr>\n    <tr>\n      <th>25447</th>\n      <td>90340999</td>\n      <td>100188225</td>\n      <td>ZP</td>\n      <td>A&amp;S Program Update Required</td>\n      <td>08-APR-19</td>\n      <td>08-APR-19</td>\n      <td>NaN</td>\n      <td>NaN</td>\n    </tr>\n    <tr>\n      <th>25920</th>\n      <td>90209433</td>\n      <td>100079990</td>\n      <td>ZP</td>\n      <td>A&amp;S Program Update Required</td>\n      <td>05-AUG-12</td>\n      <td>05-AUG-12</td>\n      <td>NaN</td>\n      <td>NaN</td>\n    </tr>\n    <tr>\n      <th>25946</th>\n      <td>90451711</td>\n      <td>100280657</td>\n      <td>ZP</td>\n      <td>A&amp;S Program Update Required</td>\n      <td>08-JUN-18</td>\n      <td>14-APR-20</td>\n      <td>NaN</td>\n      <td>NaN</td>\n    </tr>\n    <tr>\n      <th>26005</th>\n      <td>90471850</td>\n      <td>100299584</td>\n      <td>LO</td>\n      <td>Registrar's Hold</td>\n      <td>16-NOV-17</td>\n      <td>17-NOV-17</td>\n      <td>Daily Regn Attempts Reached</td>\n      <td>NaN</td>\n    </tr>\n    <tr>\n      <th>26768</th>\n      <td>90248213</td>\n      <td>100114492</td>\n      <td>ZP</td>\n      <td>A&amp;S Program Update Required</td>\n      <td>12-DEC-13</td>\n      <td>12-DEC-13</td>\n      <td>NaN</td>\n      <td>NaN</td>\n    </tr>\n    <tr>\n      <th>26769</th>\n      <td>90248213</td>\n      <td>100114492</td>\n      <td>ZP</td>\n      <td>A&amp;S Program Update Required</td>\n      <td>12-DEC-13</td>\n      <td>12-DEC-13</td>\n      <td>NaN</td>\n      <td>NaN</td>\n    </tr>\n    <tr>\n      <th>26799</th>\n      <td>90426660</td>\n      <td>100257973</td>\n      <td>LO</td>\n      <td>Registrar's Hold</td>\n      <td>28-DEC-15</td>\n      <td>29-DEC-15</td>\n      <td>Daily Regn Attempts Reached</td>\n      <td>NaN</td>\n    </tr>\n    <tr>\n      <th>28643</th>\n      <td>90441515</td>\n      <td>100271686</td>\n      <td>ZP</td>\n      <td>A&amp;S Program Update Required</td>\n      <td>16-JUL-19</td>\n      <td>21-DEC-99</td>\n      <td>NaN</td>\n      <td>NaN</td>\n    </tr>\n    <tr>\n      <th>28834</th>\n      <td>90212572</td>\n      <td>100082699</td>\n      <td>ZP</td>\n      <td>A&amp;S Program Update Required</td>\n      <td>11-JUN-12</td>\n      <td>11-JUN-12</td>\n      <td>NaN</td>\n      <td>NaN</td>\n    </tr>\n    <tr>\n      <th>29939</th>\n      <td>90086180</td>\n      <td>94340213</td>\n      <td>ZP</td>\n      <td>A&amp;S Program Update Required</td>\n      <td>20-JUN-16</td>\n      <td>14-NOV-17</td>\n      <td>NaN</td>\n      <td>NaN</td>\n    </tr>\n    <tr>\n      <th>31526</th>\n      <td>90278857</td>\n      <td>100144961</td>\n      <td>ZP</td>\n      <td>A&amp;S Program Update Required</td>\n      <td>30-JUN-14</td>\n      <td>30-JUN-14</td>\n      <td>NaN</td>\n      <td>NaN</td>\n    </tr>\n    <tr>\n      <th>31644</th>\n      <td>90539905</td>\n      <td>100366551</td>\n      <td>DC</td>\n      <td>CS-Dean's Hold</td>\n      <td>05-OCT-21</td>\n      <td>18-JAN-22</td>\n      <td>SCAI</td>\n      <td>JCHEDDIE</td>\n    </tr>\n    <tr>\n      <th>32402</th>\n      <td>90218333</td>\n      <td>100086233</td>\n      <td>ZP</td>\n      <td>A&amp;S Program Update Required</td>\n      <td>23-NOV-17</td>\n      <td>23-NOV-17</td>\n      <td>NaN</td>\n      <td>NaN</td>\n    </tr>\n    <tr>\n      <th>33071</th>\n      <td>90179482</td>\n      <td>100058195</td>\n      <td>ZP</td>\n      <td>A&amp;S Program Update Required</td>\n      <td>04-APR-15</td>\n      <td>04-APR-15</td>\n      <td>NaN</td>\n      <td>NaN</td>\n    </tr>\n  </tbody>\n</table>\n</div>"
     },
     "execution_count": 20,
     "metadata": {},
     "output_type": "execute_result"
    }
   ],
   "source": [
    "df1[df1.duplicated(subset=['PIDM_KEY', 'HOLD_TYPE', 'HOLD_FROM_DATE', 'HOLD_TO_DATE', 'HOLD_REASON', 'HOLD_USER'], keep=False)]"
   ],
   "metadata": {
    "collapsed": false
   }
  },
  {
   "cell_type": "code",
   "execution_count": 17,
   "outputs": [
    {
     "data": {
      "text/plain": "       PIDM_KEY         ID HOLD_TYPE                    HOLD_DESC   \n28145  90001327  100001308        ZP  A&S Program Update Required  \\\n32398  90001327  100001308        ZP  A&S Program Update Required   \n23825  90001327  100001308        ZP  A&S Program Update Required   \n8869   90002371  100002349        ZP  A&S Program Update Required   \n17535  90002844   84360361        ZP  A&S Program Update Required   \n...         ...        ...       ...                          ...   \n7662   90592643  100418532        RE            Registration Hold   \n3465   90592663  100418552        RE            Registration Hold   \n29061  90592729  100418618        RE            Registration Hold   \n12254  90592794  100418683        IE             International Ed   \n16549  90593800  100419670        RO             Registrar's Hold   \n\n      HOLD_FROM_DATE HOLD_TO_DATE                    HOLD_REASON HOLD_USER  \n28145      17-JUN-20    17-JUN-20                            NaN       NaN  \n32398      08-JUN-19    17-JUN-20                            NaN       NaN  \n23825      01-FEB-20    17-JUN-20                            NaN       NaN  \n8869       11-FEB-20    21-DEC-99                            NaN       NaN  \n17535      04-JUL-16    21-DEC-99                            NaN       NaN  \n...              ...          ...                            ...       ...  \n7662       31-JUL-23    31-DEC-99  Final IB Diploma + Transcript       ALY  \n3465       31-JUL-23    31-DEC-99          Final SMA Certificate       ALY  \n29061      31-JUL-23    31-DEC-99    Final HS Graduation Diploma       ALY  \n12254      09-MAR-23    10-MAR-23       Approval Rec'd by Global    EIKARI  \n16549      15-SEP-23    05-FEB-25  Concurrent Appeal 202330 ONLY  EVULCANO  \n\n[33965 rows x 8 columns]",
      "text/html": "<div>\n<style scoped>\n    .dataframe tbody tr th:only-of-type {\n        vertical-align: middle;\n    }\n\n    .dataframe tbody tr th {\n        vertical-align: top;\n    }\n\n    .dataframe thead th {\n        text-align: right;\n    }\n</style>\n<table border=\"1\" class=\"dataframe\">\n  <thead>\n    <tr style=\"text-align: right;\">\n      <th></th>\n      <th>PIDM_KEY</th>\n      <th>ID</th>\n      <th>HOLD_TYPE</th>\n      <th>HOLD_DESC</th>\n      <th>HOLD_FROM_DATE</th>\n      <th>HOLD_TO_DATE</th>\n      <th>HOLD_REASON</th>\n      <th>HOLD_USER</th>\n    </tr>\n  </thead>\n  <tbody>\n    <tr>\n      <th>28145</th>\n      <td>90001327</td>\n      <td>100001308</td>\n      <td>ZP</td>\n      <td>A&amp;S Program Update Required</td>\n      <td>17-JUN-20</td>\n      <td>17-JUN-20</td>\n      <td>NaN</td>\n      <td>NaN</td>\n    </tr>\n    <tr>\n      <th>32398</th>\n      <td>90001327</td>\n      <td>100001308</td>\n      <td>ZP</td>\n      <td>A&amp;S Program Update Required</td>\n      <td>08-JUN-19</td>\n      <td>17-JUN-20</td>\n      <td>NaN</td>\n      <td>NaN</td>\n    </tr>\n    <tr>\n      <th>23825</th>\n      <td>90001327</td>\n      <td>100001308</td>\n      <td>ZP</td>\n      <td>A&amp;S Program Update Required</td>\n      <td>01-FEB-20</td>\n      <td>17-JUN-20</td>\n      <td>NaN</td>\n      <td>NaN</td>\n    </tr>\n    <tr>\n      <th>8869</th>\n      <td>90002371</td>\n      <td>100002349</td>\n      <td>ZP</td>\n      <td>A&amp;S Program Update Required</td>\n      <td>11-FEB-20</td>\n      <td>21-DEC-99</td>\n      <td>NaN</td>\n      <td>NaN</td>\n    </tr>\n    <tr>\n      <th>17535</th>\n      <td>90002844</td>\n      <td>84360361</td>\n      <td>ZP</td>\n      <td>A&amp;S Program Update Required</td>\n      <td>04-JUL-16</td>\n      <td>21-DEC-99</td>\n      <td>NaN</td>\n      <td>NaN</td>\n    </tr>\n    <tr>\n      <th>...</th>\n      <td>...</td>\n      <td>...</td>\n      <td>...</td>\n      <td>...</td>\n      <td>...</td>\n      <td>...</td>\n      <td>...</td>\n      <td>...</td>\n    </tr>\n    <tr>\n      <th>7662</th>\n      <td>90592643</td>\n      <td>100418532</td>\n      <td>RE</td>\n      <td>Registration Hold</td>\n      <td>31-JUL-23</td>\n      <td>31-DEC-99</td>\n      <td>Final IB Diploma + Transcript</td>\n      <td>ALY</td>\n    </tr>\n    <tr>\n      <th>3465</th>\n      <td>90592663</td>\n      <td>100418552</td>\n      <td>RE</td>\n      <td>Registration Hold</td>\n      <td>31-JUL-23</td>\n      <td>31-DEC-99</td>\n      <td>Final SMA Certificate</td>\n      <td>ALY</td>\n    </tr>\n    <tr>\n      <th>29061</th>\n      <td>90592729</td>\n      <td>100418618</td>\n      <td>RE</td>\n      <td>Registration Hold</td>\n      <td>31-JUL-23</td>\n      <td>31-DEC-99</td>\n      <td>Final HS Graduation Diploma</td>\n      <td>ALY</td>\n    </tr>\n    <tr>\n      <th>12254</th>\n      <td>90592794</td>\n      <td>100418683</td>\n      <td>IE</td>\n      <td>International Ed</td>\n      <td>09-MAR-23</td>\n      <td>10-MAR-23</td>\n      <td>Approval Rec'd by Global</td>\n      <td>EIKARI</td>\n    </tr>\n    <tr>\n      <th>16549</th>\n      <td>90593800</td>\n      <td>100419670</td>\n      <td>RO</td>\n      <td>Registrar's Hold</td>\n      <td>15-SEP-23</td>\n      <td>05-FEB-25</td>\n      <td>Concurrent Appeal 202330 ONLY</td>\n      <td>EVULCANO</td>\n    </tr>\n  </tbody>\n</table>\n<p>33965 rows × 8 columns</p>\n</div>"
     },
     "execution_count": 17,
     "metadata": {},
     "output_type": "execute_result"
    }
   ],
   "source": [
    "df1.sort_values(by=['PIDM_KEY'])"
   ],
   "metadata": {
    "collapsed": false
   }
  },
  {
   "cell_type": "markdown",
   "source": [
    "## Testing"
   ],
   "metadata": {
    "collapsed": false
   }
  },
  {
   "cell_type": "markdown",
   "source": [
    "BT_HOLD_DATA -> None\n",
    "BT_TEST_SCORE -> ['PIDM_KEY', 'TEST_SCORE_CODE', 'TEST_SCORE_DATE']\n",
    "GM_ACADEMIC_HISTORY_DETAIL -> ['PIDM_KEY', 'TERM_CODE_KEY', 'CRN_KEY']\n",
    "xGM_ADMISSIONS_APPLICANT -> ['EXTERNAL_ID'] | ['PIDM_KEY', 'TERM_CODE_KEY', 'APPL_NO_KEY']\n",
    "GM_APPLICATION_CHECKLIST -> ['EXTERNAL_ID', 'ADMR_CODE_KEY']\n",
    "GM_FINANCIAL_HISTORY -> ['PIDM_KEY', 'TRANSACTION_ID']\n",
    "GM_PROGRAM_HISTORY_DETAIL -> ['PIDM_KEY', 'TERM_CODE_KEY']\n",
    "GM_STUDENT_DATA -> ['PIDM_KEY']\n",
    "GM_STUDENT_REGISTRATION_DETAIL -> ['PIDM_KEY', 'TERM_CODE_KEY', 'CRN_KEY'] *Only data for next year (20232, 202320, 20233, 20241)\n"
   ],
   "metadata": {
    "collapsed": false
   }
  },
  {
   "cell_type": "code",
   "execution_count": 1,
   "outputs": [],
   "source": [
    "import pandas as pd\n",
    "from utils import Validator"
   ],
   "metadata": {
    "collapsed": false,
    "ExecuteTime": {
     "end_time": "2023-05-15T23:58:35.725520700Z",
     "start_time": "2023-05-15T23:58:35.101889400Z"
    }
   }
  },
  {
   "cell_type": "markdown",
   "source": [
    "## Hold Data\n",
    "\n",
    "BT_HOLD_DATA -> None"
   ],
   "metadata": {
    "collapsed": false
   }
  },
  {
   "cell_type": "code",
   "execution_count": 4,
   "outputs": [],
   "source": [
    "baseline_filepath = \"data/Baseline/BT_HOLD_DATA.csv\"\n",
    "validate_filepath = \"data/Validate/Hold Data.csv\"\n",
    "column_mapping = [\n",
    "    {\"baseline_col_name\": \"PIDM_KEY\",\n",
    "     \"baseline_col_type\": \"\",\n",
    "     \"validate_col_name\": \"lang_pidmkey\",\n",
    "     \"validate_col_type\": \"\",\n",
    "     \"common_col_type\": \"\",\n",
    "     },\n",
    "    {\"baseline_col_name\": \"ID\",\n",
    "     \"baseline_col_type\": \"\",\n",
    "     \"validate_col_name\": \"lang_id\",\n",
    "     \"validate_col_type\": \"\",\n",
    "     \"common_col_type\": \"\",\n",
    "     },\n",
    "    {\"baseline_col_name\": \"HOLD_TYPE\",\n",
    "     \"baseline_col_type\": \"\",\n",
    "     \"validate_col_name\": \"lang_holdtype\",\n",
    "     \"validate_col_type\": \"\",\n",
    "     \"common_col_type\": \"\",\n",
    "     },\n",
    "    {\"baseline_col_name\": \"HOLD_DESC\",\n",
    "     \"baseline_col_type\": \"\",\n",
    "     \"validate_col_name\": \"lang_holddescriptionorig\",\n",
    "     \"validate_col_type\": \"\",\n",
    "     \"common_col_type\": \"\",\n",
    "     },\n",
    "    {\"baseline_col_name\": \"HOLD_FROM_DATE\",\n",
    "     \"baseline_col_type\": \"\",\n",
    "     \"validate_col_name\": \"lang_holdfromdate\",\n",
    "     \"validate_col_type\": \"\",\n",
    "     \"common_col_type\": \"\",\n",
    "     },\n",
    "    {\"baseline_col_name\": \"HOLD_TO_DATE\",\n",
    "     \"baseline_col_type\": \"\",\n",
    "     \"validate_col_name\": \"lang_holdtodate\",\n",
    "     \"validate_col_type\": \"\",\n",
    "     \"common_col_type\": \"\",\n",
    "     },\n",
    "    {\"baseline_col_name\": \"HOLD_REASON\",\n",
    "     \"baseline_col_type\": \"\",\n",
    "     \"validate_col_name\": \"lang_holdreason\",\n",
    "     \"validate_col_type\": \"\",\n",
    "     \"common_col_type\": \"\",\n",
    "     },\n",
    "    {\"baseline_col_name\": \"HOLD_USER\",\n",
    "     \"baseline_col_type\": \"\",\n",
    "     \"validate_col_name\": \"lang_holduser\",\n",
    "     \"validate_col_type\": \"\",\n",
    "     \"common_col_type\": \"\",\n",
    "     },\n",
    "]\n",
    "baseline_date_cols = {\"HOLD_FROM_DATE\": \"%d-%b-%y\",\n",
    "                      \"HOLD_TO_DATE\": \"%d-%b-%y\",}\n",
    "validate_date_cols = {\"lang_holdfromdate\": None,\n",
    "                      \"lang_holdtodate\": None}\n",
    "col_id = None\n",
    "baseline_encoding = \"latin\"\n",
    "validate_encoding = \"utf-8\"\n",
    "# unify_text = False\n",
    "# text_cols = None\n",
    "unify_text = True\n",
    "text_cols = ['HOLD_REASON']"
   ],
   "metadata": {
    "collapsed": false,
    "ExecuteTime": {
     "end_time": "2023-05-15T23:09:41.579506700Z",
     "start_time": "2023-05-15T23:09:41.531179Z"
    }
   }
  },
  {
   "cell_type": "code",
   "execution_count": 5,
   "outputs": [
    {
     "name": "stderr",
     "output_type": "stream",
     "text": [
      "C:\\Users\\dewit\\OneDrive - Langara College\\Work\\Langara-Business_Data_Analyst\\Work\\CRM\\Data_Validation\\utils.py:319: UserWarning:     Expected data type does not match origin data type. Validation    will force expected type if present, otherwise, real type.\n",
      "  warnings.warn(\"    Expected data type does not match origin data type. Validation\"\n",
      "C:\\Users\\dewit\\OneDrive - Langara College\\Work\\Langara-Business_Data_Analyst\\Work\\CRM\\Data_Validation\\utils.py:326: UserWarning: Warning:\n",
      "        Dataset Baseline\n",
      "        \n",
      "                Column: PIDM_KEY\n",
      "                    Real Type: int64\n",
      "                    Expected Type: NA\n",
      "                Column: ID\n",
      "                    Real Type: int64\n",
      "                    Expected Type: NA\n",
      "                Column: HOLD_TYPE\n",
      "                    Real Type: object\n",
      "                    Expected Type: NA\n",
      "                Column: HOLD_DESC\n",
      "                    Real Type: object\n",
      "                    Expected Type: NA\n",
      "                Column: HOLD_FROM_DATE\n",
      "                    Real Type: datetime64[ns]\n",
      "                    Expected Type: NA\n",
      "                Column: HOLD_TO_DATE\n",
      "                    Real Type: datetime64[ns]\n",
      "                    Expected Type: NA\n",
      "                Column: HOLD_REASON\n",
      "                    Real Type: object\n",
      "                    Expected Type: NA\n",
      "                Column: HOLD_USER\n",
      "                    Real Type: object\n",
      "                    Expected Type: NA\n",
      "  warnings.warn(generate_warn_message(origin_cols_mistype, warn_type='type', dataset_name='baseline'))\n",
      "C:\\Users\\dewit\\OneDrive - Langara College\\Work\\Langara-Business_Data_Analyst\\Work\\CRM\\Data_Validation\\utils.py:328: UserWarning: Warning:\n",
      "        Dataset Validate\n",
      "        \n",
      "                Column: lang_pidmkey\n",
      "                    Real Type: int64\n",
      "                    Expected Type: NA\n",
      "                Column: lang_id\n",
      "                    Real Type: int64\n",
      "                    Expected Type: NA\n",
      "                Column: lang_holdtype\n",
      "                    Real Type: object\n",
      "                    Expected Type: NA\n",
      "                Column: lang_holddescriptionorig\n",
      "                    Real Type: object\n",
      "                    Expected Type: NA\n",
      "                Column: lang_holdfromdate\n",
      "                    Real Type: datetime64[ns]\n",
      "                    Expected Type: NA\n",
      "                Column: lang_holdtodate\n",
      "                    Real Type: datetime64[ns]\n",
      "                    Expected Type: NA\n",
      "                Column: lang_holdreason\n",
      "                    Real Type: object\n",
      "                    Expected Type: NA\n",
      "                Column: lang_holduser\n",
      "                    Real Type: object\n",
      "                    Expected Type: NA\n",
      "  warnings.warn(generate_warn_message(target_cols_mistype, warn_type='type', dataset_name='validate'))\n"
     ]
    },
    {
     "data": {
      "text/plain": "<utils.Validator at 0x1aea0b34490>"
     },
     "execution_count": 5,
     "metadata": {},
     "output_type": "execute_result"
    }
   ],
   "source": [
    "hold_data_validator = Validator(baseline_filepath=baseline_filepath,\n",
    "                                validate_filepath=validate_filepath,\n",
    "                                column_mapping=column_mapping,\n",
    "                                baseline_date_cols=baseline_date_cols,\n",
    "                                validate_date_cols=validate_date_cols,\n",
    "                                col_id=col_id,\n",
    "                                baseline_encoding=baseline_encoding,\n",
    "                                validate_encoding=validate_encoding,\n",
    "                                unify_text=unify_text,\n",
    "                                text_cols=text_cols,\n",
    "                                )\n",
    "hold_data_validator"
   ],
   "metadata": {
    "collapsed": false,
    "ExecuteTime": {
     "end_time": "2023-05-15T23:09:41.731274500Z",
     "start_time": "2023-05-15T23:09:41.531179Z"
    }
   }
  },
  {
   "cell_type": "code",
   "execution_count": 6,
   "outputs": [
    {
     "data": {
      "text/plain": "{'lang_pidmkey': 'PIDM_KEY',\n 'lang_id': 'ID',\n 'lang_holdtype': 'HOLD_TYPE',\n 'lang_holddescriptionorig': 'HOLD_DESC',\n 'lang_holdfromdate': 'HOLD_FROM_DATE',\n 'lang_holdtodate': 'HOLD_TO_DATE',\n 'lang_holdreason': 'HOLD_REASON',\n 'lang_holduser': 'HOLD_USER'}"
     },
     "execution_count": 6,
     "metadata": {},
     "output_type": "execute_result"
    }
   ],
   "source": [
    "hold_data_validator.name_mapping"
   ],
   "metadata": {
    "collapsed": false,
    "ExecuteTime": {
     "end_time": "2023-05-15T23:09:41.732276800Z",
     "start_time": "2023-05-15T23:09:41.675050400Z"
    }
   }
  },
  {
   "cell_type": "code",
   "execution_count": 7,
   "outputs": [],
   "source": [
    "hold_data_validator.check_existence()"
   ],
   "metadata": {
    "collapsed": false,
    "ExecuteTime": {
     "end_time": "2023-05-15T23:09:42.054597600Z",
     "start_time": "2023-05-15T23:09:41.680731600Z"
    }
   }
  },
  {
   "cell_type": "code",
   "execution_count": 8,
   "outputs": [
    {
     "data": {
      "text/plain": "PIDM_KEY          0\nID                0\nHOLD_TYPE         0\nHOLD_DESC         0\nHOLD_FROM_DATE    0\nHOLD_TO_DATE      0\nHOLD_REASON       0\nHOLD_USER         0\ndtype: int64"
     },
     "execution_count": 8,
     "metadata": {},
     "output_type": "execute_result"
    }
   ],
   "source": [
    "hold_data_validator.existence_result.sum()"
   ],
   "metadata": {
    "collapsed": false,
    "ExecuteTime": {
     "end_time": "2023-05-15T23:09:42.062168700Z",
     "start_time": "2023-05-15T23:09:42.055594900Z"
    }
   }
  },
  {
   "cell_type": "code",
   "execution_count": 9,
   "outputs": [
    {
     "data": {
      "text/plain": "-1071"
     },
     "execution_count": 9,
     "metadata": {},
     "output_type": "execute_result"
    }
   ],
   "source": [
    "hold_data_validator.row_difference"
   ],
   "metadata": {
    "collapsed": false,
    "ExecuteTime": {
     "end_time": "2023-05-15T23:09:44.517352500Z",
     "start_time": "2023-05-15T23:09:44.503116400Z"
    }
   }
  },
  {
   "cell_type": "code",
   "execution_count": 10,
   "outputs": [
    {
     "data": {
      "text/plain": "{'origin_cols_not_in_target': set(),\n 'target_cols_not_in_origin': {'lang_holddescription', 'lang_student'}}"
     },
     "execution_count": 10,
     "metadata": {},
     "output_type": "execute_result"
    }
   ],
   "source": [
    "hold_data_validator.col_difference"
   ],
   "metadata": {
    "collapsed": false,
    "ExecuteTime": {
     "end_time": "2023-05-15T23:10:55.526406800Z",
     "start_time": "2023-05-15T23:10:55.509969900Z"
    }
   }
  },
  {
   "cell_type": "code",
   "execution_count": 11,
   "outputs": [
    {
     "data": {
      "text/plain": "{'origin': 23, 'target': 22}"
     },
     "execution_count": 11,
     "metadata": {},
     "output_type": "execute_result"
    }
   ],
   "source": [
    "hold_data_validator.duplicated_rows"
   ],
   "metadata": {
    "collapsed": false,
    "ExecuteTime": {
     "end_time": "2023-05-15T23:11:04.373905400Z",
     "start_time": "2023-05-15T23:11:04.359588Z"
    }
   }
  },
  {
   "cell_type": "code",
   "execution_count": 13,
   "outputs": [
    {
     "data": {
      "text/plain": "Empty DataFrame\nColumns: []\nIndex: []",
      "text/html": "<div>\n<style scoped>\n    .dataframe tbody tr th:only-of-type {\n        vertical-align: middle;\n    }\n\n    .dataframe tbody tr th {\n        vertical-align: top;\n    }\n\n    .dataframe thead tr th {\n        text-align: left;\n    }\n</style>\n<table border=\"1\" class=\"dataframe\">\n  <thead>\n  </thead>\n  <tbody>\n  </tbody>\n</table>\n</div>"
     },
     "execution_count": 13,
     "metadata": {},
     "output_type": "execute_result"
    }
   ],
   "source": [
    "hold_data_validator.check_equality()\n",
    "hold_data_validator.equality_result"
   ],
   "metadata": {
    "collapsed": false,
    "ExecuteTime": {
     "end_time": "2023-05-15T23:11:23.709086900Z",
     "start_time": "2023-05-15T23:11:23.679605600Z"
    }
   }
  },
  {
   "cell_type": "code",
   "execution_count": 14,
   "outputs": [
    {
     "data": {
      "text/plain": "      PIDM_KEY         ID HOLD_TYPE                    HOLD_DESC   \n0     90024491   81119059        ZP  A&S Program Update Required  \\\n1     90024491   81119059        ZP  A&S Program Update Required   \n2     90084059   91107250        ZP  A&S Program Update Required   \n3     90122813   98353311        TU        Student Balance Owing   \n4     90142332  100021081        TU        Student Balance Owing   \n...        ...        ...       ...                          ...   \n1068  90583287  100409278        IE             International Ed   \n1069  90583349  100409340        IE             International Ed   \n1070  90583428  100409419        IE             International Ed   \n1071  90584571  100410557        RO             Registrar's Hold   \n1072  90585868  100411846        IE             International Ed   \n\n     HOLD_FROM_DATE HOLD_TO_DATE                    HOLD_REASON HOLD_USER  \n0        2012-03-08   2022-06-21                            NaN       NaN  \n1        2022-06-21   2022-06-21                            NaN       NaN  \n2        2022-08-09   2022-08-09                            NaN       NaN  \n3        2023-01-07   1999-12-31  Balance Owing prior to 202310       NaN  \n4        2023-01-07   1999-12-31  Balance Owing prior to 202310       NaN  \n...             ...          ...                            ...       ...  \n1068     2022-10-07   1999-12-31       No proof of study permit    EIKARI  \n1069     2022-10-19   1999-12-31       No proof of study permit    EIKARI  \n1070     2022-11-07   1999-12-31       No proof of study permit    EIKARI  \n1071     2023-01-18   2024-11-23  Concurrent Appeal 202310 ONLY  EVULCANO  \n1072     2022-11-09   1999-12-31       No proof of study permit    EIKARI  \n\n[1073 rows x 8 columns]",
      "text/html": "<div>\n<style scoped>\n    .dataframe tbody tr th:only-of-type {\n        vertical-align: middle;\n    }\n\n    .dataframe tbody tr th {\n        vertical-align: top;\n    }\n\n    .dataframe thead th {\n        text-align: right;\n    }\n</style>\n<table border=\"1\" class=\"dataframe\">\n  <thead>\n    <tr style=\"text-align: right;\">\n      <th></th>\n      <th>PIDM_KEY</th>\n      <th>ID</th>\n      <th>HOLD_TYPE</th>\n      <th>HOLD_DESC</th>\n      <th>HOLD_FROM_DATE</th>\n      <th>HOLD_TO_DATE</th>\n      <th>HOLD_REASON</th>\n      <th>HOLD_USER</th>\n    </tr>\n  </thead>\n  <tbody>\n    <tr>\n      <th>0</th>\n      <td>90024491</td>\n      <td>81119059</td>\n      <td>ZP</td>\n      <td>A&amp;S Program Update Required</td>\n      <td>2012-03-08</td>\n      <td>2022-06-21</td>\n      <td>NaN</td>\n      <td>NaN</td>\n    </tr>\n    <tr>\n      <th>1</th>\n      <td>90024491</td>\n      <td>81119059</td>\n      <td>ZP</td>\n      <td>A&amp;S Program Update Required</td>\n      <td>2022-06-21</td>\n      <td>2022-06-21</td>\n      <td>NaN</td>\n      <td>NaN</td>\n    </tr>\n    <tr>\n      <th>2</th>\n      <td>90084059</td>\n      <td>91107250</td>\n      <td>ZP</td>\n      <td>A&amp;S Program Update Required</td>\n      <td>2022-08-09</td>\n      <td>2022-08-09</td>\n      <td>NaN</td>\n      <td>NaN</td>\n    </tr>\n    <tr>\n      <th>3</th>\n      <td>90122813</td>\n      <td>98353311</td>\n      <td>TU</td>\n      <td>Student Balance Owing</td>\n      <td>2023-01-07</td>\n      <td>1999-12-31</td>\n      <td>Balance Owing prior to 202310</td>\n      <td>NaN</td>\n    </tr>\n    <tr>\n      <th>4</th>\n      <td>90142332</td>\n      <td>100021081</td>\n      <td>TU</td>\n      <td>Student Balance Owing</td>\n      <td>2023-01-07</td>\n      <td>1999-12-31</td>\n      <td>Balance Owing prior to 202310</td>\n      <td>NaN</td>\n    </tr>\n    <tr>\n      <th>...</th>\n      <td>...</td>\n      <td>...</td>\n      <td>...</td>\n      <td>...</td>\n      <td>...</td>\n      <td>...</td>\n      <td>...</td>\n      <td>...</td>\n    </tr>\n    <tr>\n      <th>1068</th>\n      <td>90583287</td>\n      <td>100409278</td>\n      <td>IE</td>\n      <td>International Ed</td>\n      <td>2022-10-07</td>\n      <td>1999-12-31</td>\n      <td>No proof of study permit</td>\n      <td>EIKARI</td>\n    </tr>\n    <tr>\n      <th>1069</th>\n      <td>90583349</td>\n      <td>100409340</td>\n      <td>IE</td>\n      <td>International Ed</td>\n      <td>2022-10-19</td>\n      <td>1999-12-31</td>\n      <td>No proof of study permit</td>\n      <td>EIKARI</td>\n    </tr>\n    <tr>\n      <th>1070</th>\n      <td>90583428</td>\n      <td>100409419</td>\n      <td>IE</td>\n      <td>International Ed</td>\n      <td>2022-11-07</td>\n      <td>1999-12-31</td>\n      <td>No proof of study permit</td>\n      <td>EIKARI</td>\n    </tr>\n    <tr>\n      <th>1071</th>\n      <td>90584571</td>\n      <td>100410557</td>\n      <td>RO</td>\n      <td>Registrar's Hold</td>\n      <td>2023-01-18</td>\n      <td>2024-11-23</td>\n      <td>Concurrent Appeal 202310 ONLY</td>\n      <td>EVULCANO</td>\n    </tr>\n    <tr>\n      <th>1072</th>\n      <td>90585868</td>\n      <td>100411846</td>\n      <td>IE</td>\n      <td>International Ed</td>\n      <td>2022-11-09</td>\n      <td>1999-12-31</td>\n      <td>No proof of study permit</td>\n      <td>EIKARI</td>\n    </tr>\n  </tbody>\n</table>\n<p>1073 rows × 8 columns</p>\n</div>"
     },
     "execution_count": 14,
     "metadata": {},
     "output_type": "execute_result"
    }
   ],
   "source": [
    "hold_data_validator.target_rows_not_in_origin"
   ],
   "metadata": {
    "collapsed": false,
    "ExecuteTime": {
     "end_time": "2023-05-15T23:11:29.606162700Z",
     "start_time": "2023-05-15T23:11:29.582939400Z"
    }
   }
  },
  {
   "cell_type": "code",
   "execution_count": 15,
   "outputs": [
    {
     "data": {
      "text/plain": "   PIDM_KEY         ID HOLD_TYPE          HOLD_DESC HOLD_FROM_DATE   \n0  90567670  100393891        DC     CS-Dean's Hold     2023-03-20  \\\n1  90567670  100393891        RE  Registration Hold     2023-03-20   \n\n  HOLD_TO_DATE HOLD_REASON  HOLD_USER  \n0   2023-03-26        SCAI  DBUSAYONG  \n1   2023-03-26        SCAI  DBUSAYONG  ",
      "text/html": "<div>\n<style scoped>\n    .dataframe tbody tr th:only-of-type {\n        vertical-align: middle;\n    }\n\n    .dataframe tbody tr th {\n        vertical-align: top;\n    }\n\n    .dataframe thead th {\n        text-align: right;\n    }\n</style>\n<table border=\"1\" class=\"dataframe\">\n  <thead>\n    <tr style=\"text-align: right;\">\n      <th></th>\n      <th>PIDM_KEY</th>\n      <th>ID</th>\n      <th>HOLD_TYPE</th>\n      <th>HOLD_DESC</th>\n      <th>HOLD_FROM_DATE</th>\n      <th>HOLD_TO_DATE</th>\n      <th>HOLD_REASON</th>\n      <th>HOLD_USER</th>\n    </tr>\n  </thead>\n  <tbody>\n    <tr>\n      <th>0</th>\n      <td>90567670</td>\n      <td>100393891</td>\n      <td>DC</td>\n      <td>CS-Dean's Hold</td>\n      <td>2023-03-20</td>\n      <td>2023-03-26</td>\n      <td>SCAI</td>\n      <td>DBUSAYONG</td>\n    </tr>\n    <tr>\n      <th>1</th>\n      <td>90567670</td>\n      <td>100393891</td>\n      <td>RE</td>\n      <td>Registration Hold</td>\n      <td>2023-03-20</td>\n      <td>2023-03-26</td>\n      <td>SCAI</td>\n      <td>DBUSAYONG</td>\n    </tr>\n  </tbody>\n</table>\n</div>"
     },
     "execution_count": 15,
     "metadata": {},
     "output_type": "execute_result"
    }
   ],
   "source": [
    "hold_data_validator.origin_rows_not_in_target"
   ],
   "metadata": {
    "collapsed": false,
    "ExecuteTime": {
     "end_time": "2023-05-15T23:11:30.416105400Z",
     "start_time": "2023-05-15T23:11:30.402254800Z"
    }
   }
  },
  {
   "cell_type": "markdown",
   "source": [
    "## Test Score\n",
    "\n",
    "BT_TEST_SCORE -> ['PIDM_KEY', 'TEST_SCORE_CODE', 'TEST_SCORE_DATE']\n",
    "GM_ACADEMIC_HISTORY_DETAIL -> ['PIDM_KEY', 'TERM_CODE_KEY', 'CRN_KEY']\n",
    "xGM_ADMISSIONS_APPLICANT -> ['EXTERNAL_ID'] | ['PIDM_KEY', 'TERM_CODE_KEY', 'APPL_NO_KEY']\n",
    "GM_APPLICATION_CHECKLIST -> ['EXTERNAL_ID', 'ADMR_CODE_KEY']\n",
    "GM_FINANCIAL_HISTORY -> ['PIDM_KEY', 'TRANSACTION_ID']\n",
    "GM_PROGRAM_HISTORY_DETAIL -> ['PIDM_KEY', 'TERM_CODE_KEY']\n",
    "GM_STUDENT_DATA -> ['PIDM_KEY']\n",
    "GM_STUDENT_REGISTRATION_DETAIL -> ['PIDM_KEY', 'TERM_CODE_KEY', 'CRN_KEY'] *Only data for next year (20232, 202320, 20233, 20241)\n"
   ],
   "metadata": {
    "collapsed": false
   }
  },
  {
   "cell_type": "code",
   "execution_count": 17,
   "outputs": [],
   "source": [
    "baseline_filepath = \"data/Baseline/BT_TEST_SCORE.csv\"\n",
    "validate_filepath = \"data/Validate/Test Score.csv\"\n",
    "column_mapping = [\n",
    "    {\"baseline_col_name\": \"PIDM_KEY\",\n",
    "     \"validate_col_name\": \"lang_pidmkey\",\n",
    "     \"common_col_type\": \"\",\n",
    "     },\n",
    "    {\"baseline_col_name\": \"ID\",\n",
    "     \"validate_col_name\": \"lang_id\",\n",
    "     \"common_col_type\": \"\",\n",
    "     },\n",
    "    {\"baseline_col_name\": \"TEST_SCORE_CODE\",\n",
    "     \"validate_col_name\": \"lang_testscorecode\",\n",
    "     \"common_col_type\": \"\",\n",
    "     },\n",
    "    {\"baseline_col_name\": \"TEST_SCORE_CODE_DESC\",\n",
    "     \"validate_col_name\": \"lang_testscorecodedescriptionorig\",\n",
    "     \"common_col_type\": \"\",\n",
    "     },\n",
    "    {\"baseline_col_name\": \"TEST_SCORE\",\n",
    "     \"validate_col_name\": \"lang_testscore\",\n",
    "     \"common_col_type\": \"\",\n",
    "     },\n",
    "    {\"baseline_col_name\": \"TEST_SCORE_DATE\",\n",
    "     \"validate_col_name\": \"lang_testscoredate\",\n",
    "     \"common_col_type\": \"\",\n",
    "     },\n",
    "    {\"baseline_col_name\": \"TEST_SCORE_TERM\",\n",
    "     \"validate_col_name\": \"lang_testscoreterm\",\n",
    "     \"common_col_type\": \"\",\n",
    "     },\n",
    "]\n",
    "baseline_date_cols = {\"TEST_SCORE_DATE\": \"%d-%b-%y\"}\n",
    "validate_date_cols = {\"lang_testscoredate\": None}\n",
    "col_id = ['PIDM_KEY', 'TEST_SCORE_CODE', 'TEST_SCORE_DATE']\n",
    "baseline_encoding = \"latin\"\n",
    "validate_encoding = \"utf-8\"\n",
    "# unify_text = False\n",
    "# text_cols = None\n",
    "unify_text = False\n",
    "text_cols = None"
   ],
   "metadata": {
    "collapsed": false,
    "ExecuteTime": {
     "end_time": "2023-05-15T23:12:55.387482500Z",
     "start_time": "2023-05-15T23:12:55.370043400Z"
    }
   }
  },
  {
   "cell_type": "code",
   "execution_count": 18,
   "outputs": [
    {
     "name": "stderr",
     "output_type": "stream",
     "text": [
      "C:\\Users\\dewit\\OneDrive - Langara College\\Work\\Langara-Business_Data_Analyst\\Work\\CRM\\Data_Validation\\utils.py:319: UserWarning:     Expected data type does not match origin data type. Validation    will force expected type if present, otherwise, real type.\n",
      "  warnings.warn(\"    Expected data type does not match origin data type. Validation\"\n",
      "C:\\Users\\dewit\\OneDrive - Langara College\\Work\\Langara-Business_Data_Analyst\\Work\\CRM\\Data_Validation\\utils.py:326: UserWarning: Warning:\n",
      "        Dataset Baseline\n",
      "        \n",
      "                Column: PIDM_KEY\n",
      "                    Real Type: int64\n",
      "                    Expected Type: NA\n",
      "                Column: ID\n",
      "                    Real Type: int64\n",
      "                    Expected Type: NA\n",
      "                Column: TEST_SCORE_CODE\n",
      "                    Real Type: object\n",
      "                    Expected Type: NA\n",
      "                Column: TEST_SCORE_CODE_DESC\n",
      "                    Real Type: object\n",
      "                    Expected Type: NA\n",
      "                Column: TEST_SCORE\n",
      "                    Real Type: int64\n",
      "                    Expected Type: NA\n",
      "                Column: TEST_SCORE_DATE\n",
      "                    Real Type: datetime64[ns]\n",
      "                    Expected Type: NA\n",
      "                Column: TEST_SCORE_TERM\n",
      "                    Real Type: int64\n",
      "                    Expected Type: NA\n",
      "  warnings.warn(generate_warn_message(origin_cols_mistype, warn_type='type', dataset_name='baseline'))\n",
      "C:\\Users\\dewit\\OneDrive - Langara College\\Work\\Langara-Business_Data_Analyst\\Work\\CRM\\Data_Validation\\utils.py:328: UserWarning: Warning:\n",
      "        Dataset Validate\n",
      "        \n",
      "                Column: lang_pidmkey\n",
      "                    Real Type: int64\n",
      "                    Expected Type: NA\n",
      "                Column: lang_id\n",
      "                    Real Type: int64\n",
      "                    Expected Type: NA\n",
      "                Column: lang_testscorecode\n",
      "                    Real Type: object\n",
      "                    Expected Type: NA\n",
      "                Column: lang_testscorecodedescriptionorig\n",
      "                    Real Type: object\n",
      "                    Expected Type: NA\n",
      "                Column: lang_testscore\n",
      "                    Real Type: int64\n",
      "                    Expected Type: NA\n",
      "                Column: lang_testscoredate\n",
      "                    Real Type: datetime64[ns]\n",
      "                    Expected Type: NA\n",
      "                Column: lang_testscoreterm\n",
      "                    Real Type: int64\n",
      "                    Expected Type: NA\n",
      "  warnings.warn(generate_warn_message(target_cols_mistype, warn_type='type', dataset_name='validate'))\n"
     ]
    },
    {
     "data": {
      "text/plain": "<utils.Validator at 0x1aea2463050>"
     },
     "execution_count": 18,
     "metadata": {},
     "output_type": "execute_result"
    }
   ],
   "source": [
    "test_score_validator = Validator(baseline_filepath=baseline_filepath,\n",
    "                                 validate_filepath=validate_filepath,\n",
    "                                 column_mapping=column_mapping,\n",
    "                                 baseline_date_cols=baseline_date_cols,\n",
    "                                 validate_date_cols=validate_date_cols,\n",
    "                                 col_id=col_id,\n",
    "                                 baseline_encoding=baseline_encoding,\n",
    "                                 validate_encoding=validate_encoding,\n",
    "                                 unify_text=unify_text,\n",
    "                                 text_cols=text_cols,\n",
    "                                 )\n",
    "test_score_validator"
   ],
   "metadata": {
    "collapsed": false,
    "ExecuteTime": {
     "end_time": "2023-05-15T23:12:57.577966200Z",
     "start_time": "2023-05-15T23:12:56.211147500Z"
    }
   }
  },
  {
   "cell_type": "code",
   "execution_count": 19,
   "outputs": [
    {
     "data": {
      "text/plain": "{'lang_pidmkey': 'PIDM_KEY',\n 'lang_id': 'ID',\n 'lang_testscorecode': 'TEST_SCORE_CODE',\n 'lang_testscorecodedescriptionorig': 'TEST_SCORE_CODE_DESC',\n 'lang_testscore': 'TEST_SCORE',\n 'lang_testscoredate': 'TEST_SCORE_DATE',\n 'lang_testscoreterm': 'TEST_SCORE_TERM'}"
     },
     "execution_count": 19,
     "metadata": {},
     "output_type": "execute_result"
    }
   ],
   "source": [
    "test_score_validator.name_mapping"
   ],
   "metadata": {
    "collapsed": false,
    "ExecuteTime": {
     "end_time": "2023-05-15T23:12:57.578966Z",
     "start_time": "2023-05-15T23:12:57.577966200Z"
    }
   }
  },
  {
   "cell_type": "code",
   "execution_count": 20,
   "outputs": [
    {
     "data": {
      "text/plain": "PIDM_KEY                0\nTEST_SCORE_CODE         0\nTEST_SCORE_DATE         0\nID                      7\nTEST_SCORE_CODE_DESC    7\nTEST_SCORE              7\nTEST_SCORE_TERM         7\ndtype: int64"
     },
     "execution_count": 20,
     "metadata": {},
     "output_type": "execute_result"
    }
   ],
   "source": [
    "test_score_validator.check_existence()\n",
    "test_score_validator.existence_result.sum()"
   ],
   "metadata": {
    "collapsed": false,
    "ExecuteTime": {
     "end_time": "2023-05-15T23:12:59.773524500Z",
     "start_time": "2023-05-15T23:12:58.300896800Z"
    }
   }
  },
  {
   "cell_type": "code",
   "execution_count": 21,
   "outputs": [
    {
     "data": {
      "text/plain": "-218808"
     },
     "execution_count": 21,
     "metadata": {},
     "output_type": "execute_result"
    }
   ],
   "source": [
    "test_score_validator.row_difference"
   ],
   "metadata": {
    "collapsed": false,
    "ExecuteTime": {
     "end_time": "2023-05-15T23:14:23.952772700Z",
     "start_time": "2023-05-15T23:14:23.936601700Z"
    }
   }
  },
  {
   "cell_type": "code",
   "execution_count": 22,
   "outputs": [
    {
     "data": {
      "text/plain": "{'origin_cols_not_in_target': set(),\n 'target_cols_not_in_origin': {'lang_student',\n  'lang_testscorecodedescription'}}"
     },
     "execution_count": 22,
     "metadata": {},
     "output_type": "execute_result"
    }
   ],
   "source": [
    "test_score_validator.col_difference"
   ],
   "metadata": {
    "collapsed": false,
    "ExecuteTime": {
     "end_time": "2023-05-15T23:15:36.244911500Z",
     "start_time": "2023-05-15T23:15:36.233882200Z"
    }
   }
  },
  {
   "cell_type": "code",
   "execution_count": 23,
   "outputs": [
    {
     "data": {
      "text/plain": "{'origin': 0, 'target': 0}"
     },
     "execution_count": 23,
     "metadata": {},
     "output_type": "execute_result"
    }
   ],
   "source": [
    "test_score_validator.duplicated_rows"
   ],
   "metadata": {
    "collapsed": false,
    "ExecuteTime": {
     "end_time": "2023-05-15T23:15:38.581493Z",
     "start_time": "2023-05-15T23:15:38.577442Z"
    }
   }
  },
  {
   "cell_type": "code",
   "execution_count": 24,
   "outputs": [
    {
     "data": {
      "text/plain": "                 ID        TEST_SCORE_CODE_DESC        TEST_SCORE          \n             origin target               origin target     origin target   \n475617  100418705.0    NaN           Biology 12    NaN       80.0    NaN  \\\n475618  100418705.0    NaN         Chemistry 12    NaN       55.0    NaN   \n475619  100418705.0    NaN           English 12    NaN       75.0    NaN   \n475620  100418705.0    NaN       Mathematics 11    NaN       64.0    NaN   \n479450  100421207.0    NaN           English 12    NaN       80.0    NaN   \n479451  100421207.0    NaN       Mathematics 11    NaN       75.0    NaN   \n479452  100421207.0    NaN           Physics 12    NaN       71.0    NaN   \n\n       TEST_SCORE_TERM         \n                origin target  \n475617        202030.0    NaN  \n475618        202030.0    NaN  \n475619        202030.0    NaN  \n475620        201910.0    NaN  \n479450        202120.0    NaN  \n479451        202120.0    NaN  \n479452        202120.0    NaN  ",
      "text/html": "<div>\n<style scoped>\n    .dataframe tbody tr th:only-of-type {\n        vertical-align: middle;\n    }\n\n    .dataframe tbody tr th {\n        vertical-align: top;\n    }\n\n    .dataframe thead tr th {\n        text-align: left;\n    }\n</style>\n<table border=\"1\" class=\"dataframe\">\n  <thead>\n    <tr>\n      <th></th>\n      <th colspan=\"2\" halign=\"left\">ID</th>\n      <th colspan=\"2\" halign=\"left\">TEST_SCORE_CODE_DESC</th>\n      <th colspan=\"2\" halign=\"left\">TEST_SCORE</th>\n      <th colspan=\"2\" halign=\"left\">TEST_SCORE_TERM</th>\n    </tr>\n    <tr>\n      <th></th>\n      <th>origin</th>\n      <th>target</th>\n      <th>origin</th>\n      <th>target</th>\n      <th>origin</th>\n      <th>target</th>\n      <th>origin</th>\n      <th>target</th>\n    </tr>\n  </thead>\n  <tbody>\n    <tr>\n      <th>475617</th>\n      <td>100418705.0</td>\n      <td>NaN</td>\n      <td>Biology 12</td>\n      <td>NaN</td>\n      <td>80.0</td>\n      <td>NaN</td>\n      <td>202030.0</td>\n      <td>NaN</td>\n    </tr>\n    <tr>\n      <th>475618</th>\n      <td>100418705.0</td>\n      <td>NaN</td>\n      <td>Chemistry 12</td>\n      <td>NaN</td>\n      <td>55.0</td>\n      <td>NaN</td>\n      <td>202030.0</td>\n      <td>NaN</td>\n    </tr>\n    <tr>\n      <th>475619</th>\n      <td>100418705.0</td>\n      <td>NaN</td>\n      <td>English 12</td>\n      <td>NaN</td>\n      <td>75.0</td>\n      <td>NaN</td>\n      <td>202030.0</td>\n      <td>NaN</td>\n    </tr>\n    <tr>\n      <th>475620</th>\n      <td>100418705.0</td>\n      <td>NaN</td>\n      <td>Mathematics 11</td>\n      <td>NaN</td>\n      <td>64.0</td>\n      <td>NaN</td>\n      <td>201910.0</td>\n      <td>NaN</td>\n    </tr>\n    <tr>\n      <th>479450</th>\n      <td>100421207.0</td>\n      <td>NaN</td>\n      <td>English 12</td>\n      <td>NaN</td>\n      <td>80.0</td>\n      <td>NaN</td>\n      <td>202120.0</td>\n      <td>NaN</td>\n    </tr>\n    <tr>\n      <th>479451</th>\n      <td>100421207.0</td>\n      <td>NaN</td>\n      <td>Mathematics 11</td>\n      <td>NaN</td>\n      <td>75.0</td>\n      <td>NaN</td>\n      <td>202120.0</td>\n      <td>NaN</td>\n    </tr>\n    <tr>\n      <th>479452</th>\n      <td>100421207.0</td>\n      <td>NaN</td>\n      <td>Physics 12</td>\n      <td>NaN</td>\n      <td>71.0</td>\n      <td>NaN</td>\n      <td>202120.0</td>\n      <td>NaN</td>\n    </tr>\n  </tbody>\n</table>\n</div>"
     },
     "execution_count": 24,
     "metadata": {},
     "output_type": "execute_result"
    }
   ],
   "source": [
    "test_score_validator.check_equality()\n",
    "test_score_validator.equality_result"
   ],
   "metadata": {
    "collapsed": false,
    "ExecuteTime": {
     "end_time": "2023-05-15T23:15:41.333364800Z",
     "start_time": "2023-05-15T23:15:41.180256100Z"
    }
   }
  },
  {
   "cell_type": "code",
   "execution_count": 27,
   "outputs": [
    {
     "data": {
      "text/plain": "        PIDM_KEY TEST_SCORE_CODE TEST_SCORE_DATE  ID TEST_SCORE_CODE_DESC   \n0       90002371             LET      2004-05-08 NaN                  NaN  \\\n1       90002844            CRED      2007-07-27 NaN                  NaN   \n2       90002844            ECRD      2008-08-05 NaN                  NaN   \n3       90002871            CRED      2007-06-11 NaN                  NaN   \n4       90002871            ECRD      2009-05-07 NaN                  NaN   \n...          ...             ...             ...  ..                  ...   \n218810  90595286            CHE2      2000-06-01 NaN                  NaN   \n218811  90595286            ENG2      2000-06-01 NaN                  NaN   \n218812  90595286            FRE1      1999-06-01 NaN                  NaN   \n218813  90595286            MAT1      1999-06-01 NaN                  NaN   \n218814  90595286            MAT2      2000-06-01 NaN                  NaN   \n\n        TEST_SCORE  TEST_SCORE_TERM  \n0              NaN              NaN  \n1              NaN              NaN  \n2              NaN              NaN  \n3              NaN              NaN  \n4              NaN              NaN  \n...            ...              ...  \n218810         NaN              NaN  \n218811         NaN              NaN  \n218812         NaN              NaN  \n218813         NaN              NaN  \n218814         NaN              NaN  \n\n[218815 rows x 7 columns]",
      "text/html": "<div>\n<style scoped>\n    .dataframe tbody tr th:only-of-type {\n        vertical-align: middle;\n    }\n\n    .dataframe tbody tr th {\n        vertical-align: top;\n    }\n\n    .dataframe thead th {\n        text-align: right;\n    }\n</style>\n<table border=\"1\" class=\"dataframe\">\n  <thead>\n    <tr style=\"text-align: right;\">\n      <th></th>\n      <th>PIDM_KEY</th>\n      <th>TEST_SCORE_CODE</th>\n      <th>TEST_SCORE_DATE</th>\n      <th>ID</th>\n      <th>TEST_SCORE_CODE_DESC</th>\n      <th>TEST_SCORE</th>\n      <th>TEST_SCORE_TERM</th>\n    </tr>\n  </thead>\n  <tbody>\n    <tr>\n      <th>0</th>\n      <td>90002371</td>\n      <td>LET</td>\n      <td>2004-05-08</td>\n      <td>NaN</td>\n      <td>NaN</td>\n      <td>NaN</td>\n      <td>NaN</td>\n    </tr>\n    <tr>\n      <th>1</th>\n      <td>90002844</td>\n      <td>CRED</td>\n      <td>2007-07-27</td>\n      <td>NaN</td>\n      <td>NaN</td>\n      <td>NaN</td>\n      <td>NaN</td>\n    </tr>\n    <tr>\n      <th>2</th>\n      <td>90002844</td>\n      <td>ECRD</td>\n      <td>2008-08-05</td>\n      <td>NaN</td>\n      <td>NaN</td>\n      <td>NaN</td>\n      <td>NaN</td>\n    </tr>\n    <tr>\n      <th>3</th>\n      <td>90002871</td>\n      <td>CRED</td>\n      <td>2007-06-11</td>\n      <td>NaN</td>\n      <td>NaN</td>\n      <td>NaN</td>\n      <td>NaN</td>\n    </tr>\n    <tr>\n      <th>4</th>\n      <td>90002871</td>\n      <td>ECRD</td>\n      <td>2009-05-07</td>\n      <td>NaN</td>\n      <td>NaN</td>\n      <td>NaN</td>\n      <td>NaN</td>\n    </tr>\n    <tr>\n      <th>...</th>\n      <td>...</td>\n      <td>...</td>\n      <td>...</td>\n      <td>...</td>\n      <td>...</td>\n      <td>...</td>\n      <td>...</td>\n    </tr>\n    <tr>\n      <th>218810</th>\n      <td>90595286</td>\n      <td>CHE2</td>\n      <td>2000-06-01</td>\n      <td>NaN</td>\n      <td>NaN</td>\n      <td>NaN</td>\n      <td>NaN</td>\n    </tr>\n    <tr>\n      <th>218811</th>\n      <td>90595286</td>\n      <td>ENG2</td>\n      <td>2000-06-01</td>\n      <td>NaN</td>\n      <td>NaN</td>\n      <td>NaN</td>\n      <td>NaN</td>\n    </tr>\n    <tr>\n      <th>218812</th>\n      <td>90595286</td>\n      <td>FRE1</td>\n      <td>1999-06-01</td>\n      <td>NaN</td>\n      <td>NaN</td>\n      <td>NaN</td>\n      <td>NaN</td>\n    </tr>\n    <tr>\n      <th>218813</th>\n      <td>90595286</td>\n      <td>MAT1</td>\n      <td>1999-06-01</td>\n      <td>NaN</td>\n      <td>NaN</td>\n      <td>NaN</td>\n      <td>NaN</td>\n    </tr>\n    <tr>\n      <th>218814</th>\n      <td>90595286</td>\n      <td>MAT2</td>\n      <td>2000-06-01</td>\n      <td>NaN</td>\n      <td>NaN</td>\n      <td>NaN</td>\n      <td>NaN</td>\n    </tr>\n  </tbody>\n</table>\n<p>218815 rows × 7 columns</p>\n</div>"
     },
     "execution_count": 27,
     "metadata": {},
     "output_type": "execute_result"
    }
   ],
   "source": [
    "test_score_validator.target_rows_not_in_origin"
   ],
   "metadata": {
    "collapsed": false,
    "ExecuteTime": {
     "end_time": "2023-05-15T23:16:00.517425300Z",
     "start_time": "2023-05-15T23:16:00.494390Z"
    }
   }
  },
  {
   "cell_type": "code",
   "execution_count": 28,
   "outputs": [
    {
     "data": {
      "text/plain": "   PIDM_KEY TEST_SCORE_CODE TEST_SCORE_DATE  ID TEST_SCORE_CODE_DESC   \n0  90592816            BIO2      2020-09-01 NaN                  NaN  \\\n1  90592816            CHE2      2020-09-01 NaN                  NaN   \n2  90592816            ENG2      2020-09-01 NaN                  NaN   \n3  90592816            MAT1      2019-03-03 NaN                  NaN   \n4  90595376            ENG2      2021-05-21 NaN                  NaN   \n5  90595376            MAT1      2021-05-21 NaN                  NaN   \n6  90595376            PHY2      2021-05-21 NaN                  NaN   \n\n   TEST_SCORE  TEST_SCORE_TERM  \n0         NaN              NaN  \n1         NaN              NaN  \n2         NaN              NaN  \n3         NaN              NaN  \n4         NaN              NaN  \n5         NaN              NaN  \n6         NaN              NaN  ",
      "text/html": "<div>\n<style scoped>\n    .dataframe tbody tr th:only-of-type {\n        vertical-align: middle;\n    }\n\n    .dataframe tbody tr th {\n        vertical-align: top;\n    }\n\n    .dataframe thead th {\n        text-align: right;\n    }\n</style>\n<table border=\"1\" class=\"dataframe\">\n  <thead>\n    <tr style=\"text-align: right;\">\n      <th></th>\n      <th>PIDM_KEY</th>\n      <th>TEST_SCORE_CODE</th>\n      <th>TEST_SCORE_DATE</th>\n      <th>ID</th>\n      <th>TEST_SCORE_CODE_DESC</th>\n      <th>TEST_SCORE</th>\n      <th>TEST_SCORE_TERM</th>\n    </tr>\n  </thead>\n  <tbody>\n    <tr>\n      <th>0</th>\n      <td>90592816</td>\n      <td>BIO2</td>\n      <td>2020-09-01</td>\n      <td>NaN</td>\n      <td>NaN</td>\n      <td>NaN</td>\n      <td>NaN</td>\n    </tr>\n    <tr>\n      <th>1</th>\n      <td>90592816</td>\n      <td>CHE2</td>\n      <td>2020-09-01</td>\n      <td>NaN</td>\n      <td>NaN</td>\n      <td>NaN</td>\n      <td>NaN</td>\n    </tr>\n    <tr>\n      <th>2</th>\n      <td>90592816</td>\n      <td>ENG2</td>\n      <td>2020-09-01</td>\n      <td>NaN</td>\n      <td>NaN</td>\n      <td>NaN</td>\n      <td>NaN</td>\n    </tr>\n    <tr>\n      <th>3</th>\n      <td>90592816</td>\n      <td>MAT1</td>\n      <td>2019-03-03</td>\n      <td>NaN</td>\n      <td>NaN</td>\n      <td>NaN</td>\n      <td>NaN</td>\n    </tr>\n    <tr>\n      <th>4</th>\n      <td>90595376</td>\n      <td>ENG2</td>\n      <td>2021-05-21</td>\n      <td>NaN</td>\n      <td>NaN</td>\n      <td>NaN</td>\n      <td>NaN</td>\n    </tr>\n    <tr>\n      <th>5</th>\n      <td>90595376</td>\n      <td>MAT1</td>\n      <td>2021-05-21</td>\n      <td>NaN</td>\n      <td>NaN</td>\n      <td>NaN</td>\n      <td>NaN</td>\n    </tr>\n    <tr>\n      <th>6</th>\n      <td>90595376</td>\n      <td>PHY2</td>\n      <td>2021-05-21</td>\n      <td>NaN</td>\n      <td>NaN</td>\n      <td>NaN</td>\n      <td>NaN</td>\n    </tr>\n  </tbody>\n</table>\n</div>"
     },
     "execution_count": 28,
     "metadata": {},
     "output_type": "execute_result"
    }
   ],
   "source": [
    "test_score_validator.origin_rows_not_in_target"
   ],
   "metadata": {
    "collapsed": false,
    "ExecuteTime": {
     "end_time": "2023-05-15T23:16:01.894989800Z",
     "start_time": "2023-05-15T23:16:01.876405100Z"
    }
   }
  },
  {
   "cell_type": "markdown",
   "source": [
    "## Academic History\n",
    "\n",
    "GM_ACADEMIC_HISTORY_DETAIL -> ['PIDM_KEY', 'TERM_CODE_KEY', 'CRN_KEY']\n",
    "GM_ADMISSIONS_APPLICANT -> ['EXTERNAL_ID'] | ['PIDM_KEY', 'TERM_CODE_KEY', 'APPL_NO_KEY']\n",
    "GM_APPLICATION_CHECKLIST -> ['EXTERNAL_ID', 'ADMR_CODE_KEY']\n",
    "GM_FINANCIAL_HISTORY -> ['PIDM_KEY', 'TRANSACTION_ID']\n",
    "GM_PROGRAM_HISTORY_DETAIL -> ['PIDM_KEY', 'TERM_CODE_KEY']\n",
    "GM_STUDENT_DATA -> ['PIDM_KEY']\n",
    "GM_STUDENT_REGISTRATION_DETAIL -> ['PIDM_KEY', 'TERM_CODE_KEY', 'CRN_KEY'] *Only data for next year (20232, 202320, 20233, 20241)\n"
   ],
   "metadata": {
    "collapsed": false
   }
  },
  {
   "cell_type": "code",
   "execution_count": 7,
   "outputs": [],
   "source": [
    "baseline_filepath = \"data/Baseline/GM_ACADEMIC_HISTORY_DETAIL.csv\"\n",
    "validate_filepath = \"data/Validate/Course History.csv\"\n",
    "column_mapping = [\n",
    "    {\"baseline_col_name\": \"PIDM_KEY\",\n",
    "     \"validate_col_name\": \"lang_pidmkey\",\n",
    "     \"common_col_type\": \"\",\n",
    "     },\n",
    "    {\"baseline_col_name\": \"TERM_CODE_KEY\",\n",
    "     \"validate_col_name\": \"lang_termcodekey\",\n",
    "     \"common_col_type\": \"\",\n",
    "     },\n",
    "    {\"baseline_col_name\": \"CRN_KEY\",\n",
    "     \"validate_col_name\": \"lang_crnkey\",\n",
    "     \"common_col_type\": \"\",\n",
    "     },\n",
    "    {\"baseline_col_name\": \"ID\",\n",
    "     \"validate_col_name\": \"lang_id\",\n",
    "     \"common_col_type\": \"\",\n",
    "     },\n",
    "    {\"baseline_col_name\": \"SUBJ_CODE\",\n",
    "     \"validate_col_name\": \"lang_subjectcode\",\n",
    "     \"common_col_type\": \"\",\n",
    "     },\n",
    "    {\"baseline_col_name\": \"COURSE_NUMBER\",\n",
    "     \"validate_col_name\": \"lang_coursenumber\",\n",
    "     \"common_col_type\": \"\",\n",
    "     },\n",
    "    {\"baseline_col_name\": \"COURSE_TITLE\",\n",
    "     \"validate_col_name\": \"lang_coursetitleorig\",\n",
    "     \"common_col_type\": \"\",\n",
    "     },\n",
    "    {\"baseline_col_name\": \"GRADE_CODE\",\n",
    "     \"validate_col_name\": \"lang_gradecode\",\n",
    "     \"common_col_type\": \"\",\n",
    "     },\n",
    "    {\"baseline_col_name\": \"CREDIT_HOURS\",\n",
    "     \"validate_col_name\": \"mshied_creditsearrned\",\n",
    "     \"common_col_type\": \"\",\n",
    "     },\n",
    "    {\"baseline_col_name\": \"REPEAT_COURSE_IND\",\n",
    "     \"validate_col_name\": \"lang_repeatcourseind\",\n",
    "     \"common_col_type\": \"\",\n",
    "     },\n",
    "]\n",
    "baseline_date_cols = None # {\"TEST_SCORE_DATE\": \"%d-%b-%y\"}\n",
    "validate_date_cols = None # {\"lang_testscoredate\": None}\n",
    "col_id = ['PIDM_KEY', 'TERM_CODE_KEY', 'CRN_KEY']\n",
    "baseline_encoding = \"latin\"\n",
    "validate_encoding = \"utf-8\"\n",
    "# unify_text = False\n",
    "# text_cols = None\n",
    "unify_text = False\n",
    "text_cols = None"
   ],
   "metadata": {
    "collapsed": false,
    "ExecuteTime": {
     "end_time": "2023-05-16T00:00:22.192549700Z",
     "start_time": "2023-05-16T00:00:22.174186Z"
    }
   }
  },
  {
   "cell_type": "code",
   "execution_count": 8,
   "outputs": [
    {
     "name": "stderr",
     "output_type": "stream",
     "text": [
      "C:\\Users\\dewit\\OneDrive - Langara College\\Work\\Langara-Business_Data_Analyst\\Work\\CRM\\Data_Validation\\utils.py:36: DtypeWarning: Columns (10) have mixed types. Specify dtype option on import or set low_memory=False.\n",
      "  temp_df = pd.read_csv(filepath, encoding=encoding)\n",
      "C:\\Users\\dewit\\OneDrive - Langara College\\Work\\Langara-Business_Data_Analyst\\Work\\CRM\\Data_Validation\\utils.py:319: UserWarning:     Expected data type does not match origin data type. Validation    will force expected type if present, otherwise, real type.\n",
      "  warnings.warn(\"    Expected data type does not match origin data type. Validation\"\n",
      "C:\\Users\\dewit\\OneDrive - Langara College\\Work\\Langara-Business_Data_Analyst\\Work\\CRM\\Data_Validation\\utils.py:326: UserWarning: Warning:\n",
      "        Dataset Baseline\n",
      "        \n",
      "                Column: PIDM_KEY\n",
      "                    Real Type: int64\n",
      "                    Expected Type: NA\n",
      "                Column: TERM_CODE_KEY\n",
      "                    Real Type: int64\n",
      "                    Expected Type: NA\n",
      "                Column: CRN_KEY\n",
      "                    Real Type: int64\n",
      "                    Expected Type: NA\n",
      "                Column: ID\n",
      "                    Real Type: int64\n",
      "                    Expected Type: NA\n",
      "                Column: SUBJ_CODE\n",
      "                    Real Type: object\n",
      "                    Expected Type: NA\n",
      "                Column: COURSE_NUMBER\n",
      "                    Real Type: int64\n",
      "                    Expected Type: NA\n",
      "                Column: COURSE_TITLE\n",
      "                    Real Type: object\n",
      "                    Expected Type: NA\n",
      "                Column: GRADE_CODE\n",
      "                    Real Type: object\n",
      "                    Expected Type: NA\n",
      "                Column: CREDIT_HOURS\n",
      "                    Real Type: float64\n",
      "                    Expected Type: NA\n",
      "                Column: REPEAT_COURSE_IND\n",
      "                    Real Type: object\n",
      "                    Expected Type: NA\n",
      "  warnings.warn(generate_warn_message(origin_cols_mistype, warn_type='type', dataset_name='baseline'))\n",
      "C:\\Users\\dewit\\OneDrive - Langara College\\Work\\Langara-Business_Data_Analyst\\Work\\CRM\\Data_Validation\\utils.py:328: UserWarning: Warning:\n",
      "        Dataset Validate\n",
      "        \n",
      "                Column: lang_pidmkey\n",
      "                    Real Type: int64\n",
      "                    Expected Type: NA\n",
      "                Column: lang_termcodekey\n",
      "                    Real Type: int64\n",
      "                    Expected Type: NA\n",
      "                Column: lang_crnkey\n",
      "                    Real Type: object\n",
      "                    Expected Type: NA\n",
      "                Column: lang_id\n",
      "                    Real Type: int64\n",
      "                    Expected Type: NA\n",
      "                Column: lang_subjectcode\n",
      "                    Real Type: object\n",
      "                    Expected Type: NA\n",
      "                Column: lang_coursenumber\n",
      "                    Real Type: object\n",
      "                    Expected Type: NA\n",
      "                Column: lang_coursetitleorig\n",
      "                    Real Type: object\n",
      "                    Expected Type: NA\n",
      "                Column: lang_gradecode\n",
      "                    Real Type: object\n",
      "                    Expected Type: NA\n",
      "                Column: mshied_creditsearrned\n",
      "                    Real Type: float64\n",
      "                    Expected Type: NA\n",
      "                Column: lang_repeatcourseind\n",
      "                    Real Type: object\n",
      "                    Expected Type: NA\n",
      "  warnings.warn(generate_warn_message(target_cols_mistype, warn_type='type', dataset_name='validate'))\n"
     ]
    },
    {
     "data": {
      "text/plain": "<utils.Validator at 0x1e3cfaa7b90>"
     },
     "execution_count": 8,
     "metadata": {},
     "output_type": "execute_result"
    }
   ],
   "source": [
    "acad_hist_validator = Validator(baseline_filepath=baseline_filepath,\n",
    "                                 validate_filepath=validate_filepath,\n",
    "                                 column_mapping=column_mapping,\n",
    "                                 baseline_date_cols=baseline_date_cols,\n",
    "                                 validate_date_cols=validate_date_cols,\n",
    "                                 col_id=col_id,\n",
    "                                 baseline_encoding=baseline_encoding,\n",
    "                                 validate_encoding=validate_encoding,\n",
    "                                 unify_text=unify_text,\n",
    "                                 text_cols=text_cols,\n",
    "                                 )\n",
    "acad_hist_validator"
   ],
   "metadata": {
    "collapsed": false,
    "ExecuteTime": {
     "end_time": "2023-05-16T00:00:24.727704700Z",
     "start_time": "2023-05-16T00:00:22.914610400Z"
    }
   }
  },
  {
   "cell_type": "code",
   "execution_count": 9,
   "outputs": [
    {
     "data": {
      "text/plain": "{'lang_pidmkey': 'PIDM_KEY',\n 'lang_termcodekey': 'TERM_CODE_KEY',\n 'lang_crnkey': 'CRN_KEY',\n 'lang_id': 'ID',\n 'lang_subjectcode': 'SUBJ_CODE',\n 'lang_coursenumber': 'COURSE_NUMBER',\n 'lang_coursetitleorig': 'COURSE_TITLE',\n 'lang_gradecode': 'GRADE_CODE',\n 'mshied_creditsearrned': 'CREDIT_HOURS',\n 'lang_repeatcourseind': 'REPEAT_COURSE_IND'}"
     },
     "execution_count": 9,
     "metadata": {},
     "output_type": "execute_result"
    }
   ],
   "source": [
    "acad_hist_validator.name_mapping"
   ],
   "metadata": {
    "collapsed": false,
    "ExecuteTime": {
     "end_time": "2023-05-16T00:00:25.691329Z",
     "start_time": "2023-05-16T00:00:25.687882200Z"
    }
   }
  },
  {
   "cell_type": "code",
   "execution_count": 10,
   "outputs": [
    {
     "name": "stderr",
     "output_type": "stream",
     "text": [
      "C:\\Users\\dewit\\OneDrive - Langara College\\Work\\Langara-Business_Data_Analyst\\Work\\CRM\\Data_Validation\\utils.py:406: RuntimeWarning: The values in the array are unorderable. Pass `sort=False` to suppress this warning.\n",
      "  origin_temp, target_temp = self.__origin_data_for_validation.align(self.__target_data_for_validation, axis=0)\n"
     ]
    },
    {
     "data": {
      "text/plain": "PIDM_KEY                  0\nTERM_CODE_KEY             0\nCRN_KEY                   0\nID                   225981\nSUBJ_CODE            225981\nCOURSE_NUMBER        225981\nCOURSE_TITLE         225981\nGRADE_CODE           225981\nCREDIT_HOURS         225981\nREPEAT_COURSE_IND      6824\ndtype: int64"
     },
     "execution_count": 10,
     "metadata": {},
     "output_type": "execute_result"
    }
   ],
   "source": [
    "acad_hist_validator.check_existence()\n",
    "acad_hist_validator.existence_result.sum()"
   ],
   "metadata": {
    "collapsed": false,
    "ExecuteTime": {
     "end_time": "2023-05-16T00:00:32.054450700Z",
     "start_time": "2023-05-16T00:00:30.317029500Z"
    }
   }
  },
  {
   "cell_type": "code",
   "execution_count": 11,
   "outputs": [
    {
     "data": {
      "text/plain": "-478620"
     },
     "execution_count": 11,
     "metadata": {},
     "output_type": "execute_result"
    }
   ],
   "source": [
    "acad_hist_validator.row_difference"
   ],
   "metadata": {
    "collapsed": false,
    "ExecuteTime": {
     "end_time": "2023-05-16T00:00:37.329837800Z",
     "start_time": "2023-05-16T00:00:37.316081700Z"
    }
   }
  },
  {
   "cell_type": "code",
   "execution_count": 12,
   "outputs": [
    {
     "data": {
      "text/plain": "{'origin_cols_not_in_target': set(),\n 'target_cols_not_in_origin': {'lang_subjectdescription',\n  'lang_subjectdescriptionorig',\n  'lang_termdescriptionorig',\n  'mshied_academicperiodid',\n  'mshied_courseid',\n  'mshied_studentid'}}"
     },
     "execution_count": 12,
     "metadata": {},
     "output_type": "execute_result"
    }
   ],
   "source": [
    "acad_hist_validator.col_difference"
   ],
   "metadata": {
    "collapsed": false,
    "ExecuteTime": {
     "end_time": "2023-05-16T00:00:38.278735400Z",
     "start_time": "2023-05-16T00:00:38.273773200Z"
    }
   }
  },
  {
   "cell_type": "code",
   "execution_count": 13,
   "outputs": [
    {
     "data": {
      "text/plain": "{'origin': 0, 'target': 0}"
     },
     "execution_count": 13,
     "metadata": {},
     "output_type": "execute_result"
    }
   ],
   "source": [
    "acad_hist_validator.duplicated_rows"
   ],
   "metadata": {
    "collapsed": false,
    "ExecuteTime": {
     "end_time": "2023-05-16T00:00:43.787285400Z",
     "start_time": "2023-05-16T00:00:43.783120700Z"
    }
   }
  },
  {
   "cell_type": "code",
   "execution_count": 14,
   "outputs": [
    {
     "data": {
      "text/plain": "                 ID        SUBJ_CODE        COURSE_NUMBER          \n             origin target    origin target        origin target   \n0       100144835.0    NaN      BUSM    NaN          1100    NaN  \\\n1       100144835.0    NaN      FMGT    NaN          1115    NaN   \n2       100148443.0    NaN      PHYS    NaN          2323    NaN   \n3       100148443.0    NaN      JAPN    NaN          1115    NaN   \n4       100164679.0    NaN      FLMA    NaN          1270    NaN   \n...             ...    ...       ...    ...           ...    ...   \n225976  100357993.0    NaN      ALTR    NaN          1090    NaN   \n225977  100284208.0    NaN      PSYC    NaN          1215    NaN   \n225978  100372004.0    NaN      BIOL    NaN          1115    NaN   \n225979  100372004.0    NaN      BIOL    NaN          2370    NaN   \n225980  100372004.0    NaN      EXPE    NaN          2300    NaN   \n\n                          COURSE_TITLE        GRADE_CODE        CREDIT_HOURS   \n                                origin target     origin target       origin   \n0          Intro to Business in Canada    NaN         NG    NaN          3.0  \\\n1               Financial Accounting I    NaN         NG    NaN          3.0   \n2                  Newtonian Mechanics    NaN         B+    NaN          3.0   \n3                Beginner's Japanese I    NaN         C-    NaN          3.0   \n4       Career Dvpt for the Flm Crftpr    NaN         A-    NaN          3.0   \n...                                ...    ...        ...    ...          ...   \n225976         Introduction to Massage    NaN          A    NaN          1.7   \n225977        Intro Soc, Pers & Abnorm    NaN         A-    NaN          3.0   \n225978               General Biology I    NaN         B+    NaN          4.0   \n225979                  Microbiology I    NaN         C+    NaN          3.0   \n225980   Emplmnt Strtgs Crrnt Lbr Mrkt    NaN         B+    NaN          3.0   \n\n              REPEAT_COURSE_IND         \n       target            origin target  \n0         NaN               NaN    NaN  \n1         NaN               NaN    NaN  \n2         NaN               NaN    NaN  \n3         NaN               NaN    NaN  \n4         NaN               NaN    NaN  \n...       ...               ...    ...  \n225976    NaN               NaN    NaN  \n225977    NaN               NaN    NaN  \n225978    NaN               NaN    NaN  \n225979    NaN               NaN    NaN  \n225980    NaN               NaN    NaN  \n\n[225981 rows x 14 columns]",
      "text/html": "<div>\n<style scoped>\n    .dataframe tbody tr th:only-of-type {\n        vertical-align: middle;\n    }\n\n    .dataframe tbody tr th {\n        vertical-align: top;\n    }\n\n    .dataframe thead tr th {\n        text-align: left;\n    }\n</style>\n<table border=\"1\" class=\"dataframe\">\n  <thead>\n    <tr>\n      <th></th>\n      <th colspan=\"2\" halign=\"left\">ID</th>\n      <th colspan=\"2\" halign=\"left\">SUBJ_CODE</th>\n      <th colspan=\"2\" halign=\"left\">COURSE_NUMBER</th>\n      <th colspan=\"2\" halign=\"left\">COURSE_TITLE</th>\n      <th colspan=\"2\" halign=\"left\">GRADE_CODE</th>\n      <th colspan=\"2\" halign=\"left\">CREDIT_HOURS</th>\n      <th colspan=\"2\" halign=\"left\">REPEAT_COURSE_IND</th>\n    </tr>\n    <tr>\n      <th></th>\n      <th>origin</th>\n      <th>target</th>\n      <th>origin</th>\n      <th>target</th>\n      <th>origin</th>\n      <th>target</th>\n      <th>origin</th>\n      <th>target</th>\n      <th>origin</th>\n      <th>target</th>\n      <th>origin</th>\n      <th>target</th>\n      <th>origin</th>\n      <th>target</th>\n    </tr>\n  </thead>\n  <tbody>\n    <tr>\n      <th>0</th>\n      <td>100144835.0</td>\n      <td>NaN</td>\n      <td>BUSM</td>\n      <td>NaN</td>\n      <td>1100</td>\n      <td>NaN</td>\n      <td>Intro to Business in Canada</td>\n      <td>NaN</td>\n      <td>NG</td>\n      <td>NaN</td>\n      <td>3.0</td>\n      <td>NaN</td>\n      <td>NaN</td>\n      <td>NaN</td>\n    </tr>\n    <tr>\n      <th>1</th>\n      <td>100144835.0</td>\n      <td>NaN</td>\n      <td>FMGT</td>\n      <td>NaN</td>\n      <td>1115</td>\n      <td>NaN</td>\n      <td>Financial Accounting I</td>\n      <td>NaN</td>\n      <td>NG</td>\n      <td>NaN</td>\n      <td>3.0</td>\n      <td>NaN</td>\n      <td>NaN</td>\n      <td>NaN</td>\n    </tr>\n    <tr>\n      <th>2</th>\n      <td>100148443.0</td>\n      <td>NaN</td>\n      <td>PHYS</td>\n      <td>NaN</td>\n      <td>2323</td>\n      <td>NaN</td>\n      <td>Newtonian Mechanics</td>\n      <td>NaN</td>\n      <td>B+</td>\n      <td>NaN</td>\n      <td>3.0</td>\n      <td>NaN</td>\n      <td>NaN</td>\n      <td>NaN</td>\n    </tr>\n    <tr>\n      <th>3</th>\n      <td>100148443.0</td>\n      <td>NaN</td>\n      <td>JAPN</td>\n      <td>NaN</td>\n      <td>1115</td>\n      <td>NaN</td>\n      <td>Beginner's Japanese I</td>\n      <td>NaN</td>\n      <td>C-</td>\n      <td>NaN</td>\n      <td>3.0</td>\n      <td>NaN</td>\n      <td>NaN</td>\n      <td>NaN</td>\n    </tr>\n    <tr>\n      <th>4</th>\n      <td>100164679.0</td>\n      <td>NaN</td>\n      <td>FLMA</td>\n      <td>NaN</td>\n      <td>1270</td>\n      <td>NaN</td>\n      <td>Career Dvpt for the Flm Crftpr</td>\n      <td>NaN</td>\n      <td>A-</td>\n      <td>NaN</td>\n      <td>3.0</td>\n      <td>NaN</td>\n      <td>NaN</td>\n      <td>NaN</td>\n    </tr>\n    <tr>\n      <th>...</th>\n      <td>...</td>\n      <td>...</td>\n      <td>...</td>\n      <td>...</td>\n      <td>...</td>\n      <td>...</td>\n      <td>...</td>\n      <td>...</td>\n      <td>...</td>\n      <td>...</td>\n      <td>...</td>\n      <td>...</td>\n      <td>...</td>\n      <td>...</td>\n    </tr>\n    <tr>\n      <th>225976</th>\n      <td>100357993.0</td>\n      <td>NaN</td>\n      <td>ALTR</td>\n      <td>NaN</td>\n      <td>1090</td>\n      <td>NaN</td>\n      <td>Introduction to Massage</td>\n      <td>NaN</td>\n      <td>A</td>\n      <td>NaN</td>\n      <td>1.7</td>\n      <td>NaN</td>\n      <td>NaN</td>\n      <td>NaN</td>\n    </tr>\n    <tr>\n      <th>225977</th>\n      <td>100284208.0</td>\n      <td>NaN</td>\n      <td>PSYC</td>\n      <td>NaN</td>\n      <td>1215</td>\n      <td>NaN</td>\n      <td>Intro Soc, Pers &amp; Abnorm</td>\n      <td>NaN</td>\n      <td>A-</td>\n      <td>NaN</td>\n      <td>3.0</td>\n      <td>NaN</td>\n      <td>NaN</td>\n      <td>NaN</td>\n    </tr>\n    <tr>\n      <th>225978</th>\n      <td>100372004.0</td>\n      <td>NaN</td>\n      <td>BIOL</td>\n      <td>NaN</td>\n      <td>1115</td>\n      <td>NaN</td>\n      <td>General Biology I</td>\n      <td>NaN</td>\n      <td>B+</td>\n      <td>NaN</td>\n      <td>4.0</td>\n      <td>NaN</td>\n      <td>NaN</td>\n      <td>NaN</td>\n    </tr>\n    <tr>\n      <th>225979</th>\n      <td>100372004.0</td>\n      <td>NaN</td>\n      <td>BIOL</td>\n      <td>NaN</td>\n      <td>2370</td>\n      <td>NaN</td>\n      <td>Microbiology I</td>\n      <td>NaN</td>\n      <td>C+</td>\n      <td>NaN</td>\n      <td>3.0</td>\n      <td>NaN</td>\n      <td>NaN</td>\n      <td>NaN</td>\n    </tr>\n    <tr>\n      <th>225980</th>\n      <td>100372004.0</td>\n      <td>NaN</td>\n      <td>EXPE</td>\n      <td>NaN</td>\n      <td>2300</td>\n      <td>NaN</td>\n      <td>Emplmnt Strtgs Crrnt Lbr Mrkt</td>\n      <td>NaN</td>\n      <td>B+</td>\n      <td>NaN</td>\n      <td>3.0</td>\n      <td>NaN</td>\n      <td>NaN</td>\n      <td>NaN</td>\n    </tr>\n  </tbody>\n</table>\n<p>225981 rows × 14 columns</p>\n</div>"
     },
     "execution_count": 14,
     "metadata": {},
     "output_type": "execute_result"
    }
   ],
   "source": [
    "acad_hist_validator.check_equality()\n",
    "acad_hist_validator.equality_result"
   ],
   "metadata": {
    "collapsed": false,
    "ExecuteTime": {
     "end_time": "2023-05-16T00:00:45.320338400Z",
     "start_time": "2023-05-16T00:00:45.015764Z"
    }
   }
  },
  {
   "cell_type": "code",
   "execution_count": 15,
   "outputs": [
    {
     "data": {
      "text/plain": "        PIDM_KEY  TERM_CODE_KEY CRN_KEY  ID SUBJ_CODE COURSE_NUMBER   \n0       90544859         202220   20342 NaN       NaN           NaN  \\\n1       90543736         202220   20342 NaN       NaN           NaN   \n2       90542825         202220   20342 NaN       NaN           NaN   \n3       90532530         202220   20342 NaN       NaN           NaN   \n4       90552431         202220   20372 NaN       NaN           NaN   \n...          ...            ...     ...  ..       ...           ...   \n704596  90531948         202130   30462 NaN       NaN           NaN   \n704597  90500141         202130   30463 NaN       NaN           NaN   \n704598  90404599         202130   30463 NaN       NaN           NaN   \n704599  90465016         202130   30463 NaN       NaN           NaN   \n704600  90476220         202130   30463 NaN       NaN           NaN   \n\n       COURSE_TITLE GRADE_CODE  CREDIT_HOURS REPEAT_COURSE_IND  \n0               NaN        NaN           NaN               NaN  \n1               NaN        NaN           NaN               NaN  \n2               NaN        NaN           NaN               NaN  \n3               NaN        NaN           NaN               NaN  \n4               NaN        NaN           NaN               NaN  \n...             ...        ...           ...               ...  \n704596          NaN        NaN           NaN               NaN  \n704597          NaN        NaN           NaN               NaN  \n704598          NaN        NaN           NaN               NaN  \n704599          NaN        NaN           NaN               NaN  \n704600          NaN        NaN           NaN               NaN  \n\n[704601 rows x 10 columns]",
      "text/html": "<div>\n<style scoped>\n    .dataframe tbody tr th:only-of-type {\n        vertical-align: middle;\n    }\n\n    .dataframe tbody tr th {\n        vertical-align: top;\n    }\n\n    .dataframe thead th {\n        text-align: right;\n    }\n</style>\n<table border=\"1\" class=\"dataframe\">\n  <thead>\n    <tr style=\"text-align: right;\">\n      <th></th>\n      <th>PIDM_KEY</th>\n      <th>TERM_CODE_KEY</th>\n      <th>CRN_KEY</th>\n      <th>ID</th>\n      <th>SUBJ_CODE</th>\n      <th>COURSE_NUMBER</th>\n      <th>COURSE_TITLE</th>\n      <th>GRADE_CODE</th>\n      <th>CREDIT_HOURS</th>\n      <th>REPEAT_COURSE_IND</th>\n    </tr>\n  </thead>\n  <tbody>\n    <tr>\n      <th>0</th>\n      <td>90544859</td>\n      <td>202220</td>\n      <td>20342</td>\n      <td>NaN</td>\n      <td>NaN</td>\n      <td>NaN</td>\n      <td>NaN</td>\n      <td>NaN</td>\n      <td>NaN</td>\n      <td>NaN</td>\n    </tr>\n    <tr>\n      <th>1</th>\n      <td>90543736</td>\n      <td>202220</td>\n      <td>20342</td>\n      <td>NaN</td>\n      <td>NaN</td>\n      <td>NaN</td>\n      <td>NaN</td>\n      <td>NaN</td>\n      <td>NaN</td>\n      <td>NaN</td>\n    </tr>\n    <tr>\n      <th>2</th>\n      <td>90542825</td>\n      <td>202220</td>\n      <td>20342</td>\n      <td>NaN</td>\n      <td>NaN</td>\n      <td>NaN</td>\n      <td>NaN</td>\n      <td>NaN</td>\n      <td>NaN</td>\n      <td>NaN</td>\n    </tr>\n    <tr>\n      <th>3</th>\n      <td>90532530</td>\n      <td>202220</td>\n      <td>20342</td>\n      <td>NaN</td>\n      <td>NaN</td>\n      <td>NaN</td>\n      <td>NaN</td>\n      <td>NaN</td>\n      <td>NaN</td>\n      <td>NaN</td>\n    </tr>\n    <tr>\n      <th>4</th>\n      <td>90552431</td>\n      <td>202220</td>\n      <td>20372</td>\n      <td>NaN</td>\n      <td>NaN</td>\n      <td>NaN</td>\n      <td>NaN</td>\n      <td>NaN</td>\n      <td>NaN</td>\n      <td>NaN</td>\n    </tr>\n    <tr>\n      <th>...</th>\n      <td>...</td>\n      <td>...</td>\n      <td>...</td>\n      <td>...</td>\n      <td>...</td>\n      <td>...</td>\n      <td>...</td>\n      <td>...</td>\n      <td>...</td>\n      <td>...</td>\n    </tr>\n    <tr>\n      <th>704596</th>\n      <td>90531948</td>\n      <td>202130</td>\n      <td>30462</td>\n      <td>NaN</td>\n      <td>NaN</td>\n      <td>NaN</td>\n      <td>NaN</td>\n      <td>NaN</td>\n      <td>NaN</td>\n      <td>NaN</td>\n    </tr>\n    <tr>\n      <th>704597</th>\n      <td>90500141</td>\n      <td>202130</td>\n      <td>30463</td>\n      <td>NaN</td>\n      <td>NaN</td>\n      <td>NaN</td>\n      <td>NaN</td>\n      <td>NaN</td>\n      <td>NaN</td>\n      <td>NaN</td>\n    </tr>\n    <tr>\n      <th>704598</th>\n      <td>90404599</td>\n      <td>202130</td>\n      <td>30463</td>\n      <td>NaN</td>\n      <td>NaN</td>\n      <td>NaN</td>\n      <td>NaN</td>\n      <td>NaN</td>\n      <td>NaN</td>\n      <td>NaN</td>\n    </tr>\n    <tr>\n      <th>704599</th>\n      <td>90465016</td>\n      <td>202130</td>\n      <td>30463</td>\n      <td>NaN</td>\n      <td>NaN</td>\n      <td>NaN</td>\n      <td>NaN</td>\n      <td>NaN</td>\n      <td>NaN</td>\n      <td>NaN</td>\n    </tr>\n    <tr>\n      <th>704600</th>\n      <td>90476220</td>\n      <td>202130</td>\n      <td>30463</td>\n      <td>NaN</td>\n      <td>NaN</td>\n      <td>NaN</td>\n      <td>NaN</td>\n      <td>NaN</td>\n      <td>NaN</td>\n      <td>NaN</td>\n    </tr>\n  </tbody>\n</table>\n<p>704601 rows × 10 columns</p>\n</div>"
     },
     "execution_count": 15,
     "metadata": {},
     "output_type": "execute_result"
    }
   ],
   "source": [
    "acad_hist_validator.target_rows_not_in_origin"
   ],
   "metadata": {
    "collapsed": false,
    "ExecuteTime": {
     "end_time": "2023-05-16T00:00:56.165460100Z",
     "start_time": "2023-05-16T00:00:56.148704600Z"
    }
   }
  },
  {
   "cell_type": "code",
   "execution_count": 16,
   "outputs": [
    {
     "data": {
      "text/plain": "        PIDM_KEY  TERM_CODE_KEY CRN_KEY  ID SUBJ_CODE COURSE_NUMBER   \n0       90278731         202010   10523 NaN       NaN           NaN  \\\n1       90278731         202010   11610 NaN       NaN           NaN   \n2       90283871         201810   10719 NaN       NaN           NaN   \n3       90283871         201820   20781 NaN       NaN           NaN   \n4       90306824         201920   20615 NaN       NaN           NaN   \n...          ...            ...     ...  ..       ...           ...   \n225976  90530841          20193   70812 NaN       NaN           NaN   \n225977  90455674         201930   31187 NaN       NaN           NaN   \n225978  90545469         202120   20354 NaN       NaN           NaN   \n225979  90545469         202220   20392 NaN       NaN           NaN   \n225980  90545469         202230   31145 NaN       NaN           NaN   \n\n       COURSE_TITLE GRADE_CODE  CREDIT_HOURS REPEAT_COURSE_IND  \n0               NaN        NaN           NaN               NaN  \n1               NaN        NaN           NaN               NaN  \n2               NaN        NaN           NaN               NaN  \n3               NaN        NaN           NaN               NaN  \n4               NaN        NaN           NaN               NaN  \n...             ...        ...           ...               ...  \n225976          NaN        NaN           NaN               NaN  \n225977          NaN        NaN           NaN               NaN  \n225978          NaN        NaN           NaN               NaN  \n225979          NaN        NaN           NaN               NaN  \n225980          NaN        NaN           NaN               NaN  \n\n[225981 rows x 10 columns]",
      "text/html": "<div>\n<style scoped>\n    .dataframe tbody tr th:only-of-type {\n        vertical-align: middle;\n    }\n\n    .dataframe tbody tr th {\n        vertical-align: top;\n    }\n\n    .dataframe thead th {\n        text-align: right;\n    }\n</style>\n<table border=\"1\" class=\"dataframe\">\n  <thead>\n    <tr style=\"text-align: right;\">\n      <th></th>\n      <th>PIDM_KEY</th>\n      <th>TERM_CODE_KEY</th>\n      <th>CRN_KEY</th>\n      <th>ID</th>\n      <th>SUBJ_CODE</th>\n      <th>COURSE_NUMBER</th>\n      <th>COURSE_TITLE</th>\n      <th>GRADE_CODE</th>\n      <th>CREDIT_HOURS</th>\n      <th>REPEAT_COURSE_IND</th>\n    </tr>\n  </thead>\n  <tbody>\n    <tr>\n      <th>0</th>\n      <td>90278731</td>\n      <td>202010</td>\n      <td>10523</td>\n      <td>NaN</td>\n      <td>NaN</td>\n      <td>NaN</td>\n      <td>NaN</td>\n      <td>NaN</td>\n      <td>NaN</td>\n      <td>NaN</td>\n    </tr>\n    <tr>\n      <th>1</th>\n      <td>90278731</td>\n      <td>202010</td>\n      <td>11610</td>\n      <td>NaN</td>\n      <td>NaN</td>\n      <td>NaN</td>\n      <td>NaN</td>\n      <td>NaN</td>\n      <td>NaN</td>\n      <td>NaN</td>\n    </tr>\n    <tr>\n      <th>2</th>\n      <td>90283871</td>\n      <td>201810</td>\n      <td>10719</td>\n      <td>NaN</td>\n      <td>NaN</td>\n      <td>NaN</td>\n      <td>NaN</td>\n      <td>NaN</td>\n      <td>NaN</td>\n      <td>NaN</td>\n    </tr>\n    <tr>\n      <th>3</th>\n      <td>90283871</td>\n      <td>201820</td>\n      <td>20781</td>\n      <td>NaN</td>\n      <td>NaN</td>\n      <td>NaN</td>\n      <td>NaN</td>\n      <td>NaN</td>\n      <td>NaN</td>\n      <td>NaN</td>\n    </tr>\n    <tr>\n      <th>4</th>\n      <td>90306824</td>\n      <td>201920</td>\n      <td>20615</td>\n      <td>NaN</td>\n      <td>NaN</td>\n      <td>NaN</td>\n      <td>NaN</td>\n      <td>NaN</td>\n      <td>NaN</td>\n      <td>NaN</td>\n    </tr>\n    <tr>\n      <th>...</th>\n      <td>...</td>\n      <td>...</td>\n      <td>...</td>\n      <td>...</td>\n      <td>...</td>\n      <td>...</td>\n      <td>...</td>\n      <td>...</td>\n      <td>...</td>\n      <td>...</td>\n    </tr>\n    <tr>\n      <th>225976</th>\n      <td>90530841</td>\n      <td>20193</td>\n      <td>70812</td>\n      <td>NaN</td>\n      <td>NaN</td>\n      <td>NaN</td>\n      <td>NaN</td>\n      <td>NaN</td>\n      <td>NaN</td>\n      <td>NaN</td>\n    </tr>\n    <tr>\n      <th>225977</th>\n      <td>90455674</td>\n      <td>201930</td>\n      <td>31187</td>\n      <td>NaN</td>\n      <td>NaN</td>\n      <td>NaN</td>\n      <td>NaN</td>\n      <td>NaN</td>\n      <td>NaN</td>\n      <td>NaN</td>\n    </tr>\n    <tr>\n      <th>225978</th>\n      <td>90545469</td>\n      <td>202120</td>\n      <td>20354</td>\n      <td>NaN</td>\n      <td>NaN</td>\n      <td>NaN</td>\n      <td>NaN</td>\n      <td>NaN</td>\n      <td>NaN</td>\n      <td>NaN</td>\n    </tr>\n    <tr>\n      <th>225979</th>\n      <td>90545469</td>\n      <td>202220</td>\n      <td>20392</td>\n      <td>NaN</td>\n      <td>NaN</td>\n      <td>NaN</td>\n      <td>NaN</td>\n      <td>NaN</td>\n      <td>NaN</td>\n      <td>NaN</td>\n    </tr>\n    <tr>\n      <th>225980</th>\n      <td>90545469</td>\n      <td>202230</td>\n      <td>31145</td>\n      <td>NaN</td>\n      <td>NaN</td>\n      <td>NaN</td>\n      <td>NaN</td>\n      <td>NaN</td>\n      <td>NaN</td>\n      <td>NaN</td>\n    </tr>\n  </tbody>\n</table>\n<p>225981 rows × 10 columns</p>\n</div>"
     },
     "execution_count": 16,
     "metadata": {},
     "output_type": "execute_result"
    }
   ],
   "source": [
    "acad_hist_validator.origin_rows_not_in_target"
   ],
   "metadata": {
    "collapsed": false,
    "ExecuteTime": {
     "end_time": "2023-05-16T00:00:57.171845500Z",
     "start_time": "2023-05-16T00:00:57.150357100Z"
    }
   }
  },
  {
   "cell_type": "code",
   "execution_count": null,
   "outputs": [],
   "source": [],
   "metadata": {
    "collapsed": false
   }
  },
  {
   "cell_type": "code",
   "execution_count": null,
   "outputs": [],
   "source": [],
   "metadata": {
    "collapsed": false
   }
  }
 ],
 "metadata": {
  "kernelspec": {
   "display_name": "Python 3",
   "language": "python",
   "name": "python3"
  },
  "language_info": {
   "codemirror_mode": {
    "name": "ipython",
    "version": 2
   },
   "file_extension": ".py",
   "mimetype": "text/x-python",
   "name": "python",
   "nbconvert_exporter": "python",
   "pygments_lexer": "ipython2",
   "version": "2.7.6"
  }
 },
 "nbformat": 4,
 "nbformat_minor": 0
}
